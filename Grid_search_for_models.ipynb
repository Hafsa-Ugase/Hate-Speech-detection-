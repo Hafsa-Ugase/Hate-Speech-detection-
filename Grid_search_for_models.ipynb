{
  "nbformat": 4,
  "nbformat_minor": 0,
  "metadata": {
    "colab": {
      "provenance": [],
      "authorship_tag": "ABX9TyMeCklgj2wqTlRRj/ENt0sa",
      "include_colab_link": true
    },
    "kernelspec": {
      "name": "python3",
      "display_name": "Python 3"
    },
    "language_info": {
      "name": "python"
    }
  },
  "cells": [
    {
      "cell_type": "markdown",
      "metadata": {
        "id": "view-in-github",
        "colab_type": "text"
      },
      "source": [
        "<a href=\"https://colab.research.google.com/github/Hafsa-Ugase/Hate-Speech-detection-/blob/main/Grid_search_for_models.ipynb\" target=\"_parent\"><img src=\"https://colab.research.google.com/assets/colab-badge.svg\" alt=\"Open In Colab\"/></a>"
      ]
    },
    {
      "cell_type": "markdown",
      "source": [
        "\n",
        "\n",
        "---\n",
        "\n",
        "\n",
        "# <font color='#2E86C1'>**`Importing libraries`** </font>\n",
        "\n",
        "\n",
        "\n",
        "---\n",
        "\n"
      ],
      "metadata": {
        "id": "sx0KomwboKXW"
      }
    },
    {
      "cell_type": "code",
      "source": [
        "!pip install tweet-preprocessor\n",
        "# importing libraries\n",
        "import pandas as pd # imports the dataset csv.\n",
        "import numpy as np\n",
        "import matplotlib.pyplot as plt\n",
        "from matplotlib.pyplot import subplots\n",
        "import nltk\n",
        "import string\n",
        "import re \n",
        "import preprocessor as pr\n",
        "import seaborn as sns\n",
        "\n",
        "\n",
        "nltk.download('stopwords')\n",
        "from nltk.corpus import stopwords\n",
        "# one way to show the data in a string values\n",
        "#\",\".join(stopwords.words('english'))\n",
        "# another way to print out the data values\n",
        "stop_wordsall= (stopwords.words('english'))\n",
        "from nltk.tokenize import TweetTokenizer\n",
        "from nltk.stem import PorterStemmer\n",
        "ps = nltk.PorterStemmer()\n",
        "\n",
        "# importing models\n",
        "\n",
        "from sklearn.model_selection import train_test_split,cross_validate , GridSearchCV\n",
        "\n",
        "from sklearn.ensemble import RandomForestClassifier\n",
        "from sklearn.ensemble import AdaBoostClassifier\n",
        "from sklearn.svm import SVC\n",
        "from sklearn.naive_bayes import MultinomialNB\n",
        "from sklearn.linear_model import LogisticRegression\n",
        "from sklearn.tree import DecisionTreeClassifier\n",
        "from sklearn.neighbors  import KNeighborsClassifier\n",
        "\n",
        "\n",
        "\n",
        "\n",
        "# importing \n",
        "from sklearn.metrics import accuracy_score\n",
        "from sklearn.feature_extraction.text import TfidfVectorizer, CountVectorizer ,TfidfTransformer\n",
        "from sklearn.metrics import classification_report\n",
        "from sklearn.metrics import accuracy_score\n",
        "from sklearn.metrics import confusion_matrix, ConfusionMatrixDisplay\n",
        "\n",
        "from imblearn.over_sampling import SMOTE\n",
        "\n",
        "\n",
        "from sklearn import metrics \n",
        "from sklearn import ensemble\n",
        "from sklearn import linear_model\n",
        "\n",
        "\n",
        "from sklearn import model_selection\n",
        "\n"
      ],
      "metadata": {
        "colab": {
          "base_uri": "https://localhost:8080/"
        },
        "id": "gL6VKAufqb4E",
        "outputId": "00f5b56a-e2ef-444b-cfe9-6561f823a675"
      },
      "execution_count": null,
      "outputs": [
        {
          "output_type": "stream",
          "name": "stdout",
          "text": [
            "Looking in indexes: https://pypi.org/simple, https://us-python.pkg.dev/colab-wheels/public/simple/\n",
            "Collecting tweet-preprocessor\n",
            "  Downloading tweet_preprocessor-0.6.0-py3-none-any.whl (27 kB)\n",
            "Installing collected packages: tweet-preprocessor\n",
            "Successfully installed tweet-preprocessor-0.6.0\n"
          ]
        },
        {
          "output_type": "stream",
          "name": "stderr",
          "text": [
            "[nltk_data] Downloading package stopwords to /root/nltk_data...\n",
            "[nltk_data]   Unzipping corpora/stopwords.zip.\n"
          ]
        }
      ]
    },
    {
      "cell_type": "markdown",
      "source": [
        "\n",
        "\n",
        "---\n",
        "\n",
        "\n",
        "# <font color='#2E86C1'>**`Data Loading`** </font>\n",
        "\n",
        "\n",
        "\n",
        "\n",
        "---\n",
        "\n"
      ],
      "metadata": {
        "id": "zCMbKUWFpkHU"
      }
    },
    {
      "cell_type": "code",
      "source": [
        "df = pd.read_csv(\"https://raw.githubusercontent.com/t-davidson/hate-speech-and-offensive-language/master/data/labeled_data.csv\")"
      ],
      "metadata": {
        "id": "7H0ns1aBs7k8"
      },
      "execution_count": null,
      "outputs": []
    },
    {
      "cell_type": "markdown",
      "source": [
        "\n",
        "\n",
        "---\n",
        "\n",
        "# <font color='#2E86C1'>**`Data preprocessing`** </font>\n",
        "\n",
        "---"
      ],
      "metadata": {
        "id": "5YxEI_BFpqGr"
      }
    },
    {
      "cell_type": "code",
      "source": [
        "from typing_extensions import Text\n",
        "def remove_pattern(text,pattern):\n",
        "    \n",
        "    # re.findall() finds the pattern i.e @user and puts it in a list for further task\n",
        "    r = re.findall(pattern,text)\n",
        "\n",
        "    # remove https links\n",
        "    text = re.sub(r\"http\\S+\", \"\", text)  \n",
        "    # remove website links\n",
        "    text = re.sub(r\"www.\\S+\", \"\", text) \n",
        "     # Remove @\n",
        "    text = re.sub(r'(@[A-Za-z0-9-_]+)', '', text)  \n",
        "     # Lowercase\n",
        "    text = text.lower()\n",
        "  \n",
        "     #re.sub() removes @user from the sentences in the dataset\n",
        "    for i in r:\n",
        "       text=  re.sub(\"@[A-Za-z0-9_]+\",\"\", text)    \n",
        "    return text\n",
        "\n",
        "# remove above mentioned\n",
        "df['Clean_Tweets'] = np.vectorize(remove_pattern)(df['tweet'], \"@[\\w]*\")\n",
        "\n",
        " # remove punction\n",
        "df['Clean_Tweets'] = df['Clean_Tweets'].str.replace(\"[^a-zA-Z]\", \" \") \n",
        "df['Clean_Tweets'] = df['Clean_Tweets'].apply(lambda x: re.sub(r'\\brt\\b', '',x).strip())\n",
        "\n",
        "#  tokenzie \n",
        "tokenized_tweet = df['Clean_Tweets'].apply(lambda x: x.split())\n",
        "tokenized_tweet=  tokenized_tweet.apply(lambda x: [word for word in x if word not in stop_wordsall]) # stop word \n",
        "tokenized_tweet = tokenized_tweet.apply(lambda x: [ps.stem(i) for i in x]) # stem\n",
        "\n",
        "for i in range(len(tokenized_tweet)):\n",
        "    tokenized_tweet[i] = ' '.join(tokenized_tweet[i])\n",
        "\n",
        "df['Clean_Tweets'] = tokenized_tweet\n"
      ],
      "metadata": {
        "colab": {
          "base_uri": "https://localhost:8080/"
        },
        "id": "RUZiTQZCs89S",
        "outputId": "2eefa0d1-e594-4adb-c49b-63d0d54edca5"
      },
      "execution_count": null,
      "outputs": [
        {
          "output_type": "stream",
          "name": "stderr",
          "text": [
            "<ipython-input-4-ca80125df1bf>:28: FutureWarning: The default value of regex will change from True to False in a future version.\n",
            "  df['Clean_Tweets'] = df['Clean_Tweets'].str.replace(\"[^a-zA-Z]\", \" \")\n"
          ]
        }
      ]
    },
    {
      "cell_type": "code",
      "source": [],
      "metadata": {
        "id": "ZGoiGnAQdHlw"
      },
      "execution_count": null,
      "outputs": []
    },
    {
      "cell_type": "markdown",
      "source": [
        "---\n",
        "\n",
        "# <font color='#2E86C1'>**`Applying the test on this two column`** </font>\n",
        "\n",
        "---"
      ],
      "metadata": {
        "id": "PLwREJDorJAt"
      }
    },
    {
      "cell_type": "code",
      "source": [
        "df_x =df ['Clean_Tweets']\n",
        "df_y =df['class'].astype(int)"
      ],
      "metadata": {
        "id": "RHYA26DitoIu"
      },
      "execution_count": null,
      "outputs": []
    },
    {
      "cell_type": "markdown",
      "source": [
        "\n",
        "\n",
        "*  How the dataset looks like and is ready for testing.\n",
        "\n"
      ],
      "metadata": {
        "id": "0zoV7wGmrbn2"
      }
    },
    {
      "cell_type": "code",
      "source": [
        "df_x.head(40)"
      ],
      "metadata": {
        "colab": {
          "base_uri": "https://localhost:8080/"
        },
        "id": "mcr2KFR_vquh",
        "outputId": "fd8c2a84-d023-4706-e005-a8d8d28de365"
      },
      "execution_count": null,
      "outputs": [
        {
          "output_type": "execute_result",
          "data": {
            "text/plain": [
              "0     woman complain clean hous amp man alway take t...\n",
              "1     boy dat cold tyga dwn bad cuffin dat hoe st place\n",
              "2            dawg ever fuck bitch start cri confus shit\n",
              "3                                      look like tranni\n",
              "4        shit hear might true might faker bitch told ya\n",
              "5         shit blow claim faith somebodi still fuck hoe\n",
              "6                 sit hate anoth bitch got much shit go\n",
              "7               caus tire big bitch come us skinni girl\n",
              "8                  amp might get ya bitch back amp that\n",
              "9                       hobbi includ fight mariam bitch\n",
              "10    keek bitch curv everyon lol walk convers like smh\n",
              "11                           murda gang bitch gang land\n",
              "12                            hoe smoke loser yea go ig\n",
              "13                                 bad bitch thing like\n",
              "14                                            bitch get\n",
              "15                                     bitch nigga miss\n",
              "16                                     bitch plz whatev\n",
              "17                                           bitch love\n",
              "18                             bitch get cut everyday b\n",
              "19                            black bottl amp bad bitch\n",
              "20                           broke bitch cant tell noth\n",
              "21                               cancel bitch like nino\n",
              "22                              cant see hoe wont chang\n",
              "23    fuck bitch dont even suck dick kermit video bo...\n",
              "24                  got ya bitch tip toe hardwood floor\n",
              "25                           pussi lip like heaven door\n",
              "26                                              hoe hit\n",
              "27                   met pussi ocean dr gave pussi pill\n",
              "28                      need trippi bitch fuck hennessi\n",
              "29                          spend money want bitch busi\n",
              "30                 txt old bitch new bitch pussi wetter\n",
              "31            say im back old old bitch would get excit\n",
              "32               aint bout murder game pussi nigga shut\n",
              "33                                 toe done pussi stink\n",
              "34       im done bitter bitch wrap angri bird there app\n",
              "35                                             ya bitch\n",
              "36                                  aint noth cut bitch\n",
              "37                   ju meet son ya mane ass bitch shot\n",
              "38                         lame cri hoe that tear clown\n",
              "39                        like snoop said dont love hoe\n",
              "Name: Clean_Tweets, dtype: object"
            ]
          },
          "metadata": {},
          "execution_count": 119
        }
      ]
    },
    {
      "cell_type": "code",
      "source": [
        "X_train, X_test, y_train, y_test = train_test_split(df_x,df_y, random_state=42, test_size=0.2)"
      ],
      "metadata": {
        "id": "akukBjBKfqP4"
      },
      "execution_count": null,
      "outputs": []
    },
    {
      "cell_type": "code",
      "source": [
        "count_vectorizer = CountVectorizer()\n",
        "\n",
        "count = CountVectorizer(stop_words=stop_wordsall)\n",
        "\n",
        "X_train_count = count.fit_transform(X_train)\n",
        "X_test_count = count.transform(X_test)"
      ],
      "metadata": {
        "id": "6l5-VRABfrwA"
      },
      "execution_count": null,
      "outputs": []
    },
    {
      "cell_type": "markdown",
      "source": [
        "\n",
        "---\n",
        "\n",
        "\n",
        "# <font color='#2E86C1'>**`Grid search Ada boost`** </font>\n",
        "\n",
        "---\n"
      ],
      "metadata": {
        "id": "HVIhirAKC41B"
      }
    },
    {
      "cell_type": "code",
      "source": [
        "Final_a = AdaBoostClassifier(random_state=42 )"
      ],
      "metadata": {
        "id": "CKnp3lrGDEWi"
      },
      "execution_count": null,
      "outputs": []
    },
    {
      "cell_type": "code",
      "source": [
        "param_grid = [ \n",
        "    \n",
        "    {'learning_rate' : [0.1,0.5,1],\n",
        "     \n",
        "     'algorithm' : ['SAMME', 'SAMME.R'],\n",
        "\n",
        "     'n_estimators' :[100,50,200]\n",
        "\n",
        "    \n",
        "\n",
        "    }\n",
        "]"
      ],
      "metadata": {
        "id": "k90n49DzDGoo"
      },
      "execution_count": null,
      "outputs": []
    },
    {
      "cell_type": "code",
      "source": [
        "ada_grid= GridSearchCV( Final_a , param_grid, \n",
        " \n",
        " # https://stackoverflow.com/questions/66620269/i-got-the-warning-userwarning-one-or-more-of-the-test-scores-are-non-finite-w\n",
        "   scoring= 'f1_micro',\n",
        "   verbose= 10,\n",
        "   cv = 5,\n",
        "  \n",
        ")"
      ],
      "metadata": {
        "id": "F6t_gIDgDJcl"
      },
      "execution_count": null,
      "outputs": []
    },
    {
      "cell_type": "code",
      "source": [
        "ada_grid.fit(X_train_count,y_train)"
      ],
      "metadata": {
        "colab": {
          "base_uri": "https://localhost:8080/",
          "height": 1000
        },
        "id": "BoE9clwcDMEE",
        "outputId": "87ed6fd9-8a68-4d5e-eb69-31585f2e4ddb"
      },
      "execution_count": null,
      "outputs": [
        {
          "output_type": "stream",
          "name": "stdout",
          "text": [
            "Fitting 5 folds for each of 18 candidates, totalling 90 fits\n",
            "[CV 1/5; 1/18] START algorithm=SAMME, learning_rate=0.1, n_estimators=100.......\n",
            "[CV 1/5; 1/18] END algorithm=SAMME, learning_rate=0.1, n_estimators=100;, score=0.775 total time=  23.7s\n",
            "[CV 2/5; 1/18] START algorithm=SAMME, learning_rate=0.1, n_estimators=100.......\n",
            "[CV 2/5; 1/18] END algorithm=SAMME, learning_rate=0.1, n_estimators=100;, score=0.775 total time=  23.1s\n",
            "[CV 3/5; 1/18] START algorithm=SAMME, learning_rate=0.1, n_estimators=100.......\n",
            "[CV 3/5; 1/18] END algorithm=SAMME, learning_rate=0.1, n_estimators=100;, score=0.775 total time=  21.8s\n",
            "[CV 4/5; 1/18] START algorithm=SAMME, learning_rate=0.1, n_estimators=100.......\n",
            "[CV 4/5; 1/18] END algorithm=SAMME, learning_rate=0.1, n_estimators=100;, score=0.775 total time=  23.0s\n",
            "[CV 5/5; 1/18] START algorithm=SAMME, learning_rate=0.1, n_estimators=100.......\n",
            "[CV 5/5; 1/18] END algorithm=SAMME, learning_rate=0.1, n_estimators=100;, score=0.775 total time=  23.1s\n",
            "[CV 1/5; 2/18] START algorithm=SAMME, learning_rate=0.1, n_estimators=50........\n",
            "[CV 1/5; 2/18] END algorithm=SAMME, learning_rate=0.1, n_estimators=50;, score=0.775 total time=  11.5s\n",
            "[CV 2/5; 2/18] START algorithm=SAMME, learning_rate=0.1, n_estimators=50........\n",
            "[CV 2/5; 2/18] END algorithm=SAMME, learning_rate=0.1, n_estimators=50;, score=0.775 total time=  11.4s\n",
            "[CV 3/5; 2/18] START algorithm=SAMME, learning_rate=0.1, n_estimators=50........\n",
            "[CV 3/5; 2/18] END algorithm=SAMME, learning_rate=0.1, n_estimators=50;, score=0.775 total time=  12.9s\n",
            "[CV 4/5; 2/18] START algorithm=SAMME, learning_rate=0.1, n_estimators=50........\n",
            "[CV 4/5; 2/18] END algorithm=SAMME, learning_rate=0.1, n_estimators=50;, score=0.775 total time=  11.4s\n",
            "[CV 5/5; 2/18] START algorithm=SAMME, learning_rate=0.1, n_estimators=50........\n",
            "[CV 5/5; 2/18] END algorithm=SAMME, learning_rate=0.1, n_estimators=50;, score=0.775 total time=  11.7s\n",
            "[CV 1/5; 3/18] START algorithm=SAMME, learning_rate=0.1, n_estimators=200.......\n",
            "[CV 1/5; 3/18] END algorithm=SAMME, learning_rate=0.1, n_estimators=200;, score=0.775 total time=  46.0s\n",
            "[CV 2/5; 3/18] START algorithm=SAMME, learning_rate=0.1, n_estimators=200.......\n",
            "[CV 2/5; 3/18] END algorithm=SAMME, learning_rate=0.1, n_estimators=200;, score=0.775 total time=  45.7s\n",
            "[CV 3/5; 3/18] START algorithm=SAMME, learning_rate=0.1, n_estimators=200.......\n",
            "[CV 3/5; 3/18] END algorithm=SAMME, learning_rate=0.1, n_estimators=200;, score=0.775 total time=  45.5s\n",
            "[CV 4/5; 3/18] START algorithm=SAMME, learning_rate=0.1, n_estimators=200.......\n",
            "[CV 4/5; 3/18] END algorithm=SAMME, learning_rate=0.1, n_estimators=200;, score=0.775 total time=  45.9s\n",
            "[CV 5/5; 3/18] START algorithm=SAMME, learning_rate=0.1, n_estimators=200.......\n",
            "[CV 5/5; 3/18] END algorithm=SAMME, learning_rate=0.1, n_estimators=200;, score=0.775 total time=  45.2s\n",
            "[CV 1/5; 4/18] START algorithm=SAMME, learning_rate=0.5, n_estimators=100.......\n",
            "[CV 1/5; 4/18] END algorithm=SAMME, learning_rate=0.5, n_estimators=100;, score=0.773 total time=  23.2s\n",
            "[CV 2/5; 4/18] START algorithm=SAMME, learning_rate=0.5, n_estimators=100.......\n",
            "[CV 2/5; 4/18] END algorithm=SAMME, learning_rate=0.5, n_estimators=100;, score=0.782 total time=  23.5s\n",
            "[CV 3/5; 4/18] START algorithm=SAMME, learning_rate=0.5, n_estimators=100.......\n",
            "[CV 3/5; 4/18] END algorithm=SAMME, learning_rate=0.5, n_estimators=100;, score=0.792 total time=  24.7s\n",
            "[CV 4/5; 4/18] START algorithm=SAMME, learning_rate=0.5, n_estimators=100.......\n",
            "[CV 4/5; 4/18] END algorithm=SAMME, learning_rate=0.5, n_estimators=100;, score=0.785 total time=  23.0s\n",
            "[CV 5/5; 4/18] START algorithm=SAMME, learning_rate=0.5, n_estimators=100.......\n",
            "[CV 5/5; 4/18] END algorithm=SAMME, learning_rate=0.5, n_estimators=100;, score=0.797 total time=  22.6s\n",
            "[CV 1/5; 5/18] START algorithm=SAMME, learning_rate=0.5, n_estimators=50........\n",
            "[CV 1/5; 5/18] END algorithm=SAMME, learning_rate=0.5, n_estimators=50;, score=0.773 total time=  11.6s\n",
            "[CV 2/5; 5/18] START algorithm=SAMME, learning_rate=0.5, n_estimators=50........\n",
            "[CV 2/5; 5/18] END algorithm=SAMME, learning_rate=0.5, n_estimators=50;, score=0.773 total time=  11.5s\n",
            "[CV 3/5; 5/18] START algorithm=SAMME, learning_rate=0.5, n_estimators=50........\n",
            "[CV 3/5; 5/18] END algorithm=SAMME, learning_rate=0.5, n_estimators=50;, score=0.782 total time=  11.5s\n",
            "[CV 4/5; 5/18] START algorithm=SAMME, learning_rate=0.5, n_estimators=50........\n",
            "[CV 4/5; 5/18] END algorithm=SAMME, learning_rate=0.5, n_estimators=50;, score=0.764 total time=  11.7s\n",
            "[CV 5/5; 5/18] START algorithm=SAMME, learning_rate=0.5, n_estimators=50........\n",
            "[CV 5/5; 5/18] END algorithm=SAMME, learning_rate=0.5, n_estimators=50;, score=0.757 total time=  11.8s\n",
            "[CV 1/5; 6/18] START algorithm=SAMME, learning_rate=0.5, n_estimators=200.......\n",
            "[CV 1/5; 6/18] END algorithm=SAMME, learning_rate=0.5, n_estimators=200;, score=0.806 total time=  55.1s\n",
            "[CV 2/5; 6/18] START algorithm=SAMME, learning_rate=0.5, n_estimators=200.......\n",
            "[CV 2/5; 6/18] END algorithm=SAMME, learning_rate=0.5, n_estimators=200;, score=0.786 total time=  45.5s\n",
            "[CV 3/5; 6/18] START algorithm=SAMME, learning_rate=0.5, n_estimators=200.......\n",
            "[CV 3/5; 6/18] END algorithm=SAMME, learning_rate=0.5, n_estimators=200;, score=0.807 total time=  45.6s\n",
            "[CV 4/5; 6/18] START algorithm=SAMME, learning_rate=0.5, n_estimators=200.......\n",
            "[CV 4/5; 6/18] END algorithm=SAMME, learning_rate=0.5, n_estimators=200;, score=0.801 total time=  48.3s\n",
            "[CV 5/5; 6/18] START algorithm=SAMME, learning_rate=0.5, n_estimators=200.......\n",
            "[CV 5/5; 6/18] END algorithm=SAMME, learning_rate=0.5, n_estimators=200;, score=0.803 total time=  45.7s\n",
            "[CV 1/5; 7/18] START algorithm=SAMME, learning_rate=1, n_estimators=100.........\n",
            "[CV 1/5; 7/18] END algorithm=SAMME, learning_rate=1, n_estimators=100;, score=0.817 total time=  23.5s\n",
            "[CV 2/5; 7/18] START algorithm=SAMME, learning_rate=1, n_estimators=100.........\n",
            "[CV 2/5; 7/18] END algorithm=SAMME, learning_rate=1, n_estimators=100;, score=0.811 total time=  23.4s\n",
            "[CV 3/5; 7/18] START algorithm=SAMME, learning_rate=1, n_estimators=100.........\n",
            "[CV 3/5; 7/18] END algorithm=SAMME, learning_rate=1, n_estimators=100;, score=0.827 total time=  23.3s\n",
            "[CV 4/5; 7/18] START algorithm=SAMME, learning_rate=1, n_estimators=100.........\n",
            "[CV 4/5; 7/18] END algorithm=SAMME, learning_rate=1, n_estimators=100;, score=0.816 total time=  21.9s\n",
            "[CV 5/5; 7/18] START algorithm=SAMME, learning_rate=1, n_estimators=100.........\n",
            "[CV 5/5; 7/18] END algorithm=SAMME, learning_rate=1, n_estimators=100;, score=0.809 total time=  25.2s\n",
            "[CV 1/5; 8/18] START algorithm=SAMME, learning_rate=1, n_estimators=50..........\n",
            "[CV 1/5; 8/18] END algorithm=SAMME, learning_rate=1, n_estimators=50;, score=0.797 total time=  11.7s\n",
            "[CV 2/5; 8/18] START algorithm=SAMME, learning_rate=1, n_estimators=50..........\n",
            "[CV 2/5; 8/18] END algorithm=SAMME, learning_rate=1, n_estimators=50;, score=0.795 total time=  11.7s\n",
            "[CV 3/5; 8/18] START algorithm=SAMME, learning_rate=1, n_estimators=50..........\n",
            "[CV 3/5; 8/18] END algorithm=SAMME, learning_rate=1, n_estimators=50;, score=0.794 total time=  11.7s\n",
            "[CV 4/5; 8/18] START algorithm=SAMME, learning_rate=1, n_estimators=50..........\n",
            "[CV 4/5; 8/18] END algorithm=SAMME, learning_rate=1, n_estimators=50;, score=0.793 total time=  11.7s\n",
            "[CV 5/5; 8/18] START algorithm=SAMME, learning_rate=1, n_estimators=50..........\n",
            "[CV 5/5; 8/18] END algorithm=SAMME, learning_rate=1, n_estimators=50;, score=0.808 total time=  11.9s\n",
            "[CV 1/5; 9/18] START algorithm=SAMME, learning_rate=1, n_estimators=200.........\n",
            "[CV 1/5; 9/18] END algorithm=SAMME, learning_rate=1, n_estimators=200;, score=0.830 total time=  46.5s\n",
            "[CV 2/5; 9/18] START algorithm=SAMME, learning_rate=1, n_estimators=200.........\n",
            "[CV 2/5; 9/18] END algorithm=SAMME, learning_rate=1, n_estimators=200;, score=0.811 total time=  48.3s\n",
            "[CV 3/5; 9/18] START algorithm=SAMME, learning_rate=1, n_estimators=200.........\n",
            "[CV 3/5; 9/18] END algorithm=SAMME, learning_rate=1, n_estimators=200;, score=0.827 total time=  46.3s\n",
            "[CV 4/5; 9/18] START algorithm=SAMME, learning_rate=1, n_estimators=200.........\n",
            "[CV 4/5; 9/18] END algorithm=SAMME, learning_rate=1, n_estimators=200;, score=0.828 total time=  45.2s\n",
            "[CV 5/5; 9/18] START algorithm=SAMME, learning_rate=1, n_estimators=200.........\n",
            "[CV 5/5; 9/18] END algorithm=SAMME, learning_rate=1, n_estimators=200;, score=0.813 total time=  47.1s\n",
            "[CV 1/5; 10/18] START algorithm=SAMME.R, learning_rate=0.1, n_estimators=100....\n",
            "[CV 1/5; 10/18] END algorithm=SAMME.R, learning_rate=0.1, n_estimators=100;, score=0.893 total time=  25.3s\n",
            "[CV 2/5; 10/18] START algorithm=SAMME.R, learning_rate=0.1, n_estimators=100....\n",
            "[CV 2/5; 10/18] END algorithm=SAMME.R, learning_rate=0.1, n_estimators=100;, score=0.889 total time=  23.5s\n",
            "[CV 3/5; 10/18] START algorithm=SAMME.R, learning_rate=0.1, n_estimators=100....\n",
            "[CV 3/5; 10/18] END algorithm=SAMME.R, learning_rate=0.1, n_estimators=100;, score=0.888 total time=  22.1s\n",
            "[CV 4/5; 10/18] START algorithm=SAMME.R, learning_rate=0.1, n_estimators=100....\n",
            "[CV 4/5; 10/18] END algorithm=SAMME.R, learning_rate=0.1, n_estimators=100;, score=0.891 total time=  24.0s\n",
            "[CV 5/5; 10/18] START algorithm=SAMME.R, learning_rate=0.1, n_estimators=100....\n",
            "[CV 5/5; 10/18] END algorithm=SAMME.R, learning_rate=0.1, n_estimators=100;, score=0.896 total time=  24.6s\n",
            "[CV 1/5; 11/18] START algorithm=SAMME.R, learning_rate=0.1, n_estimators=50.....\n",
            "[CV 1/5; 11/18] END algorithm=SAMME.R, learning_rate=0.1, n_estimators=50;, score=0.812 total time=  11.9s\n",
            "[CV 2/5; 11/18] START algorithm=SAMME.R, learning_rate=0.1, n_estimators=50.....\n",
            "[CV 2/5; 11/18] END algorithm=SAMME.R, learning_rate=0.1, n_estimators=50;, score=0.810 total time=  11.9s\n",
            "[CV 3/5; 11/18] START algorithm=SAMME.R, learning_rate=0.1, n_estimators=50.....\n",
            "[CV 3/5; 11/18] END algorithm=SAMME.R, learning_rate=0.1, n_estimators=50;, score=0.813 total time=  13.2s\n",
            "[CV 4/5; 11/18] START algorithm=SAMME.R, learning_rate=0.1, n_estimators=50.....\n",
            "[CV 4/5; 11/18] END algorithm=SAMME.R, learning_rate=0.1, n_estimators=50;, score=0.808 total time=  12.1s\n",
            "[CV 5/5; 11/18] START algorithm=SAMME.R, learning_rate=0.1, n_estimators=50.....\n",
            "[CV 5/5; 11/18] END algorithm=SAMME.R, learning_rate=0.1, n_estimators=50;, score=0.814 total time=  12.3s\n",
            "[CV 1/5; 12/18] START algorithm=SAMME.R, learning_rate=0.1, n_estimators=200....\n",
            "[CV 1/5; 12/18] END algorithm=SAMME.R, learning_rate=0.1, n_estimators=200;, score=0.896 total time=  49.1s\n",
            "[CV 2/5; 12/18] START algorithm=SAMME.R, learning_rate=0.1, n_estimators=200....\n",
            "[CV 2/5; 12/18] END algorithm=SAMME.R, learning_rate=0.1, n_estimators=200;, score=0.898 total time=  47.7s\n",
            "[CV 3/5; 12/18] START algorithm=SAMME.R, learning_rate=0.1, n_estimators=200....\n",
            "[CV 3/5; 12/18] END algorithm=SAMME.R, learning_rate=0.1, n_estimators=200;, score=0.895 total time=  48.7s\n",
            "[CV 4/5; 12/18] START algorithm=SAMME.R, learning_rate=0.1, n_estimators=200....\n",
            "[CV 4/5; 12/18] END algorithm=SAMME.R, learning_rate=0.1, n_estimators=200;, score=0.898 total time=  46.8s\n",
            "[CV 5/5; 12/18] START algorithm=SAMME.R, learning_rate=0.1, n_estimators=200....\n",
            "[CV 5/5; 12/18] END algorithm=SAMME.R, learning_rate=0.1, n_estimators=200;, score=0.904 total time=  45.9s\n",
            "[CV 1/5; 13/18] START algorithm=SAMME.R, learning_rate=0.5, n_estimators=100....\n",
            "[CV 1/5; 13/18] END algorithm=SAMME.R, learning_rate=0.5, n_estimators=100;, score=0.905 total time=  22.4s\n",
            "[CV 2/5; 13/18] START algorithm=SAMME.R, learning_rate=0.5, n_estimators=100....\n",
            "[CV 2/5; 13/18] END algorithm=SAMME.R, learning_rate=0.5, n_estimators=100;, score=0.907 total time=  23.3s\n",
            "[CV 3/5; 13/18] START algorithm=SAMME.R, learning_rate=0.5, n_estimators=100....\n",
            "[CV 3/5; 13/18] END algorithm=SAMME.R, learning_rate=0.5, n_estimators=100;, score=0.901 total time=  22.2s\n",
            "[CV 4/5; 13/18] START algorithm=SAMME.R, learning_rate=0.5, n_estimators=100....\n",
            "[CV 4/5; 13/18] END algorithm=SAMME.R, learning_rate=0.5, n_estimators=100;, score=0.901 total time=  22.4s\n",
            "[CV 5/5; 13/18] START algorithm=SAMME.R, learning_rate=0.5, n_estimators=100....\n",
            "[CV 5/5; 13/18] END algorithm=SAMME.R, learning_rate=0.5, n_estimators=100;, score=0.911 total time=  21.9s\n",
            "[CV 1/5; 14/18] START algorithm=SAMME.R, learning_rate=0.5, n_estimators=50.....\n",
            "[CV 1/5; 14/18] END algorithm=SAMME.R, learning_rate=0.5, n_estimators=50;, score=0.896 total time=  11.2s\n",
            "[CV 2/5; 14/18] START algorithm=SAMME.R, learning_rate=0.5, n_estimators=50.....\n",
            "[CV 2/5; 14/18] END algorithm=SAMME.R, learning_rate=0.5, n_estimators=50;, score=0.899 total time=  11.2s\n",
            "[CV 3/5; 14/18] START algorithm=SAMME.R, learning_rate=0.5, n_estimators=50.....\n",
            "[CV 3/5; 14/18] END algorithm=SAMME.R, learning_rate=0.5, n_estimators=50;, score=0.897 total time=  11.2s\n",
            "[CV 4/5; 14/18] START algorithm=SAMME.R, learning_rate=0.5, n_estimators=50.....\n",
            "[CV 4/5; 14/18] END algorithm=SAMME.R, learning_rate=0.5, n_estimators=50;, score=0.897 total time=  11.4s\n",
            "[CV 5/5; 14/18] START algorithm=SAMME.R, learning_rate=0.5, n_estimators=50.....\n",
            "[CV 5/5; 14/18] END algorithm=SAMME.R, learning_rate=0.5, n_estimators=50;, score=0.901 total time=  11.7s\n",
            "[CV 1/5; 15/18] START algorithm=SAMME.R, learning_rate=0.5, n_estimators=200....\n",
            "[CV 1/5; 15/18] END algorithm=SAMME.R, learning_rate=0.5, n_estimators=200;, score=0.903 total time=  49.2s\n",
            "[CV 2/5; 15/18] START algorithm=SAMME.R, learning_rate=0.5, n_estimators=200....\n",
            "[CV 2/5; 15/18] END algorithm=SAMME.R, learning_rate=0.5, n_estimators=200;, score=0.906 total time=  46.6s\n",
            "[CV 3/5; 15/18] START algorithm=SAMME.R, learning_rate=0.5, n_estimators=200....\n",
            "[CV 3/5; 15/18] END algorithm=SAMME.R, learning_rate=0.5, n_estimators=200;, score=0.898 total time=  47.1s\n",
            "[CV 4/5; 15/18] START algorithm=SAMME.R, learning_rate=0.5, n_estimators=200....\n",
            "[CV 4/5; 15/18] END algorithm=SAMME.R, learning_rate=0.5, n_estimators=200;, score=0.904 total time=  48.2s\n",
            "[CV 5/5; 15/18] START algorithm=SAMME.R, learning_rate=0.5, n_estimators=200....\n",
            "[CV 5/5; 15/18] END algorithm=SAMME.R, learning_rate=0.5, n_estimators=200;, score=0.911 total time=  47.6s\n",
            "[CV 1/5; 16/18] START algorithm=SAMME.R, learning_rate=1, n_estimators=100......\n",
            "[CV 1/5; 16/18] END algorithm=SAMME.R, learning_rate=1, n_estimators=100;, score=0.903 total time=  23.7s\n",
            "[CV 2/5; 16/18] START algorithm=SAMME.R, learning_rate=1, n_estimators=100......\n",
            "[CV 2/5; 16/18] END algorithm=SAMME.R, learning_rate=1, n_estimators=100;, score=0.908 total time=  23.4s\n",
            "[CV 3/5; 16/18] START algorithm=SAMME.R, learning_rate=1, n_estimators=100......\n",
            "[CV 3/5; 16/18] END algorithm=SAMME.R, learning_rate=1, n_estimators=100;, score=0.898 total time=  23.0s\n",
            "[CV 4/5; 16/18] START algorithm=SAMME.R, learning_rate=1, n_estimators=100......\n",
            "[CV 4/5; 16/18] END algorithm=SAMME.R, learning_rate=1, n_estimators=100;, score=0.898 total time=  23.5s\n",
            "[CV 5/5; 16/18] START algorithm=SAMME.R, learning_rate=1, n_estimators=100......\n",
            "[CV 5/5; 16/18] END algorithm=SAMME.R, learning_rate=1, n_estimators=100;, score=0.905 total time=  25.2s\n",
            "[CV 1/5; 17/18] START algorithm=SAMME.R, learning_rate=1, n_estimators=50.......\n",
            "[CV 1/5; 17/18] END algorithm=SAMME.R, learning_rate=1, n_estimators=50;, score=0.899 total time=  11.7s\n",
            "[CV 2/5; 17/18] START algorithm=SAMME.R, learning_rate=1, n_estimators=50.......\n",
            "[CV 2/5; 17/18] END algorithm=SAMME.R, learning_rate=1, n_estimators=50;, score=0.906 total time=  11.5s\n",
            "[CV 3/5; 17/18] START algorithm=SAMME.R, learning_rate=1, n_estimators=50.......\n",
            "[CV 3/5; 17/18] END algorithm=SAMME.R, learning_rate=1, n_estimators=50;, score=0.900 total time=  11.5s\n",
            "[CV 4/5; 17/18] START algorithm=SAMME.R, learning_rate=1, n_estimators=50.......\n",
            "[CV 4/5; 17/18] END algorithm=SAMME.R, learning_rate=1, n_estimators=50;, score=0.902 total time=  11.8s\n",
            "[CV 5/5; 17/18] START algorithm=SAMME.R, learning_rate=1, n_estimators=50.......\n",
            "[CV 5/5; 17/18] END algorithm=SAMME.R, learning_rate=1, n_estimators=50;, score=0.909 total time=  11.9s\n",
            "[CV 1/5; 18/18] START algorithm=SAMME.R, learning_rate=1, n_estimators=200......\n",
            "[CV 1/5; 18/18] END algorithm=SAMME.R, learning_rate=1, n_estimators=200;, score=0.892 total time=  47.1s\n",
            "[CV 2/5; 18/18] START algorithm=SAMME.R, learning_rate=1, n_estimators=200......\n",
            "[CV 2/5; 18/18] END algorithm=SAMME.R, learning_rate=1, n_estimators=200;, score=0.902 total time=  48.0s\n",
            "[CV 3/5; 18/18] START algorithm=SAMME.R, learning_rate=1, n_estimators=200......\n",
            "[CV 3/5; 18/18] END algorithm=SAMME.R, learning_rate=1, n_estimators=200;, score=0.892 total time=  45.0s\n",
            "[CV 4/5; 18/18] START algorithm=SAMME.R, learning_rate=1, n_estimators=200......\n",
            "[CV 4/5; 18/18] END algorithm=SAMME.R, learning_rate=1, n_estimators=200;, score=0.891 total time=  46.7s\n",
            "[CV 5/5; 18/18] START algorithm=SAMME.R, learning_rate=1, n_estimators=200......\n",
            "[CV 5/5; 18/18] END algorithm=SAMME.R, learning_rate=1, n_estimators=200;, score=0.904 total time=  47.0s\n"
          ]
        },
        {
          "output_type": "execute_result",
          "data": {
            "text/plain": [
              "GridSearchCV(cv=5, estimator=AdaBoostClassifier(random_state=42),\n",
              "             param_grid=[{'algorithm': ['SAMME', 'SAMME.R'],\n",
              "                          'learning_rate': [0.1, 0.5, 1],\n",
              "                          'n_estimators': [100, 50, 200]}],\n",
              "             scoring='f1_micro', verbose=10)"
            ],
            "text/html": [
              "<style>#sk-container-id-3 {color: black;background-color: white;}#sk-container-id-3 pre{padding: 0;}#sk-container-id-3 div.sk-toggleable {background-color: white;}#sk-container-id-3 label.sk-toggleable__label {cursor: pointer;display: block;width: 100%;margin-bottom: 0;padding: 0.3em;box-sizing: border-box;text-align: center;}#sk-container-id-3 label.sk-toggleable__label-arrow:before {content: \"▸\";float: left;margin-right: 0.25em;color: #696969;}#sk-container-id-3 label.sk-toggleable__label-arrow:hover:before {color: black;}#sk-container-id-3 div.sk-estimator:hover label.sk-toggleable__label-arrow:before {color: black;}#sk-container-id-3 div.sk-toggleable__content {max-height: 0;max-width: 0;overflow: hidden;text-align: left;background-color: #f0f8ff;}#sk-container-id-3 div.sk-toggleable__content pre {margin: 0.2em;color: black;border-radius: 0.25em;background-color: #f0f8ff;}#sk-container-id-3 input.sk-toggleable__control:checked~div.sk-toggleable__content {max-height: 200px;max-width: 100%;overflow: auto;}#sk-container-id-3 input.sk-toggleable__control:checked~label.sk-toggleable__label-arrow:before {content: \"▾\";}#sk-container-id-3 div.sk-estimator input.sk-toggleable__control:checked~label.sk-toggleable__label {background-color: #d4ebff;}#sk-container-id-3 div.sk-label input.sk-toggleable__control:checked~label.sk-toggleable__label {background-color: #d4ebff;}#sk-container-id-3 input.sk-hidden--visually {border: 0;clip: rect(1px 1px 1px 1px);clip: rect(1px, 1px, 1px, 1px);height: 1px;margin: -1px;overflow: hidden;padding: 0;position: absolute;width: 1px;}#sk-container-id-3 div.sk-estimator {font-family: monospace;background-color: #f0f8ff;border: 1px dotted black;border-radius: 0.25em;box-sizing: border-box;margin-bottom: 0.5em;}#sk-container-id-3 div.sk-estimator:hover {background-color: #d4ebff;}#sk-container-id-3 div.sk-parallel-item::after {content: \"\";width: 100%;border-bottom: 1px solid gray;flex-grow: 1;}#sk-container-id-3 div.sk-label:hover label.sk-toggleable__label {background-color: #d4ebff;}#sk-container-id-3 div.sk-serial::before {content: \"\";position: absolute;border-left: 1px solid gray;box-sizing: border-box;top: 0;bottom: 0;left: 50%;z-index: 0;}#sk-container-id-3 div.sk-serial {display: flex;flex-direction: column;align-items: center;background-color: white;padding-right: 0.2em;padding-left: 0.2em;position: relative;}#sk-container-id-3 div.sk-item {position: relative;z-index: 1;}#sk-container-id-3 div.sk-parallel {display: flex;align-items: stretch;justify-content: center;background-color: white;position: relative;}#sk-container-id-3 div.sk-item::before, #sk-container-id-3 div.sk-parallel-item::before {content: \"\";position: absolute;border-left: 1px solid gray;box-sizing: border-box;top: 0;bottom: 0;left: 50%;z-index: -1;}#sk-container-id-3 div.sk-parallel-item {display: flex;flex-direction: column;z-index: 1;position: relative;background-color: white;}#sk-container-id-3 div.sk-parallel-item:first-child::after {align-self: flex-end;width: 50%;}#sk-container-id-3 div.sk-parallel-item:last-child::after {align-self: flex-start;width: 50%;}#sk-container-id-3 div.sk-parallel-item:only-child::after {width: 0;}#sk-container-id-3 div.sk-dashed-wrapped {border: 1px dashed gray;margin: 0 0.4em 0.5em 0.4em;box-sizing: border-box;padding-bottom: 0.4em;background-color: white;}#sk-container-id-3 div.sk-label label {font-family: monospace;font-weight: bold;display: inline-block;line-height: 1.2em;}#sk-container-id-3 div.sk-label-container {text-align: center;}#sk-container-id-3 div.sk-container {/* jupyter's `normalize.less` sets `[hidden] { display: none; }` but bootstrap.min.css set `[hidden] { display: none !important; }` so we also need the `!important` here to be able to override the default hidden behavior on the sphinx rendered scikit-learn.org. See: https://github.com/scikit-learn/scikit-learn/issues/21755 */display: inline-block !important;position: relative;}#sk-container-id-3 div.sk-text-repr-fallback {display: none;}</style><div id=\"sk-container-id-3\" class=\"sk-top-container\"><div class=\"sk-text-repr-fallback\"><pre>GridSearchCV(cv=5, estimator=AdaBoostClassifier(random_state=42),\n",
              "             param_grid=[{&#x27;algorithm&#x27;: [&#x27;SAMME&#x27;, &#x27;SAMME.R&#x27;],\n",
              "                          &#x27;learning_rate&#x27;: [0.1, 0.5, 1],\n",
              "                          &#x27;n_estimators&#x27;: [100, 50, 200]}],\n",
              "             scoring=&#x27;f1_micro&#x27;, verbose=10)</pre><b>In a Jupyter environment, please rerun this cell to show the HTML representation or trust the notebook. <br />On GitHub, the HTML representation is unable to render, please try loading this page with nbviewer.org.</b></div><div class=\"sk-container\" hidden><div class=\"sk-item sk-dashed-wrapped\"><div class=\"sk-label-container\"><div class=\"sk-label sk-toggleable\"><input class=\"sk-toggleable__control sk-hidden--visually\" id=\"sk-estimator-id-5\" type=\"checkbox\" ><label for=\"sk-estimator-id-5\" class=\"sk-toggleable__label sk-toggleable__label-arrow\">GridSearchCV</label><div class=\"sk-toggleable__content\"><pre>GridSearchCV(cv=5, estimator=AdaBoostClassifier(random_state=42),\n",
              "             param_grid=[{&#x27;algorithm&#x27;: [&#x27;SAMME&#x27;, &#x27;SAMME.R&#x27;],\n",
              "                          &#x27;learning_rate&#x27;: [0.1, 0.5, 1],\n",
              "                          &#x27;n_estimators&#x27;: [100, 50, 200]}],\n",
              "             scoring=&#x27;f1_micro&#x27;, verbose=10)</pre></div></div></div><div class=\"sk-parallel\"><div class=\"sk-parallel-item\"><div class=\"sk-item\"><div class=\"sk-label-container\"><div class=\"sk-label sk-toggleable\"><input class=\"sk-toggleable__control sk-hidden--visually\" id=\"sk-estimator-id-6\" type=\"checkbox\" ><label for=\"sk-estimator-id-6\" class=\"sk-toggleable__label sk-toggleable__label-arrow\">estimator: AdaBoostClassifier</label><div class=\"sk-toggleable__content\"><pre>AdaBoostClassifier(random_state=42)</pre></div></div></div><div class=\"sk-serial\"><div class=\"sk-item\"><div class=\"sk-estimator sk-toggleable\"><input class=\"sk-toggleable__control sk-hidden--visually\" id=\"sk-estimator-id-7\" type=\"checkbox\" ><label for=\"sk-estimator-id-7\" class=\"sk-toggleable__label sk-toggleable__label-arrow\">AdaBoostClassifier</label><div class=\"sk-toggleable__content\"><pre>AdaBoostClassifier(random_state=42)</pre></div></div></div></div></div></div></div></div></div></div>"
            ]
          },
          "metadata": {},
          "execution_count": 23
        }
      ]
    },
    {
      "cell_type": "markdown",
      "source": [
        "---\n",
        "\n",
        "\n",
        "# <font color='#2E86C1'>**`Grid search Random Forest`** </font>\n",
        "\n",
        "---"
      ],
      "metadata": {
        "id": "7GNJaUeUO2ip"
      }
    },
    {
      "cell_type": "code",
      "source": [
        "Final_r = RandomForestClassifier(class_weight='balanced', random_state=42, n_jobs= 1 )"
      ],
      "metadata": {
        "id": "sqqg4shOOr8x"
      },
      "execution_count": null,
      "outputs": []
    },
    {
      "cell_type": "code",
      "source": [
        "param_grid = [ \n",
        "  \n",
        "    {\n",
        "      \"n_estimators\" : [100,1500,100],\n",
        "\n",
        "     'max_depth' : [1,20],\n",
        "     'criterion' : ['gini' , 'entropy'],\n",
        "\n",
        "    } \n",
        "]\n"
      ],
      "metadata": {
        "id": "CKyN1enCOs-L"
      },
      "execution_count": null,
      "outputs": []
    },
    {
      "cell_type": "code",
      "source": [
        "random_grid = GridSearchCV( Final_r , param_grid, \n",
        " \n",
        " # https://stackoverflow.com/questions/66620269/i-got-the-warning-userwarning-one-or-more-of-the-test-scores-are-non-finite-w\n",
        "   scoring= 'f1_micro',\n",
        "   verbose= 10,\n",
        "   cv = 5,\n",
        "  \n",
        ")"
      ],
      "metadata": {
        "id": "EfphWJ_fOwJh"
      },
      "execution_count": null,
      "outputs": []
    },
    {
      "cell_type": "code",
      "source": [
        "random_grid.fit(X_train_count,y_train)"
      ],
      "metadata": {
        "colab": {
          "base_uri": "https://localhost:8080/",
          "height": 1000
        },
        "id": "4NKRrPLfOywt",
        "outputId": "4ddc5866-946a-4f52-fd43-adf66a8ec73b"
      },
      "execution_count": null,
      "outputs": [
        {
          "output_type": "stream",
          "name": "stdout",
          "text": [
            "Fitting 5 folds for each of 12 candidates, totalling 60 fits\n",
            "[CV 1/5; 1/12] START criterion=gini, max_depth=1, n_estimators=100..............\n",
            "[CV 1/5; 1/12] END criterion=gini, max_depth=1, n_estimators=100;, score=0.736 total time=   1.2s\n",
            "[CV 2/5; 1/12] START criterion=gini, max_depth=1, n_estimators=100..............\n",
            "[CV 2/5; 1/12] END criterion=gini, max_depth=1, n_estimators=100;, score=0.745 total time=   0.7s\n",
            "[CV 3/5; 1/12] START criterion=gini, max_depth=1, n_estimators=100..............\n",
            "[CV 3/5; 1/12] END criterion=gini, max_depth=1, n_estimators=100;, score=0.708 total time=   0.7s\n",
            "[CV 4/5; 1/12] START criterion=gini, max_depth=1, n_estimators=100..............\n",
            "[CV 4/5; 1/12] END criterion=gini, max_depth=1, n_estimators=100;, score=0.787 total time=   0.7s\n",
            "[CV 5/5; 1/12] START criterion=gini, max_depth=1, n_estimators=100..............\n",
            "[CV 5/5; 1/12] END criterion=gini, max_depth=1, n_estimators=100;, score=0.736 total time=   0.7s\n",
            "[CV 1/5; 2/12] START criterion=gini, max_depth=1, n_estimators=1500.............\n",
            "[CV 1/5; 2/12] END criterion=gini, max_depth=1, n_estimators=1500;, score=0.840 total time=  11.5s\n",
            "[CV 2/5; 2/12] START criterion=gini, max_depth=1, n_estimators=1500.............\n",
            "[CV 2/5; 2/12] END criterion=gini, max_depth=1, n_estimators=1500;, score=0.853 total time=  10.7s\n",
            "[CV 3/5; 2/12] START criterion=gini, max_depth=1, n_estimators=1500.............\n",
            "[CV 3/5; 2/12] END criterion=gini, max_depth=1, n_estimators=1500;, score=0.788 total time=  10.7s\n",
            "[CV 4/5; 2/12] START criterion=gini, max_depth=1, n_estimators=1500.............\n",
            "[CV 4/5; 2/12] END criterion=gini, max_depth=1, n_estimators=1500;, score=0.846 total time=  11.7s\n",
            "[CV 5/5; 2/12] START criterion=gini, max_depth=1, n_estimators=1500.............\n",
            "[CV 5/5; 2/12] END criterion=gini, max_depth=1, n_estimators=1500;, score=0.841 total time=  10.4s\n",
            "[CV 1/5; 3/12] START criterion=gini, max_depth=1, n_estimators=100..............\n",
            "[CV 1/5; 3/12] END criterion=gini, max_depth=1, n_estimators=100;, score=0.736 total time=   0.9s\n",
            "[CV 2/5; 3/12] START criterion=gini, max_depth=1, n_estimators=100..............\n",
            "[CV 2/5; 3/12] END criterion=gini, max_depth=1, n_estimators=100;, score=0.745 total time=   0.7s\n",
            "[CV 3/5; 3/12] START criterion=gini, max_depth=1, n_estimators=100..............\n",
            "[CV 3/5; 3/12] END criterion=gini, max_depth=1, n_estimators=100;, score=0.708 total time=   0.7s\n",
            "[CV 4/5; 3/12] START criterion=gini, max_depth=1, n_estimators=100..............\n",
            "[CV 4/5; 3/12] END criterion=gini, max_depth=1, n_estimators=100;, score=0.787 total time=   0.7s\n",
            "[CV 5/5; 3/12] START criterion=gini, max_depth=1, n_estimators=100..............\n",
            "[CV 5/5; 3/12] END criterion=gini, max_depth=1, n_estimators=100;, score=0.736 total time=   0.7s\n",
            "[CV 1/5; 4/12] START criterion=gini, max_depth=20, n_estimators=100.............\n",
            "[CV 1/5; 4/12] END criterion=gini, max_depth=20, n_estimators=100;, score=0.861 total time=   4.9s\n",
            "[CV 2/5; 4/12] START criterion=gini, max_depth=20, n_estimators=100.............\n",
            "[CV 2/5; 4/12] END criterion=gini, max_depth=20, n_estimators=100;, score=0.868 total time=   6.1s\n",
            "[CV 3/5; 4/12] START criterion=gini, max_depth=20, n_estimators=100.............\n",
            "[CV 3/5; 4/12] END criterion=gini, max_depth=20, n_estimators=100;, score=0.857 total time=   5.1s\n",
            "[CV 4/5; 4/12] START criterion=gini, max_depth=20, n_estimators=100.............\n",
            "[CV 4/5; 4/12] END criterion=gini, max_depth=20, n_estimators=100;, score=0.864 total time=   6.1s\n",
            "[CV 5/5; 4/12] START criterion=gini, max_depth=20, n_estimators=100.............\n",
            "[CV 5/5; 4/12] END criterion=gini, max_depth=20, n_estimators=100;, score=0.868 total time=   5.1s\n",
            "[CV 1/5; 5/12] START criterion=gini, max_depth=20, n_estimators=1500............\n",
            "[CV 1/5; 5/12] END criterion=gini, max_depth=20, n_estimators=1500;, score=0.862 total time= 1.3min\n",
            "[CV 2/5; 5/12] START criterion=gini, max_depth=20, n_estimators=1500............\n",
            "[CV 2/5; 5/12] END criterion=gini, max_depth=20, n_estimators=1500;, score=0.869 total time= 1.4min\n",
            "[CV 3/5; 5/12] START criterion=gini, max_depth=20, n_estimators=1500............\n",
            "[CV 3/5; 5/12] END criterion=gini, max_depth=20, n_estimators=1500;, score=0.856 total time= 1.3min\n",
            "[CV 4/5; 5/12] START criterion=gini, max_depth=20, n_estimators=1500............\n",
            "[CV 4/5; 5/12] END criterion=gini, max_depth=20, n_estimators=1500;, score=0.865 total time= 1.4min\n",
            "[CV 5/5; 5/12] START criterion=gini, max_depth=20, n_estimators=1500............\n",
            "[CV 5/5; 5/12] END criterion=gini, max_depth=20, n_estimators=1500;, score=0.867 total time= 1.4min\n",
            "[CV 1/5; 6/12] START criterion=gini, max_depth=20, n_estimators=100.............\n",
            "[CV 1/5; 6/12] END criterion=gini, max_depth=20, n_estimators=100;, score=0.861 total time=   5.1s\n",
            "[CV 2/5; 6/12] START criterion=gini, max_depth=20, n_estimators=100.............\n",
            "[CV 2/5; 6/12] END criterion=gini, max_depth=20, n_estimators=100;, score=0.868 total time=   5.0s\n",
            "[CV 3/5; 6/12] START criterion=gini, max_depth=20, n_estimators=100.............\n",
            "[CV 3/5; 6/12] END criterion=gini, max_depth=20, n_estimators=100;, score=0.857 total time=   6.0s\n",
            "[CV 4/5; 6/12] START criterion=gini, max_depth=20, n_estimators=100.............\n",
            "[CV 4/5; 6/12] END criterion=gini, max_depth=20, n_estimators=100;, score=0.864 total time=   4.9s\n",
            "[CV 5/5; 6/12] START criterion=gini, max_depth=20, n_estimators=100.............\n",
            "[CV 5/5; 6/12] END criterion=gini, max_depth=20, n_estimators=100;, score=0.868 total time=   6.1s\n",
            "[CV 1/5; 7/12] START criterion=entropy, max_depth=1, n_estimators=100...........\n",
            "[CV 1/5; 7/12] END criterion=entropy, max_depth=1, n_estimators=100;, score=0.736 total time=   0.7s\n",
            "[CV 2/5; 7/12] START criterion=entropy, max_depth=1, n_estimators=100...........\n",
            "[CV 2/5; 7/12] END criterion=entropy, max_depth=1, n_estimators=100;, score=0.743 total time=   0.6s\n",
            "[CV 3/5; 7/12] START criterion=entropy, max_depth=1, n_estimators=100...........\n",
            "[CV 3/5; 7/12] END criterion=entropy, max_depth=1, n_estimators=100;, score=0.711 total time=   0.7s\n",
            "[CV 4/5; 7/12] START criterion=entropy, max_depth=1, n_estimators=100...........\n",
            "[CV 4/5; 7/12] END criterion=entropy, max_depth=1, n_estimators=100;, score=0.790 total time=   0.6s\n",
            "[CV 5/5; 7/12] START criterion=entropy, max_depth=1, n_estimators=100...........\n",
            "[CV 5/5; 7/12] END criterion=entropy, max_depth=1, n_estimators=100;, score=0.738 total time=   0.6s\n",
            "[CV 1/5; 8/12] START criterion=entropy, max_depth=1, n_estimators=1500..........\n",
            "[CV 1/5; 8/12] END criterion=entropy, max_depth=1, n_estimators=1500;, score=0.840 total time=  10.3s\n",
            "[CV 2/5; 8/12] START criterion=entropy, max_depth=1, n_estimators=1500..........\n",
            "[CV 2/5; 8/12] END criterion=entropy, max_depth=1, n_estimators=1500;, score=0.854 total time=  10.2s\n",
            "[CV 3/5; 8/12] START criterion=entropy, max_depth=1, n_estimators=1500..........\n",
            "[CV 3/5; 8/12] END criterion=entropy, max_depth=1, n_estimators=1500;, score=0.789 total time=   9.9s\n",
            "[CV 4/5; 8/12] START criterion=entropy, max_depth=1, n_estimators=1500..........\n",
            "[CV 4/5; 8/12] END criterion=entropy, max_depth=1, n_estimators=1500;, score=0.845 total time=  10.6s\n",
            "[CV 5/5; 8/12] START criterion=entropy, max_depth=1, n_estimators=1500..........\n",
            "[CV 5/5; 8/12] END criterion=entropy, max_depth=1, n_estimators=1500;, score=0.839 total time=  10.8s\n",
            "[CV 1/5; 9/12] START criterion=entropy, max_depth=1, n_estimators=100...........\n",
            "[CV 1/5; 9/12] END criterion=entropy, max_depth=1, n_estimators=100;, score=0.736 total time=   0.6s\n",
            "[CV 2/5; 9/12] START criterion=entropy, max_depth=1, n_estimators=100...........\n",
            "[CV 2/5; 9/12] END criterion=entropy, max_depth=1, n_estimators=100;, score=0.743 total time=   0.7s\n",
            "[CV 3/5; 9/12] START criterion=entropy, max_depth=1, n_estimators=100...........\n",
            "[CV 3/5; 9/12] END criterion=entropy, max_depth=1, n_estimators=100;, score=0.711 total time=   0.7s\n",
            "[CV 4/5; 9/12] START criterion=entropy, max_depth=1, n_estimators=100...........\n",
            "[CV 4/5; 9/12] END criterion=entropy, max_depth=1, n_estimators=100;, score=0.790 total time=   0.7s\n",
            "[CV 5/5; 9/12] START criterion=entropy, max_depth=1, n_estimators=100...........\n",
            "[CV 5/5; 9/12] END criterion=entropy, max_depth=1, n_estimators=100;, score=0.738 total time=   0.7s\n",
            "[CV 1/5; 10/12] START criterion=entropy, max_depth=20, n_estimators=100.........\n",
            "[CV 1/5; 10/12] END criterion=entropy, max_depth=20, n_estimators=100;, score=0.864 total time=   5.9s\n",
            "[CV 2/5; 10/12] START criterion=entropy, max_depth=20, n_estimators=100.........\n",
            "[CV 2/5; 10/12] END criterion=entropy, max_depth=20, n_estimators=100;, score=0.869 total time=   4.9s\n",
            "[CV 3/5; 10/12] START criterion=entropy, max_depth=20, n_estimators=100.........\n",
            "[CV 3/5; 10/12] END criterion=entropy, max_depth=20, n_estimators=100;, score=0.864 total time=   5.8s\n",
            "[CV 4/5; 10/12] START criterion=entropy, max_depth=20, n_estimators=100.........\n",
            "[CV 4/5; 10/12] END criterion=entropy, max_depth=20, n_estimators=100;, score=0.865 total time=   5.1s\n",
            "[CV 5/5; 10/12] START criterion=entropy, max_depth=20, n_estimators=100.........\n",
            "[CV 5/5; 10/12] END criterion=entropy, max_depth=20, n_estimators=100;, score=0.871 total time=   5.0s\n",
            "[CV 1/5; 11/12] START criterion=entropy, max_depth=20, n_estimators=1500........\n",
            "[CV 1/5; 11/12] END criterion=entropy, max_depth=20, n_estimators=1500;, score=0.863 total time= 1.3min\n",
            "[CV 2/5; 11/12] START criterion=entropy, max_depth=20, n_estimators=1500........\n",
            "[CV 2/5; 11/12] END criterion=entropy, max_depth=20, n_estimators=1500;, score=0.869 total time= 1.3min\n",
            "[CV 3/5; 11/12] START criterion=entropy, max_depth=20, n_estimators=1500........\n",
            "[CV 3/5; 11/12] END criterion=entropy, max_depth=20, n_estimators=1500;, score=0.857 total time= 1.3min\n",
            "[CV 4/5; 11/12] START criterion=entropy, max_depth=20, n_estimators=1500........\n",
            "[CV 4/5; 11/12] END criterion=entropy, max_depth=20, n_estimators=1500;, score=0.865 total time= 1.3min\n",
            "[CV 5/5; 11/12] START criterion=entropy, max_depth=20, n_estimators=1500........\n",
            "[CV 5/5; 11/12] END criterion=entropy, max_depth=20, n_estimators=1500;, score=0.867 total time= 1.5min\n",
            "[CV 1/5; 12/12] START criterion=entropy, max_depth=20, n_estimators=100.........\n",
            "[CV 1/5; 12/12] END criterion=entropy, max_depth=20, n_estimators=100;, score=0.864 total time=   5.9s\n",
            "[CV 2/5; 12/12] START criterion=entropy, max_depth=20, n_estimators=100.........\n",
            "[CV 2/5; 12/12] END criterion=entropy, max_depth=20, n_estimators=100;, score=0.869 total time=   5.0s\n",
            "[CV 3/5; 12/12] START criterion=entropy, max_depth=20, n_estimators=100.........\n",
            "[CV 3/5; 12/12] END criterion=entropy, max_depth=20, n_estimators=100;, score=0.864 total time=   4.8s\n",
            "[CV 4/5; 12/12] START criterion=entropy, max_depth=20, n_estimators=100.........\n",
            "[CV 4/5; 12/12] END criterion=entropy, max_depth=20, n_estimators=100;, score=0.865 total time=   6.0s\n",
            "[CV 5/5; 12/12] START criterion=entropy, max_depth=20, n_estimators=100.........\n",
            "[CV 5/5; 12/12] END criterion=entropy, max_depth=20, n_estimators=100;, score=0.871 total time=   4.9s\n"
          ]
        },
        {
          "output_type": "execute_result",
          "data": {
            "text/plain": [
              "GridSearchCV(cv=5,\n",
              "             estimator=RandomForestClassifier(class_weight='balanced', n_jobs=1,\n",
              "                                              random_state=42),\n",
              "             param_grid=[{'criterion': ['gini', 'entropy'],\n",
              "                          'max_depth': [1, 20],\n",
              "                          'n_estimators': [100, 1500, 100]}],\n",
              "             scoring='f1_micro', verbose=10)"
            ],
            "text/html": [
              "<style>#sk-container-id-4 {color: black;background-color: white;}#sk-container-id-4 pre{padding: 0;}#sk-container-id-4 div.sk-toggleable {background-color: white;}#sk-container-id-4 label.sk-toggleable__label {cursor: pointer;display: block;width: 100%;margin-bottom: 0;padding: 0.3em;box-sizing: border-box;text-align: center;}#sk-container-id-4 label.sk-toggleable__label-arrow:before {content: \"▸\";float: left;margin-right: 0.25em;color: #696969;}#sk-container-id-4 label.sk-toggleable__label-arrow:hover:before {color: black;}#sk-container-id-4 div.sk-estimator:hover label.sk-toggleable__label-arrow:before {color: black;}#sk-container-id-4 div.sk-toggleable__content {max-height: 0;max-width: 0;overflow: hidden;text-align: left;background-color: #f0f8ff;}#sk-container-id-4 div.sk-toggleable__content pre {margin: 0.2em;color: black;border-radius: 0.25em;background-color: #f0f8ff;}#sk-container-id-4 input.sk-toggleable__control:checked~div.sk-toggleable__content {max-height: 200px;max-width: 100%;overflow: auto;}#sk-container-id-4 input.sk-toggleable__control:checked~label.sk-toggleable__label-arrow:before {content: \"▾\";}#sk-container-id-4 div.sk-estimator input.sk-toggleable__control:checked~label.sk-toggleable__label {background-color: #d4ebff;}#sk-container-id-4 div.sk-label input.sk-toggleable__control:checked~label.sk-toggleable__label {background-color: #d4ebff;}#sk-container-id-4 input.sk-hidden--visually {border: 0;clip: rect(1px 1px 1px 1px);clip: rect(1px, 1px, 1px, 1px);height: 1px;margin: -1px;overflow: hidden;padding: 0;position: absolute;width: 1px;}#sk-container-id-4 div.sk-estimator {font-family: monospace;background-color: #f0f8ff;border: 1px dotted black;border-radius: 0.25em;box-sizing: border-box;margin-bottom: 0.5em;}#sk-container-id-4 div.sk-estimator:hover {background-color: #d4ebff;}#sk-container-id-4 div.sk-parallel-item::after {content: \"\";width: 100%;border-bottom: 1px solid gray;flex-grow: 1;}#sk-container-id-4 div.sk-label:hover label.sk-toggleable__label {background-color: #d4ebff;}#sk-container-id-4 div.sk-serial::before {content: \"\";position: absolute;border-left: 1px solid gray;box-sizing: border-box;top: 0;bottom: 0;left: 50%;z-index: 0;}#sk-container-id-4 div.sk-serial {display: flex;flex-direction: column;align-items: center;background-color: white;padding-right: 0.2em;padding-left: 0.2em;position: relative;}#sk-container-id-4 div.sk-item {position: relative;z-index: 1;}#sk-container-id-4 div.sk-parallel {display: flex;align-items: stretch;justify-content: center;background-color: white;position: relative;}#sk-container-id-4 div.sk-item::before, #sk-container-id-4 div.sk-parallel-item::before {content: \"\";position: absolute;border-left: 1px solid gray;box-sizing: border-box;top: 0;bottom: 0;left: 50%;z-index: -1;}#sk-container-id-4 div.sk-parallel-item {display: flex;flex-direction: column;z-index: 1;position: relative;background-color: white;}#sk-container-id-4 div.sk-parallel-item:first-child::after {align-self: flex-end;width: 50%;}#sk-container-id-4 div.sk-parallel-item:last-child::after {align-self: flex-start;width: 50%;}#sk-container-id-4 div.sk-parallel-item:only-child::after {width: 0;}#sk-container-id-4 div.sk-dashed-wrapped {border: 1px dashed gray;margin: 0 0.4em 0.5em 0.4em;box-sizing: border-box;padding-bottom: 0.4em;background-color: white;}#sk-container-id-4 div.sk-label label {font-family: monospace;font-weight: bold;display: inline-block;line-height: 1.2em;}#sk-container-id-4 div.sk-label-container {text-align: center;}#sk-container-id-4 div.sk-container {/* jupyter's `normalize.less` sets `[hidden] { display: none; }` but bootstrap.min.css set `[hidden] { display: none !important; }` so we also need the `!important` here to be able to override the default hidden behavior on the sphinx rendered scikit-learn.org. See: https://github.com/scikit-learn/scikit-learn/issues/21755 */display: inline-block !important;position: relative;}#sk-container-id-4 div.sk-text-repr-fallback {display: none;}</style><div id=\"sk-container-id-4\" class=\"sk-top-container\"><div class=\"sk-text-repr-fallback\"><pre>GridSearchCV(cv=5,\n",
              "             estimator=RandomForestClassifier(class_weight=&#x27;balanced&#x27;, n_jobs=1,\n",
              "                                              random_state=42),\n",
              "             param_grid=[{&#x27;criterion&#x27;: [&#x27;gini&#x27;, &#x27;entropy&#x27;],\n",
              "                          &#x27;max_depth&#x27;: [1, 20],\n",
              "                          &#x27;n_estimators&#x27;: [100, 1500, 100]}],\n",
              "             scoring=&#x27;f1_micro&#x27;, verbose=10)</pre><b>In a Jupyter environment, please rerun this cell to show the HTML representation or trust the notebook. <br />On GitHub, the HTML representation is unable to render, please try loading this page with nbviewer.org.</b></div><div class=\"sk-container\" hidden><div class=\"sk-item sk-dashed-wrapped\"><div class=\"sk-label-container\"><div class=\"sk-label sk-toggleable\"><input class=\"sk-toggleable__control sk-hidden--visually\" id=\"sk-estimator-id-8\" type=\"checkbox\" ><label for=\"sk-estimator-id-8\" class=\"sk-toggleable__label sk-toggleable__label-arrow\">GridSearchCV</label><div class=\"sk-toggleable__content\"><pre>GridSearchCV(cv=5,\n",
              "             estimator=RandomForestClassifier(class_weight=&#x27;balanced&#x27;, n_jobs=1,\n",
              "                                              random_state=42),\n",
              "             param_grid=[{&#x27;criterion&#x27;: [&#x27;gini&#x27;, &#x27;entropy&#x27;],\n",
              "                          &#x27;max_depth&#x27;: [1, 20],\n",
              "                          &#x27;n_estimators&#x27;: [100, 1500, 100]}],\n",
              "             scoring=&#x27;f1_micro&#x27;, verbose=10)</pre></div></div></div><div class=\"sk-parallel\"><div class=\"sk-parallel-item\"><div class=\"sk-item\"><div class=\"sk-label-container\"><div class=\"sk-label sk-toggleable\"><input class=\"sk-toggleable__control sk-hidden--visually\" id=\"sk-estimator-id-9\" type=\"checkbox\" ><label for=\"sk-estimator-id-9\" class=\"sk-toggleable__label sk-toggleable__label-arrow\">estimator: RandomForestClassifier</label><div class=\"sk-toggleable__content\"><pre>RandomForestClassifier(class_weight=&#x27;balanced&#x27;, n_jobs=1, random_state=42)</pre></div></div></div><div class=\"sk-serial\"><div class=\"sk-item\"><div class=\"sk-estimator sk-toggleable\"><input class=\"sk-toggleable__control sk-hidden--visually\" id=\"sk-estimator-id-10\" type=\"checkbox\" ><label for=\"sk-estimator-id-10\" class=\"sk-toggleable__label sk-toggleable__label-arrow\">RandomForestClassifier</label><div class=\"sk-toggleable__content\"><pre>RandomForestClassifier(class_weight=&#x27;balanced&#x27;, n_jobs=1, random_state=42)</pre></div></div></div></div></div></div></div></div></div></div>"
            ]
          },
          "metadata": {},
          "execution_count": 27
        }
      ]
    },
    {
      "cell_type": "markdown",
      "source": [
        "---\n",
        "\n",
        "\n",
        "# <font color='#2E86C1'>**`Grid search KNN`** </font>\n",
        "\n",
        "---"
      ],
      "metadata": {
        "id": "7jZt-26TUQkw"
      }
    },
    {
      "cell_type": "code",
      "source": [
        "Final_k =KNeighborsClassifier()"
      ],
      "metadata": {
        "id": "Qv5zPHSSUQMy"
      },
      "execution_count": null,
      "outputs": []
    },
    {
      "cell_type": "code",
      "source": [
        "param_grid = [ \n",
        "    \n",
        "    {'n_neighbors' : [3,4,5,7,9],\n",
        "     \n",
        "     'weights' : ['uniform', 'distance'],\n",
        "\n",
        "     'algorithm' :['auto','kd_tree','brute','ball_tree']\n",
        "\n",
        "    \n",
        "\n",
        "    }\n",
        "]"
      ],
      "metadata": {
        "id": "j8AQn-XdVik8"
      },
      "execution_count": null,
      "outputs": []
    },
    {
      "cell_type": "code",
      "source": [
        "knn_grid= GridSearchCV( Final_k , param_grid, \n",
        " \n",
        " # https://stackoverflow.com/questions/66620269/i-got-the-warning-userwarning-one-or-more-of-the-test-scores-are-non-finite-w\n",
        "   scoring= 'f1_micro',\n",
        "   verbose= 10,\n",
        "   cv = 5,\n",
        "  \n",
        ")"
      ],
      "metadata": {
        "id": "sfeyoFwHXPd7"
      },
      "execution_count": null,
      "outputs": []
    },
    {
      "cell_type": "markdown",
      "source": [
        "**it took 7 min**"
      ],
      "metadata": {
        "id": "80QrBwLTZQuS"
      }
    },
    {
      "cell_type": "code",
      "source": [
        "knn_grid.fit(X_train_count,y_train)"
      ],
      "metadata": {
        "colab": {
          "base_uri": "https://localhost:8080/",
          "height": 1000
        },
        "id": "6pUQ40WVXTZf",
        "outputId": "797cfd4b-5a62-41c8-c844-3a018cb6da58"
      },
      "execution_count": null,
      "outputs": [
        {
          "output_type": "stream",
          "name": "stdout",
          "text": [
            "Fitting 5 folds for each of 40 candidates, totalling 200 fits\n",
            "[CV 1/5; 1/40] START algorithm=auto, n_neighbors=3, weights=uniform.............\n",
            "[CV 1/5; 1/40] END algorithm=auto, n_neighbors=3, weights=uniform;, score=0.842 total time=   2.7s\n",
            "[CV 2/5; 1/40] START algorithm=auto, n_neighbors=3, weights=uniform.............\n",
            "[CV 2/5; 1/40] END algorithm=auto, n_neighbors=3, weights=uniform;, score=0.852 total time=   2.0s\n",
            "[CV 3/5; 1/40] START algorithm=auto, n_neighbors=3, weights=uniform.............\n",
            "[CV 3/5; 1/40] END algorithm=auto, n_neighbors=3, weights=uniform;, score=0.846 total time=   1.9s\n",
            "[CV 4/5; 1/40] START algorithm=auto, n_neighbors=3, weights=uniform.............\n",
            "[CV 4/5; 1/40] END algorithm=auto, n_neighbors=3, weights=uniform;, score=0.859 total time=   1.9s\n",
            "[CV 5/5; 1/40] START algorithm=auto, n_neighbors=3, weights=uniform.............\n",
            "[CV 5/5; 1/40] END algorithm=auto, n_neighbors=3, weights=uniform;, score=0.853 total time=   1.9s\n",
            "[CV 1/5; 2/40] START algorithm=auto, n_neighbors=3, weights=distance............\n",
            "[CV 1/5; 2/40] END algorithm=auto, n_neighbors=3, weights=distance;, score=0.843 total time=   1.8s\n",
            "[CV 2/5; 2/40] START algorithm=auto, n_neighbors=3, weights=distance............\n",
            "[CV 2/5; 2/40] END algorithm=auto, n_neighbors=3, weights=distance;, score=0.853 total time=   1.9s\n",
            "[CV 3/5; 2/40] START algorithm=auto, n_neighbors=3, weights=distance............\n",
            "[CV 3/5; 2/40] END algorithm=auto, n_neighbors=3, weights=distance;, score=0.847 total time=   2.1s\n",
            "[CV 4/5; 2/40] START algorithm=auto, n_neighbors=3, weights=distance............\n",
            "[CV 4/5; 2/40] END algorithm=auto, n_neighbors=3, weights=distance;, score=0.860 total time=   1.7s\n",
            "[CV 5/5; 2/40] START algorithm=auto, n_neighbors=3, weights=distance............\n",
            "[CV 5/5; 2/40] END algorithm=auto, n_neighbors=3, weights=distance;, score=0.855 total time=   1.8s\n",
            "[CV 1/5; 3/40] START algorithm=auto, n_neighbors=4, weights=uniform.............\n",
            "[CV 1/5; 3/40] END algorithm=auto, n_neighbors=4, weights=uniform;, score=0.838 total time=   2.3s\n",
            "[CV 2/5; 3/40] START algorithm=auto, n_neighbors=4, weights=uniform.............\n",
            "[CV 2/5; 3/40] END algorithm=auto, n_neighbors=4, weights=uniform;, score=0.832 total time=   2.2s\n",
            "[CV 3/5; 3/40] START algorithm=auto, n_neighbors=4, weights=uniform.............\n",
            "[CV 3/5; 3/40] END algorithm=auto, n_neighbors=4, weights=uniform;, score=0.822 total time=   2.2s\n",
            "[CV 4/5; 3/40] START algorithm=auto, n_neighbors=4, weights=uniform.............\n",
            "[CV 4/5; 3/40] END algorithm=auto, n_neighbors=4, weights=uniform;, score=0.834 total time=   2.7s\n",
            "[CV 5/5; 3/40] START algorithm=auto, n_neighbors=4, weights=uniform.............\n",
            "[CV 5/5; 3/40] END algorithm=auto, n_neighbors=4, weights=uniform;, score=0.835 total time=   2.2s\n",
            "[CV 1/5; 4/40] START algorithm=auto, n_neighbors=4, weights=distance............\n",
            "[CV 1/5; 4/40] END algorithm=auto, n_neighbors=4, weights=distance;, score=0.846 total time=   2.1s\n",
            "[CV 2/5; 4/40] START algorithm=auto, n_neighbors=4, weights=distance............\n",
            "[CV 2/5; 4/40] END algorithm=auto, n_neighbors=4, weights=distance;, score=0.848 total time=   2.1s\n",
            "[CV 3/5; 4/40] START algorithm=auto, n_neighbors=4, weights=distance............\n",
            "[CV 3/5; 4/40] END algorithm=auto, n_neighbors=4, weights=distance;, score=0.834 total time=   1.9s\n",
            "[CV 4/5; 4/40] START algorithm=auto, n_neighbors=4, weights=distance............\n",
            "[CV 4/5; 4/40] END algorithm=auto, n_neighbors=4, weights=distance;, score=0.850 total time=   2.3s\n",
            "[CV 5/5; 4/40] START algorithm=auto, n_neighbors=4, weights=distance............\n",
            "[CV 5/5; 4/40] END algorithm=auto, n_neighbors=4, weights=distance;, score=0.846 total time=   2.5s\n",
            "[CV 1/5; 5/40] START algorithm=auto, n_neighbors=5, weights=uniform.............\n",
            "[CV 1/5; 5/40] END algorithm=auto, n_neighbors=5, weights=uniform;, score=0.842 total time=   2.3s\n",
            "[CV 2/5; 5/40] START algorithm=auto, n_neighbors=5, weights=uniform.............\n",
            "[CV 2/5; 5/40] END algorithm=auto, n_neighbors=5, weights=uniform;, score=0.848 total time=   2.3s\n",
            "[CV 3/5; 5/40] START algorithm=auto, n_neighbors=5, weights=uniform.............\n",
            "[CV 3/5; 5/40] END algorithm=auto, n_neighbors=5, weights=uniform;, score=0.836 total time=   2.0s\n",
            "[CV 4/5; 5/40] START algorithm=auto, n_neighbors=5, weights=uniform.............\n",
            "[CV 4/5; 5/40] END algorithm=auto, n_neighbors=5, weights=uniform;, score=0.842 total time=   2.4s\n",
            "[CV 5/5; 5/40] START algorithm=auto, n_neighbors=5, weights=uniform.............\n",
            "[CV 5/5; 5/40] END algorithm=auto, n_neighbors=5, weights=uniform;, score=0.846 total time=   3.0s\n",
            "[CV 1/5; 6/40] START algorithm=auto, n_neighbors=5, weights=distance............\n",
            "[CV 1/5; 6/40] END algorithm=auto, n_neighbors=5, weights=distance;, score=0.847 total time=   2.5s\n",
            "[CV 2/5; 6/40] START algorithm=auto, n_neighbors=5, weights=distance............\n",
            "[CV 2/5; 6/40] END algorithm=auto, n_neighbors=5, weights=distance;, score=0.851 total time=   2.1s\n",
            "[CV 3/5; 6/40] START algorithm=auto, n_neighbors=5, weights=distance............\n",
            "[CV 3/5; 6/40] END algorithm=auto, n_neighbors=5, weights=distance;, score=0.838 total time=   2.0s\n",
            "[CV 4/5; 6/40] START algorithm=auto, n_neighbors=5, weights=distance............\n",
            "[CV 4/5; 6/40] END algorithm=auto, n_neighbors=5, weights=distance;, score=0.845 total time=   2.2s\n",
            "[CV 5/5; 6/40] START algorithm=auto, n_neighbors=5, weights=distance............\n",
            "[CV 5/5; 6/40] END algorithm=auto, n_neighbors=5, weights=distance;, score=0.849 total time=   2.3s\n",
            "[CV 1/5; 7/40] START algorithm=auto, n_neighbors=7, weights=uniform.............\n",
            "[CV 1/5; 7/40] END algorithm=auto, n_neighbors=7, weights=uniform;, score=0.843 total time=   3.3s\n",
            "[CV 2/5; 7/40] START algorithm=auto, n_neighbors=7, weights=uniform.............\n",
            "[CV 2/5; 7/40] END algorithm=auto, n_neighbors=7, weights=uniform;, score=0.845 total time=   2.7s\n",
            "[CV 3/5; 7/40] START algorithm=auto, n_neighbors=7, weights=uniform.............\n",
            "[CV 3/5; 7/40] END algorithm=auto, n_neighbors=7, weights=uniform;, score=0.840 total time=   2.1s\n",
            "[CV 4/5; 7/40] START algorithm=auto, n_neighbors=7, weights=uniform.............\n",
            "[CV 4/5; 7/40] END algorithm=auto, n_neighbors=7, weights=uniform;, score=0.839 total time=   2.3s\n",
            "[CV 5/5; 7/40] START algorithm=auto, n_neighbors=7, weights=uniform.............\n",
            "[CV 5/5; 7/40] END algorithm=auto, n_neighbors=7, weights=uniform;, score=0.839 total time=   2.3s\n",
            "[CV 1/5; 8/40] START algorithm=auto, n_neighbors=7, weights=distance............\n",
            "[CV 1/5; 8/40] END algorithm=auto, n_neighbors=7, weights=distance;, score=0.848 total time=   2.6s\n",
            "[CV 2/5; 8/40] START algorithm=auto, n_neighbors=7, weights=distance............\n",
            "[CV 2/5; 8/40] END algorithm=auto, n_neighbors=7, weights=distance;, score=0.847 total time=   2.3s\n",
            "[CV 3/5; 8/40] START algorithm=auto, n_neighbors=7, weights=distance............\n",
            "[CV 3/5; 8/40] END algorithm=auto, n_neighbors=7, weights=distance;, score=0.843 total time=   2.0s\n",
            "[CV 4/5; 8/40] START algorithm=auto, n_neighbors=7, weights=distance............\n",
            "[CV 4/5; 8/40] END algorithm=auto, n_neighbors=7, weights=distance;, score=0.844 total time=   2.1s\n",
            "[CV 5/5; 8/40] START algorithm=auto, n_neighbors=7, weights=distance............\n",
            "[CV 5/5; 8/40] END algorithm=auto, n_neighbors=7, weights=distance;, score=0.844 total time=   2.1s\n",
            "[CV 1/5; 9/40] START algorithm=auto, n_neighbors=9, weights=uniform.............\n",
            "[CV 1/5; 9/40] END algorithm=auto, n_neighbors=9, weights=uniform;, score=0.838 total time=   2.4s\n",
            "[CV 2/5; 9/40] START algorithm=auto, n_neighbors=9, weights=uniform.............\n",
            "[CV 2/5; 9/40] END algorithm=auto, n_neighbors=9, weights=uniform;, score=0.842 total time=   2.7s\n",
            "[CV 3/5; 9/40] START algorithm=auto, n_neighbors=9, weights=uniform.............\n",
            "[CV 3/5; 9/40] END algorithm=auto, n_neighbors=9, weights=uniform;, score=0.836 total time=   2.1s\n",
            "[CV 4/5; 9/40] START algorithm=auto, n_neighbors=9, weights=uniform.............\n",
            "[CV 4/5; 9/40] END algorithm=auto, n_neighbors=9, weights=uniform;, score=0.835 total time=   2.2s\n",
            "[CV 5/5; 9/40] START algorithm=auto, n_neighbors=9, weights=uniform.............\n",
            "[CV 5/5; 9/40] END algorithm=auto, n_neighbors=9, weights=uniform;, score=0.836 total time=   2.2s\n",
            "[CV 1/5; 10/40] START algorithm=auto, n_neighbors=9, weights=distance...........\n",
            "[CV 1/5; 10/40] END algorithm=auto, n_neighbors=9, weights=distance;, score=0.841 total time=   2.3s\n",
            "[CV 2/5; 10/40] START algorithm=auto, n_neighbors=9, weights=distance...........\n",
            "[CV 2/5; 10/40] END algorithm=auto, n_neighbors=9, weights=distance;, score=0.845 total time=   2.4s\n",
            "[CV 3/5; 10/40] START algorithm=auto, n_neighbors=9, weights=distance...........\n",
            "[CV 3/5; 10/40] END algorithm=auto, n_neighbors=9, weights=distance;, score=0.844 total time=   2.2s\n",
            "[CV 4/5; 10/40] START algorithm=auto, n_neighbors=9, weights=distance...........\n",
            "[CV 4/5; 10/40] END algorithm=auto, n_neighbors=9, weights=distance;, score=0.839 total time=   2.1s\n",
            "[CV 5/5; 10/40] START algorithm=auto, n_neighbors=9, weights=distance...........\n",
            "[CV 5/5; 10/40] END algorithm=auto, n_neighbors=9, weights=distance;, score=0.840 total time=   2.1s\n",
            "[CV 1/5; 11/40] START algorithm=kd_tree, n_neighbors=3, weights=uniform.........\n"
          ]
        },
        {
          "output_type": "stream",
          "name": "stderr",
          "text": [
            "/usr/local/lib/python3.8/dist-packages/sklearn/neighbors/_base.py:557: UserWarning: cannot use tree with sparse input: using brute force\n",
            "  warnings.warn(\"cannot use tree with sparse input: using brute force\")\n"
          ]
        },
        {
          "output_type": "stream",
          "name": "stdout",
          "text": [
            "[CV 1/5; 11/40] END algorithm=kd_tree, n_neighbors=3, weights=uniform;, score=0.842 total time=   2.3s\n",
            "[CV 2/5; 11/40] START algorithm=kd_tree, n_neighbors=3, weights=uniform.........\n"
          ]
        },
        {
          "output_type": "stream",
          "name": "stderr",
          "text": [
            "/usr/local/lib/python3.8/dist-packages/sklearn/neighbors/_base.py:557: UserWarning: cannot use tree with sparse input: using brute force\n",
            "  warnings.warn(\"cannot use tree with sparse input: using brute force\")\n"
          ]
        },
        {
          "output_type": "stream",
          "name": "stdout",
          "text": [
            "[CV 2/5; 11/40] END algorithm=kd_tree, n_neighbors=3, weights=uniform;, score=0.852 total time=   6.8s\n",
            "[CV 3/5; 11/40] START algorithm=kd_tree, n_neighbors=3, weights=uniform.........\n"
          ]
        },
        {
          "output_type": "stream",
          "name": "stderr",
          "text": [
            "/usr/local/lib/python3.8/dist-packages/sklearn/neighbors/_base.py:557: UserWarning: cannot use tree with sparse input: using brute force\n",
            "  warnings.warn(\"cannot use tree with sparse input: using brute force\")\n"
          ]
        },
        {
          "output_type": "stream",
          "name": "stdout",
          "text": [
            "[CV 3/5; 11/40] END algorithm=kd_tree, n_neighbors=3, weights=uniform;, score=0.846 total time=   5.0s\n",
            "[CV 4/5; 11/40] START algorithm=kd_tree, n_neighbors=3, weights=uniform.........\n"
          ]
        },
        {
          "output_type": "stream",
          "name": "stderr",
          "text": [
            "/usr/local/lib/python3.8/dist-packages/sklearn/neighbors/_base.py:557: UserWarning: cannot use tree with sparse input: using brute force\n",
            "  warnings.warn(\"cannot use tree with sparse input: using brute force\")\n"
          ]
        },
        {
          "output_type": "stream",
          "name": "stdout",
          "text": [
            "[CV 4/5; 11/40] END algorithm=kd_tree, n_neighbors=3, weights=uniform;, score=0.859 total time=   3.0s\n",
            "[CV 5/5; 11/40] START algorithm=kd_tree, n_neighbors=3, weights=uniform.........\n"
          ]
        },
        {
          "output_type": "stream",
          "name": "stderr",
          "text": [
            "/usr/local/lib/python3.8/dist-packages/sklearn/neighbors/_base.py:557: UserWarning: cannot use tree with sparse input: using brute force\n",
            "  warnings.warn(\"cannot use tree with sparse input: using brute force\")\n"
          ]
        },
        {
          "output_type": "stream",
          "name": "stdout",
          "text": [
            "[CV 5/5; 11/40] END algorithm=kd_tree, n_neighbors=3, weights=uniform;, score=0.853 total time=   2.4s\n",
            "[CV 1/5; 12/40] START algorithm=kd_tree, n_neighbors=3, weights=distance........\n"
          ]
        },
        {
          "output_type": "stream",
          "name": "stderr",
          "text": [
            "/usr/local/lib/python3.8/dist-packages/sklearn/neighbors/_base.py:557: UserWarning: cannot use tree with sparse input: using brute force\n",
            "  warnings.warn(\"cannot use tree with sparse input: using brute force\")\n"
          ]
        },
        {
          "output_type": "stream",
          "name": "stdout",
          "text": [
            "[CV 1/5; 12/40] END algorithm=kd_tree, n_neighbors=3, weights=distance;, score=0.843 total time=   2.1s\n",
            "[CV 2/5; 12/40] START algorithm=kd_tree, n_neighbors=3, weights=distance........\n"
          ]
        },
        {
          "output_type": "stream",
          "name": "stderr",
          "text": [
            "/usr/local/lib/python3.8/dist-packages/sklearn/neighbors/_base.py:557: UserWarning: cannot use tree with sparse input: using brute force\n",
            "  warnings.warn(\"cannot use tree with sparse input: using brute force\")\n"
          ]
        },
        {
          "output_type": "stream",
          "name": "stdout",
          "text": [
            "[CV 2/5; 12/40] END algorithm=kd_tree, n_neighbors=3, weights=distance;, score=0.853 total time=   1.9s\n",
            "[CV 3/5; 12/40] START algorithm=kd_tree, n_neighbors=3, weights=distance........\n"
          ]
        },
        {
          "output_type": "stream",
          "name": "stderr",
          "text": [
            "/usr/local/lib/python3.8/dist-packages/sklearn/neighbors/_base.py:557: UserWarning: cannot use tree with sparse input: using brute force\n",
            "  warnings.warn(\"cannot use tree with sparse input: using brute force\")\n"
          ]
        },
        {
          "output_type": "stream",
          "name": "stdout",
          "text": [
            "[CV 3/5; 12/40] END algorithm=kd_tree, n_neighbors=3, weights=distance;, score=0.847 total time=   1.8s\n",
            "[CV 4/5; 12/40] START algorithm=kd_tree, n_neighbors=3, weights=distance........\n"
          ]
        },
        {
          "output_type": "stream",
          "name": "stderr",
          "text": [
            "/usr/local/lib/python3.8/dist-packages/sklearn/neighbors/_base.py:557: UserWarning: cannot use tree with sparse input: using brute force\n",
            "  warnings.warn(\"cannot use tree with sparse input: using brute force\")\n"
          ]
        },
        {
          "output_type": "stream",
          "name": "stdout",
          "text": [
            "[CV 4/5; 12/40] END algorithm=kd_tree, n_neighbors=3, weights=distance;, score=0.860 total time=   1.8s\n",
            "[CV 5/5; 12/40] START algorithm=kd_tree, n_neighbors=3, weights=distance........\n"
          ]
        },
        {
          "output_type": "stream",
          "name": "stderr",
          "text": [
            "/usr/local/lib/python3.8/dist-packages/sklearn/neighbors/_base.py:557: UserWarning: cannot use tree with sparse input: using brute force\n",
            "  warnings.warn(\"cannot use tree with sparse input: using brute force\")\n"
          ]
        },
        {
          "output_type": "stream",
          "name": "stdout",
          "text": [
            "[CV 5/5; 12/40] END algorithm=kd_tree, n_neighbors=3, weights=distance;, score=0.855 total time=   1.9s\n",
            "[CV 1/5; 13/40] START algorithm=kd_tree, n_neighbors=4, weights=uniform.........\n"
          ]
        },
        {
          "output_type": "stream",
          "name": "stderr",
          "text": [
            "/usr/local/lib/python3.8/dist-packages/sklearn/neighbors/_base.py:557: UserWarning: cannot use tree with sparse input: using brute force\n",
            "  warnings.warn(\"cannot use tree with sparse input: using brute force\")\n"
          ]
        },
        {
          "output_type": "stream",
          "name": "stdout",
          "text": [
            "[CV 1/5; 13/40] END algorithm=kd_tree, n_neighbors=4, weights=uniform;, score=0.838 total time=   2.4s\n",
            "[CV 2/5; 13/40] START algorithm=kd_tree, n_neighbors=4, weights=uniform.........\n"
          ]
        },
        {
          "output_type": "stream",
          "name": "stderr",
          "text": [
            "/usr/local/lib/python3.8/dist-packages/sklearn/neighbors/_base.py:557: UserWarning: cannot use tree with sparse input: using brute force\n",
            "  warnings.warn(\"cannot use tree with sparse input: using brute force\")\n"
          ]
        },
        {
          "output_type": "stream",
          "name": "stdout",
          "text": [
            "[CV 2/5; 13/40] END algorithm=kd_tree, n_neighbors=4, weights=uniform;, score=0.832 total time=   2.7s\n",
            "[CV 3/5; 13/40] START algorithm=kd_tree, n_neighbors=4, weights=uniform.........\n"
          ]
        },
        {
          "output_type": "stream",
          "name": "stderr",
          "text": [
            "/usr/local/lib/python3.8/dist-packages/sklearn/neighbors/_base.py:557: UserWarning: cannot use tree with sparse input: using brute force\n",
            "  warnings.warn(\"cannot use tree with sparse input: using brute force\")\n"
          ]
        },
        {
          "output_type": "stream",
          "name": "stdout",
          "text": [
            "[CV 3/5; 13/40] END algorithm=kd_tree, n_neighbors=4, weights=uniform;, score=0.822 total time=   2.2s\n",
            "[CV 4/5; 13/40] START algorithm=kd_tree, n_neighbors=4, weights=uniform.........\n"
          ]
        },
        {
          "output_type": "stream",
          "name": "stderr",
          "text": [
            "/usr/local/lib/python3.8/dist-packages/sklearn/neighbors/_base.py:557: UserWarning: cannot use tree with sparse input: using brute force\n",
            "  warnings.warn(\"cannot use tree with sparse input: using brute force\")\n"
          ]
        },
        {
          "output_type": "stream",
          "name": "stdout",
          "text": [
            "[CV 4/5; 13/40] END algorithm=kd_tree, n_neighbors=4, weights=uniform;, score=0.834 total time=   2.3s\n",
            "[CV 5/5; 13/40] START algorithm=kd_tree, n_neighbors=4, weights=uniform.........\n"
          ]
        },
        {
          "output_type": "stream",
          "name": "stderr",
          "text": [
            "/usr/local/lib/python3.8/dist-packages/sklearn/neighbors/_base.py:557: UserWarning: cannot use tree with sparse input: using brute force\n",
            "  warnings.warn(\"cannot use tree with sparse input: using brute force\")\n"
          ]
        },
        {
          "output_type": "stream",
          "name": "stdout",
          "text": [
            "[CV 5/5; 13/40] END algorithm=kd_tree, n_neighbors=4, weights=uniform;, score=0.835 total time=   2.3s\n",
            "[CV 1/5; 14/40] START algorithm=kd_tree, n_neighbors=4, weights=distance........\n"
          ]
        },
        {
          "output_type": "stream",
          "name": "stderr",
          "text": [
            "/usr/local/lib/python3.8/dist-packages/sklearn/neighbors/_base.py:557: UserWarning: cannot use tree with sparse input: using brute force\n",
            "  warnings.warn(\"cannot use tree with sparse input: using brute force\")\n"
          ]
        },
        {
          "output_type": "stream",
          "name": "stdout",
          "text": [
            "[CV 1/5; 14/40] END algorithm=kd_tree, n_neighbors=4, weights=distance;, score=0.846 total time=   2.2s\n",
            "[CV 2/5; 14/40] START algorithm=kd_tree, n_neighbors=4, weights=distance........\n"
          ]
        },
        {
          "output_type": "stream",
          "name": "stderr",
          "text": [
            "/usr/local/lib/python3.8/dist-packages/sklearn/neighbors/_base.py:557: UserWarning: cannot use tree with sparse input: using brute force\n",
            "  warnings.warn(\"cannot use tree with sparse input: using brute force\")\n"
          ]
        },
        {
          "output_type": "stream",
          "name": "stdout",
          "text": [
            "[CV 2/5; 14/40] END algorithm=kd_tree, n_neighbors=4, weights=distance;, score=0.848 total time=   2.5s\n",
            "[CV 3/5; 14/40] START algorithm=kd_tree, n_neighbors=4, weights=distance........\n"
          ]
        },
        {
          "output_type": "stream",
          "name": "stderr",
          "text": [
            "/usr/local/lib/python3.8/dist-packages/sklearn/neighbors/_base.py:557: UserWarning: cannot use tree with sparse input: using brute force\n",
            "  warnings.warn(\"cannot use tree with sparse input: using brute force\")\n"
          ]
        },
        {
          "output_type": "stream",
          "name": "stdout",
          "text": [
            "[CV 3/5; 14/40] END algorithm=kd_tree, n_neighbors=4, weights=distance;, score=0.834 total time=   2.1s\n",
            "[CV 4/5; 14/40] START algorithm=kd_tree, n_neighbors=4, weights=distance........\n"
          ]
        },
        {
          "output_type": "stream",
          "name": "stderr",
          "text": [
            "/usr/local/lib/python3.8/dist-packages/sklearn/neighbors/_base.py:557: UserWarning: cannot use tree with sparse input: using brute force\n",
            "  warnings.warn(\"cannot use tree with sparse input: using brute force\")\n"
          ]
        },
        {
          "output_type": "stream",
          "name": "stdout",
          "text": [
            "[CV 4/5; 14/40] END algorithm=kd_tree, n_neighbors=4, weights=distance;, score=0.850 total time=   2.2s\n",
            "[CV 5/5; 14/40] START algorithm=kd_tree, n_neighbors=4, weights=distance........\n"
          ]
        },
        {
          "output_type": "stream",
          "name": "stderr",
          "text": [
            "/usr/local/lib/python3.8/dist-packages/sklearn/neighbors/_base.py:557: UserWarning: cannot use tree with sparse input: using brute force\n",
            "  warnings.warn(\"cannot use tree with sparse input: using brute force\")\n"
          ]
        },
        {
          "output_type": "stream",
          "name": "stdout",
          "text": [
            "[CV 5/5; 14/40] END algorithm=kd_tree, n_neighbors=4, weights=distance;, score=0.846 total time=   2.2s\n",
            "[CV 1/5; 15/40] START algorithm=kd_tree, n_neighbors=5, weights=uniform.........\n"
          ]
        },
        {
          "output_type": "stream",
          "name": "stderr",
          "text": [
            "/usr/local/lib/python3.8/dist-packages/sklearn/neighbors/_base.py:557: UserWarning: cannot use tree with sparse input: using brute force\n",
            "  warnings.warn(\"cannot use tree with sparse input: using brute force\")\n"
          ]
        },
        {
          "output_type": "stream",
          "name": "stdout",
          "text": [
            "[CV 1/5; 15/40] END algorithm=kd_tree, n_neighbors=5, weights=uniform;, score=0.842 total time=   2.3s\n",
            "[CV 2/5; 15/40] START algorithm=kd_tree, n_neighbors=5, weights=uniform.........\n"
          ]
        },
        {
          "output_type": "stream",
          "name": "stderr",
          "text": [
            "/usr/local/lib/python3.8/dist-packages/sklearn/neighbors/_base.py:557: UserWarning: cannot use tree with sparse input: using brute force\n",
            "  warnings.warn(\"cannot use tree with sparse input: using brute force\")\n"
          ]
        },
        {
          "output_type": "stream",
          "name": "stdout",
          "text": [
            "[CV 2/5; 15/40] END algorithm=kd_tree, n_neighbors=5, weights=uniform;, score=0.848 total time=   2.5s\n",
            "[CV 3/5; 15/40] START algorithm=kd_tree, n_neighbors=5, weights=uniform.........\n"
          ]
        },
        {
          "output_type": "stream",
          "name": "stderr",
          "text": [
            "/usr/local/lib/python3.8/dist-packages/sklearn/neighbors/_base.py:557: UserWarning: cannot use tree with sparse input: using brute force\n",
            "  warnings.warn(\"cannot use tree with sparse input: using brute force\")\n"
          ]
        },
        {
          "output_type": "stream",
          "name": "stdout",
          "text": [
            "[CV 3/5; 15/40] END algorithm=kd_tree, n_neighbors=5, weights=uniform;, score=0.836 total time=   2.5s\n",
            "[CV 4/5; 15/40] START algorithm=kd_tree, n_neighbors=5, weights=uniform.........\n"
          ]
        },
        {
          "output_type": "stream",
          "name": "stderr",
          "text": [
            "/usr/local/lib/python3.8/dist-packages/sklearn/neighbors/_base.py:557: UserWarning: cannot use tree with sparse input: using brute force\n",
            "  warnings.warn(\"cannot use tree with sparse input: using brute force\")\n"
          ]
        },
        {
          "output_type": "stream",
          "name": "stdout",
          "text": [
            "[CV 4/5; 15/40] END algorithm=kd_tree, n_neighbors=5, weights=uniform;, score=0.842 total time=   2.4s\n",
            "[CV 5/5; 15/40] START algorithm=kd_tree, n_neighbors=5, weights=uniform.........\n"
          ]
        },
        {
          "output_type": "stream",
          "name": "stderr",
          "text": [
            "/usr/local/lib/python3.8/dist-packages/sklearn/neighbors/_base.py:557: UserWarning: cannot use tree with sparse input: using brute force\n",
            "  warnings.warn(\"cannot use tree with sparse input: using brute force\")\n"
          ]
        },
        {
          "output_type": "stream",
          "name": "stdout",
          "text": [
            "[CV 5/5; 15/40] END algorithm=kd_tree, n_neighbors=5, weights=uniform;, score=0.846 total time=   2.3s\n",
            "[CV 1/5; 16/40] START algorithm=kd_tree, n_neighbors=5, weights=distance........\n"
          ]
        },
        {
          "output_type": "stream",
          "name": "stderr",
          "text": [
            "/usr/local/lib/python3.8/dist-packages/sklearn/neighbors/_base.py:557: UserWarning: cannot use tree with sparse input: using brute force\n",
            "  warnings.warn(\"cannot use tree with sparse input: using brute force\")\n"
          ]
        },
        {
          "output_type": "stream",
          "name": "stdout",
          "text": [
            "[CV 1/5; 16/40] END algorithm=kd_tree, n_neighbors=5, weights=distance;, score=0.847 total time=   2.2s\n",
            "[CV 2/5; 16/40] START algorithm=kd_tree, n_neighbors=5, weights=distance........\n"
          ]
        },
        {
          "output_type": "stream",
          "name": "stderr",
          "text": [
            "/usr/local/lib/python3.8/dist-packages/sklearn/neighbors/_base.py:557: UserWarning: cannot use tree with sparse input: using brute force\n",
            "  warnings.warn(\"cannot use tree with sparse input: using brute force\")\n"
          ]
        },
        {
          "output_type": "stream",
          "name": "stdout",
          "text": [
            "[CV 2/5; 16/40] END algorithm=kd_tree, n_neighbors=5, weights=distance;, score=0.851 total time=   2.2s\n",
            "[CV 3/5; 16/40] START algorithm=kd_tree, n_neighbors=5, weights=distance........\n"
          ]
        },
        {
          "output_type": "stream",
          "name": "stderr",
          "text": [
            "/usr/local/lib/python3.8/dist-packages/sklearn/neighbors/_base.py:557: UserWarning: cannot use tree with sparse input: using brute force\n",
            "  warnings.warn(\"cannot use tree with sparse input: using brute force\")\n"
          ]
        },
        {
          "output_type": "stream",
          "name": "stdout",
          "text": [
            "[CV 3/5; 16/40] END algorithm=kd_tree, n_neighbors=5, weights=distance;, score=0.838 total time=   2.4s\n",
            "[CV 4/5; 16/40] START algorithm=kd_tree, n_neighbors=5, weights=distance........\n"
          ]
        },
        {
          "output_type": "stream",
          "name": "stderr",
          "text": [
            "/usr/local/lib/python3.8/dist-packages/sklearn/neighbors/_base.py:557: UserWarning: cannot use tree with sparse input: using brute force\n",
            "  warnings.warn(\"cannot use tree with sparse input: using brute force\")\n"
          ]
        },
        {
          "output_type": "stream",
          "name": "stdout",
          "text": [
            "[CV 4/5; 16/40] END algorithm=kd_tree, n_neighbors=5, weights=distance;, score=0.845 total time=   2.4s\n",
            "[CV 5/5; 16/40] START algorithm=kd_tree, n_neighbors=5, weights=distance........\n"
          ]
        },
        {
          "output_type": "stream",
          "name": "stderr",
          "text": [
            "/usr/local/lib/python3.8/dist-packages/sklearn/neighbors/_base.py:557: UserWarning: cannot use tree with sparse input: using brute force\n",
            "  warnings.warn(\"cannot use tree with sparse input: using brute force\")\n"
          ]
        },
        {
          "output_type": "stream",
          "name": "stdout",
          "text": [
            "[CV 5/5; 16/40] END algorithm=kd_tree, n_neighbors=5, weights=distance;, score=0.849 total time=   2.2s\n",
            "[CV 1/5; 17/40] START algorithm=kd_tree, n_neighbors=7, weights=uniform.........\n"
          ]
        },
        {
          "output_type": "stream",
          "name": "stderr",
          "text": [
            "/usr/local/lib/python3.8/dist-packages/sklearn/neighbors/_base.py:557: UserWarning: cannot use tree with sparse input: using brute force\n",
            "  warnings.warn(\"cannot use tree with sparse input: using brute force\")\n"
          ]
        },
        {
          "output_type": "stream",
          "name": "stdout",
          "text": [
            "[CV 1/5; 17/40] END algorithm=kd_tree, n_neighbors=7, weights=uniform;, score=0.843 total time=   2.3s\n",
            "[CV 2/5; 17/40] START algorithm=kd_tree, n_neighbors=7, weights=uniform.........\n"
          ]
        },
        {
          "output_type": "stream",
          "name": "stderr",
          "text": [
            "/usr/local/lib/python3.8/dist-packages/sklearn/neighbors/_base.py:557: UserWarning: cannot use tree with sparse input: using brute force\n",
            "  warnings.warn(\"cannot use tree with sparse input: using brute force\")\n"
          ]
        },
        {
          "output_type": "stream",
          "name": "stdout",
          "text": [
            "[CV 2/5; 17/40] END algorithm=kd_tree, n_neighbors=7, weights=uniform;, score=0.845 total time=   2.3s\n",
            "[CV 3/5; 17/40] START algorithm=kd_tree, n_neighbors=7, weights=uniform.........\n"
          ]
        },
        {
          "output_type": "stream",
          "name": "stderr",
          "text": [
            "/usr/local/lib/python3.8/dist-packages/sklearn/neighbors/_base.py:557: UserWarning: cannot use tree with sparse input: using brute force\n",
            "  warnings.warn(\"cannot use tree with sparse input: using brute force\")\n"
          ]
        },
        {
          "output_type": "stream",
          "name": "stdout",
          "text": [
            "[CV 3/5; 17/40] END algorithm=kd_tree, n_neighbors=7, weights=uniform;, score=0.840 total time=   2.4s\n",
            "[CV 4/5; 17/40] START algorithm=kd_tree, n_neighbors=7, weights=uniform.........\n"
          ]
        },
        {
          "output_type": "stream",
          "name": "stderr",
          "text": [
            "/usr/local/lib/python3.8/dist-packages/sklearn/neighbors/_base.py:557: UserWarning: cannot use tree with sparse input: using brute force\n",
            "  warnings.warn(\"cannot use tree with sparse input: using brute force\")\n"
          ]
        },
        {
          "output_type": "stream",
          "name": "stdout",
          "text": [
            "[CV 4/5; 17/40] END algorithm=kd_tree, n_neighbors=7, weights=uniform;, score=0.839 total time=   2.7s\n",
            "[CV 5/5; 17/40] START algorithm=kd_tree, n_neighbors=7, weights=uniform.........\n"
          ]
        },
        {
          "output_type": "stream",
          "name": "stderr",
          "text": [
            "/usr/local/lib/python3.8/dist-packages/sklearn/neighbors/_base.py:557: UserWarning: cannot use tree with sparse input: using brute force\n",
            "  warnings.warn(\"cannot use tree with sparse input: using brute force\")\n"
          ]
        },
        {
          "output_type": "stream",
          "name": "stdout",
          "text": [
            "[CV 5/5; 17/40] END algorithm=kd_tree, n_neighbors=7, weights=uniform;, score=0.839 total time=   2.3s\n",
            "[CV 1/5; 18/40] START algorithm=kd_tree, n_neighbors=7, weights=distance........\n"
          ]
        },
        {
          "output_type": "stream",
          "name": "stderr",
          "text": [
            "/usr/local/lib/python3.8/dist-packages/sklearn/neighbors/_base.py:557: UserWarning: cannot use tree with sparse input: using brute force\n",
            "  warnings.warn(\"cannot use tree with sparse input: using brute force\")\n"
          ]
        },
        {
          "output_type": "stream",
          "name": "stdout",
          "text": [
            "[CV 1/5; 18/40] END algorithm=kd_tree, n_neighbors=7, weights=distance;, score=0.848 total time=   2.2s\n",
            "[CV 2/5; 18/40] START algorithm=kd_tree, n_neighbors=7, weights=distance........\n"
          ]
        },
        {
          "output_type": "stream",
          "name": "stderr",
          "text": [
            "/usr/local/lib/python3.8/dist-packages/sklearn/neighbors/_base.py:557: UserWarning: cannot use tree with sparse input: using brute force\n",
            "  warnings.warn(\"cannot use tree with sparse input: using brute force\")\n"
          ]
        },
        {
          "output_type": "stream",
          "name": "stdout",
          "text": [
            "[CV 2/5; 18/40] END algorithm=kd_tree, n_neighbors=7, weights=distance;, score=0.847 total time=   2.2s\n",
            "[CV 3/5; 18/40] START algorithm=kd_tree, n_neighbors=7, weights=distance........\n"
          ]
        },
        {
          "output_type": "stream",
          "name": "stderr",
          "text": [
            "/usr/local/lib/python3.8/dist-packages/sklearn/neighbors/_base.py:557: UserWarning: cannot use tree with sparse input: using brute force\n",
            "  warnings.warn(\"cannot use tree with sparse input: using brute force\")\n"
          ]
        },
        {
          "output_type": "stream",
          "name": "stdout",
          "text": [
            "[CV 3/5; 18/40] END algorithm=kd_tree, n_neighbors=7, weights=distance;, score=0.843 total time=   2.2s\n",
            "[CV 4/5; 18/40] START algorithm=kd_tree, n_neighbors=7, weights=distance........\n"
          ]
        },
        {
          "output_type": "stream",
          "name": "stderr",
          "text": [
            "/usr/local/lib/python3.8/dist-packages/sklearn/neighbors/_base.py:557: UserWarning: cannot use tree with sparse input: using brute force\n",
            "  warnings.warn(\"cannot use tree with sparse input: using brute force\")\n"
          ]
        },
        {
          "output_type": "stream",
          "name": "stdout",
          "text": [
            "[CV 4/5; 18/40] END algorithm=kd_tree, n_neighbors=7, weights=distance;, score=0.844 total time=   2.8s\n",
            "[CV 5/5; 18/40] START algorithm=kd_tree, n_neighbors=7, weights=distance........\n"
          ]
        },
        {
          "output_type": "stream",
          "name": "stderr",
          "text": [
            "/usr/local/lib/python3.8/dist-packages/sklearn/neighbors/_base.py:557: UserWarning: cannot use tree with sparse input: using brute force\n",
            "  warnings.warn(\"cannot use tree with sparse input: using brute force\")\n"
          ]
        },
        {
          "output_type": "stream",
          "name": "stdout",
          "text": [
            "[CV 5/5; 18/40] END algorithm=kd_tree, n_neighbors=7, weights=distance;, score=0.844 total time=   2.6s\n",
            "[CV 1/5; 19/40] START algorithm=kd_tree, n_neighbors=9, weights=uniform.........\n"
          ]
        },
        {
          "output_type": "stream",
          "name": "stderr",
          "text": [
            "/usr/local/lib/python3.8/dist-packages/sklearn/neighbors/_base.py:557: UserWarning: cannot use tree with sparse input: using brute force\n",
            "  warnings.warn(\"cannot use tree with sparse input: using brute force\")\n"
          ]
        },
        {
          "output_type": "stream",
          "name": "stdout",
          "text": [
            "[CV 1/5; 19/40] END algorithm=kd_tree, n_neighbors=9, weights=uniform;, score=0.838 total time=   2.3s\n",
            "[CV 2/5; 19/40] START algorithm=kd_tree, n_neighbors=9, weights=uniform.........\n"
          ]
        },
        {
          "output_type": "stream",
          "name": "stderr",
          "text": [
            "/usr/local/lib/python3.8/dist-packages/sklearn/neighbors/_base.py:557: UserWarning: cannot use tree with sparse input: using brute force\n",
            "  warnings.warn(\"cannot use tree with sparse input: using brute force\")\n"
          ]
        },
        {
          "output_type": "stream",
          "name": "stdout",
          "text": [
            "[CV 2/5; 19/40] END algorithm=kd_tree, n_neighbors=9, weights=uniform;, score=0.842 total time=   2.3s\n",
            "[CV 3/5; 19/40] START algorithm=kd_tree, n_neighbors=9, weights=uniform.........\n"
          ]
        },
        {
          "output_type": "stream",
          "name": "stderr",
          "text": [
            "/usr/local/lib/python3.8/dist-packages/sklearn/neighbors/_base.py:557: UserWarning: cannot use tree with sparse input: using brute force\n",
            "  warnings.warn(\"cannot use tree with sparse input: using brute force\")\n"
          ]
        },
        {
          "output_type": "stream",
          "name": "stdout",
          "text": [
            "[CV 3/5; 19/40] END algorithm=kd_tree, n_neighbors=9, weights=uniform;, score=0.836 total time=   2.2s\n",
            "[CV 4/5; 19/40] START algorithm=kd_tree, n_neighbors=9, weights=uniform.........\n"
          ]
        },
        {
          "output_type": "stream",
          "name": "stderr",
          "text": [
            "/usr/local/lib/python3.8/dist-packages/sklearn/neighbors/_base.py:557: UserWarning: cannot use tree with sparse input: using brute force\n",
            "  warnings.warn(\"cannot use tree with sparse input: using brute force\")\n"
          ]
        },
        {
          "output_type": "stream",
          "name": "stdout",
          "text": [
            "[CV 4/5; 19/40] END algorithm=kd_tree, n_neighbors=9, weights=uniform;, score=0.835 total time=   2.3s\n",
            "[CV 5/5; 19/40] START algorithm=kd_tree, n_neighbors=9, weights=uniform.........\n"
          ]
        },
        {
          "output_type": "stream",
          "name": "stderr",
          "text": [
            "/usr/local/lib/python3.8/dist-packages/sklearn/neighbors/_base.py:557: UserWarning: cannot use tree with sparse input: using brute force\n",
            "  warnings.warn(\"cannot use tree with sparse input: using brute force\")\n"
          ]
        },
        {
          "output_type": "stream",
          "name": "stdout",
          "text": [
            "[CV 5/5; 19/40] END algorithm=kd_tree, n_neighbors=9, weights=uniform;, score=0.836 total time=   2.8s\n",
            "[CV 1/5; 20/40] START algorithm=kd_tree, n_neighbors=9, weights=distance........\n"
          ]
        },
        {
          "output_type": "stream",
          "name": "stderr",
          "text": [
            "/usr/local/lib/python3.8/dist-packages/sklearn/neighbors/_base.py:557: UserWarning: cannot use tree with sparse input: using brute force\n",
            "  warnings.warn(\"cannot use tree with sparse input: using brute force\")\n"
          ]
        },
        {
          "output_type": "stream",
          "name": "stdout",
          "text": [
            "[CV 1/5; 20/40] END algorithm=kd_tree, n_neighbors=9, weights=distance;, score=0.841 total time=   2.1s\n",
            "[CV 2/5; 20/40] START algorithm=kd_tree, n_neighbors=9, weights=distance........\n"
          ]
        },
        {
          "output_type": "stream",
          "name": "stderr",
          "text": [
            "/usr/local/lib/python3.8/dist-packages/sklearn/neighbors/_base.py:557: UserWarning: cannot use tree with sparse input: using brute force\n",
            "  warnings.warn(\"cannot use tree with sparse input: using brute force\")\n"
          ]
        },
        {
          "output_type": "stream",
          "name": "stdout",
          "text": [
            "[CV 2/5; 20/40] END algorithm=kd_tree, n_neighbors=9, weights=distance;, score=0.845 total time=   2.1s\n",
            "[CV 3/5; 20/40] START algorithm=kd_tree, n_neighbors=9, weights=distance........\n"
          ]
        },
        {
          "output_type": "stream",
          "name": "stderr",
          "text": [
            "/usr/local/lib/python3.8/dist-packages/sklearn/neighbors/_base.py:557: UserWarning: cannot use tree with sparse input: using brute force\n",
            "  warnings.warn(\"cannot use tree with sparse input: using brute force\")\n"
          ]
        },
        {
          "output_type": "stream",
          "name": "stdout",
          "text": [
            "[CV 3/5; 20/40] END algorithm=kd_tree, n_neighbors=9, weights=distance;, score=0.844 total time=   2.0s\n",
            "[CV 4/5; 20/40] START algorithm=kd_tree, n_neighbors=9, weights=distance........\n"
          ]
        },
        {
          "output_type": "stream",
          "name": "stderr",
          "text": [
            "/usr/local/lib/python3.8/dist-packages/sklearn/neighbors/_base.py:557: UserWarning: cannot use tree with sparse input: using brute force\n",
            "  warnings.warn(\"cannot use tree with sparse input: using brute force\")\n"
          ]
        },
        {
          "output_type": "stream",
          "name": "stdout",
          "text": [
            "[CV 4/5; 20/40] END algorithm=kd_tree, n_neighbors=9, weights=distance;, score=0.839 total time=   2.1s\n",
            "[CV 5/5; 20/40] START algorithm=kd_tree, n_neighbors=9, weights=distance........\n"
          ]
        },
        {
          "output_type": "stream",
          "name": "stderr",
          "text": [
            "/usr/local/lib/python3.8/dist-packages/sklearn/neighbors/_base.py:557: UserWarning: cannot use tree with sparse input: using brute force\n",
            "  warnings.warn(\"cannot use tree with sparse input: using brute force\")\n"
          ]
        },
        {
          "output_type": "stream",
          "name": "stdout",
          "text": [
            "[CV 5/5; 20/40] END algorithm=kd_tree, n_neighbors=9, weights=distance;, score=0.840 total time=   2.3s\n",
            "[CV 1/5; 21/40] START algorithm=brute, n_neighbors=3, weights=uniform...........\n",
            "[CV 1/5; 21/40] END algorithm=brute, n_neighbors=3, weights=uniform;, score=0.842 total time=   2.2s\n",
            "[CV 2/5; 21/40] START algorithm=brute, n_neighbors=3, weights=uniform...........\n",
            "[CV 2/5; 21/40] END algorithm=brute, n_neighbors=3, weights=uniform;, score=0.852 total time=   1.9s\n",
            "[CV 3/5; 21/40] START algorithm=brute, n_neighbors=3, weights=uniform...........\n",
            "[CV 3/5; 21/40] END algorithm=brute, n_neighbors=3, weights=uniform;, score=0.846 total time=   2.0s\n",
            "[CV 4/5; 21/40] START algorithm=brute, n_neighbors=3, weights=uniform...........\n",
            "[CV 4/5; 21/40] END algorithm=brute, n_neighbors=3, weights=uniform;, score=0.859 total time=   1.9s\n",
            "[CV 5/5; 21/40] START algorithm=brute, n_neighbors=3, weights=uniform...........\n",
            "[CV 5/5; 21/40] END algorithm=brute, n_neighbors=3, weights=uniform;, score=0.853 total time=   2.0s\n",
            "[CV 1/5; 22/40] START algorithm=brute, n_neighbors=3, weights=distance..........\n",
            "[CV 1/5; 22/40] END algorithm=brute, n_neighbors=3, weights=distance;, score=0.843 total time=   1.8s\n",
            "[CV 2/5; 22/40] START algorithm=brute, n_neighbors=3, weights=distance..........\n",
            "[CV 2/5; 22/40] END algorithm=brute, n_neighbors=3, weights=distance;, score=0.853 total time=   2.1s\n",
            "[CV 3/5; 22/40] START algorithm=brute, n_neighbors=3, weights=distance..........\n",
            "[CV 3/5; 22/40] END algorithm=brute, n_neighbors=3, weights=distance;, score=0.847 total time=   2.0s\n",
            "[CV 4/5; 22/40] START algorithm=brute, n_neighbors=3, weights=distance..........\n",
            "[CV 4/5; 22/40] END algorithm=brute, n_neighbors=3, weights=distance;, score=0.860 total time=   1.9s\n",
            "[CV 5/5; 22/40] START algorithm=brute, n_neighbors=3, weights=distance..........\n",
            "[CV 5/5; 22/40] END algorithm=brute, n_neighbors=3, weights=distance;, score=0.855 total time=   1.8s\n",
            "[CV 1/5; 23/40] START algorithm=brute, n_neighbors=4, weights=uniform...........\n",
            "[CV 1/5; 23/40] END algorithm=brute, n_neighbors=4, weights=uniform;, score=0.838 total time=   2.4s\n",
            "[CV 2/5; 23/40] START algorithm=brute, n_neighbors=4, weights=uniform...........\n",
            "[CV 2/5; 23/40] END algorithm=brute, n_neighbors=4, weights=uniform;, score=0.832 total time=   2.3s\n",
            "[CV 3/5; 23/40] START algorithm=brute, n_neighbors=4, weights=uniform...........\n",
            "[CV 3/5; 23/40] END algorithm=brute, n_neighbors=4, weights=uniform;, score=0.822 total time=   2.6s\n",
            "[CV 4/5; 23/40] START algorithm=brute, n_neighbors=4, weights=uniform...........\n",
            "[CV 4/5; 23/40] END algorithm=brute, n_neighbors=4, weights=uniform;, score=0.834 total time=   2.3s\n",
            "[CV 5/5; 23/40] START algorithm=brute, n_neighbors=4, weights=uniform...........\n",
            "[CV 5/5; 23/40] END algorithm=brute, n_neighbors=4, weights=uniform;, score=0.835 total time=   2.3s\n",
            "[CV 1/5; 24/40] START algorithm=brute, n_neighbors=4, weights=distance..........\n",
            "[CV 1/5; 24/40] END algorithm=brute, n_neighbors=4, weights=distance;, score=0.846 total time=   2.1s\n",
            "[CV 2/5; 24/40] START algorithm=brute, n_neighbors=4, weights=distance..........\n",
            "[CV 2/5; 24/40] END algorithm=brute, n_neighbors=4, weights=distance;, score=0.848 total time=   2.2s\n",
            "[CV 3/5; 24/40] START algorithm=brute, n_neighbors=4, weights=distance..........\n",
            "[CV 3/5; 24/40] END algorithm=brute, n_neighbors=4, weights=distance;, score=0.834 total time=   2.2s\n",
            "[CV 4/5; 24/40] START algorithm=brute, n_neighbors=4, weights=distance..........\n",
            "[CV 4/5; 24/40] END algorithm=brute, n_neighbors=4, weights=distance;, score=0.850 total time=   2.5s\n",
            "[CV 5/5; 24/40] START algorithm=brute, n_neighbors=4, weights=distance..........\n",
            "[CV 5/5; 24/40] END algorithm=brute, n_neighbors=4, weights=distance;, score=0.846 total time=   2.2s\n",
            "[CV 1/5; 25/40] START algorithm=brute, n_neighbors=5, weights=uniform...........\n",
            "[CV 1/5; 25/40] END algorithm=brute, n_neighbors=5, weights=uniform;, score=0.842 total time=   2.3s\n",
            "[CV 2/5; 25/40] START algorithm=brute, n_neighbors=5, weights=uniform...........\n",
            "[CV 2/5; 25/40] END algorithm=brute, n_neighbors=5, weights=uniform;, score=0.848 total time=   2.3s\n",
            "[CV 3/5; 25/40] START algorithm=brute, n_neighbors=5, weights=uniform...........\n",
            "[CV 3/5; 25/40] END algorithm=brute, n_neighbors=5, weights=uniform;, score=0.836 total time=   2.1s\n",
            "[CV 4/5; 25/40] START algorithm=brute, n_neighbors=5, weights=uniform...........\n",
            "[CV 4/5; 25/40] END algorithm=brute, n_neighbors=5, weights=uniform;, score=0.842 total time=   2.8s\n",
            "[CV 5/5; 25/40] START algorithm=brute, n_neighbors=5, weights=uniform...........\n",
            "[CV 5/5; 25/40] END algorithm=brute, n_neighbors=5, weights=uniform;, score=0.846 total time=   2.4s\n",
            "[CV 1/5; 26/40] START algorithm=brute, n_neighbors=5, weights=distance..........\n",
            "[CV 1/5; 26/40] END algorithm=brute, n_neighbors=5, weights=distance;, score=0.847 total time=   2.2s\n",
            "[CV 2/5; 26/40] START algorithm=brute, n_neighbors=5, weights=distance..........\n",
            "[CV 2/5; 26/40] END algorithm=brute, n_neighbors=5, weights=distance;, score=0.851 total time=   2.2s\n",
            "[CV 3/5; 26/40] START algorithm=brute, n_neighbors=5, weights=distance..........\n",
            "[CV 3/5; 26/40] END algorithm=brute, n_neighbors=5, weights=distance;, score=0.838 total time=   2.1s\n",
            "[CV 4/5; 26/40] START algorithm=brute, n_neighbors=5, weights=distance..........\n",
            "[CV 4/5; 26/40] END algorithm=brute, n_neighbors=5, weights=distance;, score=0.845 total time=   2.4s\n",
            "[CV 5/5; 26/40] START algorithm=brute, n_neighbors=5, weights=distance..........\n",
            "[CV 5/5; 26/40] END algorithm=brute, n_neighbors=5, weights=distance;, score=0.849 total time=   2.6s\n",
            "[CV 1/5; 27/40] START algorithm=brute, n_neighbors=7, weights=uniform...........\n",
            "[CV 1/5; 27/40] END algorithm=brute, n_neighbors=7, weights=uniform;, score=0.843 total time=   2.4s\n",
            "[CV 2/5; 27/40] START algorithm=brute, n_neighbors=7, weights=uniform...........\n",
            "[CV 2/5; 27/40] END algorithm=brute, n_neighbors=7, weights=uniform;, score=0.845 total time=   2.5s\n",
            "[CV 3/5; 27/40] START algorithm=brute, n_neighbors=7, weights=uniform...........\n",
            "[CV 3/5; 27/40] END algorithm=brute, n_neighbors=7, weights=uniform;, score=0.840 total time=   2.2s\n",
            "[CV 4/5; 27/40] START algorithm=brute, n_neighbors=7, weights=uniform...........\n",
            "[CV 4/5; 27/40] END algorithm=brute, n_neighbors=7, weights=uniform;, score=0.839 total time=   2.5s\n",
            "[CV 5/5; 27/40] START algorithm=brute, n_neighbors=7, weights=uniform...........\n",
            "[CV 5/5; 27/40] END algorithm=brute, n_neighbors=7, weights=uniform;, score=0.839 total time=   2.8s\n",
            "[CV 1/5; 28/40] START algorithm=brute, n_neighbors=7, weights=distance..........\n",
            "[CV 1/5; 28/40] END algorithm=brute, n_neighbors=7, weights=distance;, score=0.848 total time=   2.2s\n",
            "[CV 2/5; 28/40] START algorithm=brute, n_neighbors=7, weights=distance..........\n",
            "[CV 2/5; 28/40] END algorithm=brute, n_neighbors=7, weights=distance;, score=0.847 total time=   2.2s\n",
            "[CV 3/5; 28/40] START algorithm=brute, n_neighbors=7, weights=distance..........\n",
            "[CV 3/5; 28/40] END algorithm=brute, n_neighbors=7, weights=distance;, score=0.843 total time=   2.0s\n",
            "[CV 4/5; 28/40] START algorithm=brute, n_neighbors=7, weights=distance..........\n",
            "[CV 4/5; 28/40] END algorithm=brute, n_neighbors=7, weights=distance;, score=0.844 total time=   2.2s\n",
            "[CV 5/5; 28/40] START algorithm=brute, n_neighbors=7, weights=distance..........\n",
            "[CV 5/5; 28/40] END algorithm=brute, n_neighbors=7, weights=distance;, score=0.844 total time=   2.5s\n",
            "[CV 1/5; 29/40] START algorithm=brute, n_neighbors=9, weights=uniform...........\n",
            "[CV 1/5; 29/40] END algorithm=brute, n_neighbors=9, weights=uniform;, score=0.838 total time=   2.6s\n",
            "[CV 2/5; 29/40] START algorithm=brute, n_neighbors=9, weights=uniform...........\n",
            "[CV 2/5; 29/40] END algorithm=brute, n_neighbors=9, weights=uniform;, score=0.842 total time=   2.3s\n",
            "[CV 3/5; 29/40] START algorithm=brute, n_neighbors=9, weights=uniform...........\n",
            "[CV 3/5; 29/40] END algorithm=brute, n_neighbors=9, weights=uniform;, score=0.836 total time=   2.2s\n",
            "[CV 4/5; 29/40] START algorithm=brute, n_neighbors=9, weights=uniform...........\n",
            "[CV 4/5; 29/40] END algorithm=brute, n_neighbors=9, weights=uniform;, score=0.835 total time=   2.3s\n",
            "[CV 5/5; 29/40] START algorithm=brute, n_neighbors=9, weights=uniform...........\n",
            "[CV 5/5; 29/40] END algorithm=brute, n_neighbors=9, weights=uniform;, score=0.836 total time=   2.5s\n",
            "[CV 1/5; 30/40] START algorithm=brute, n_neighbors=9, weights=distance..........\n",
            "[CV 1/5; 30/40] END algorithm=brute, n_neighbors=9, weights=distance;, score=0.841 total time=   2.5s\n",
            "[CV 2/5; 30/40] START algorithm=brute, n_neighbors=9, weights=distance..........\n",
            "[CV 2/5; 30/40] END algorithm=brute, n_neighbors=9, weights=distance;, score=0.845 total time=   2.2s\n",
            "[CV 3/5; 30/40] START algorithm=brute, n_neighbors=9, weights=distance..........\n",
            "[CV 3/5; 30/40] END algorithm=brute, n_neighbors=9, weights=distance;, score=0.844 total time=   2.1s\n",
            "[CV 4/5; 30/40] START algorithm=brute, n_neighbors=9, weights=distance..........\n",
            "[CV 4/5; 30/40] END algorithm=brute, n_neighbors=9, weights=distance;, score=0.839 total time=   2.2s\n",
            "[CV 5/5; 30/40] START algorithm=brute, n_neighbors=9, weights=distance..........\n",
            "[CV 5/5; 30/40] END algorithm=brute, n_neighbors=9, weights=distance;, score=0.840 total time=   2.1s\n",
            "[CV 1/5; 31/40] START algorithm=ball_tree, n_neighbors=3, weights=uniform.......\n"
          ]
        },
        {
          "output_type": "stream",
          "name": "stderr",
          "text": [
            "/usr/local/lib/python3.8/dist-packages/sklearn/neighbors/_base.py:557: UserWarning: cannot use tree with sparse input: using brute force\n",
            "  warnings.warn(\"cannot use tree with sparse input: using brute force\")\n"
          ]
        },
        {
          "output_type": "stream",
          "name": "stdout",
          "text": [
            "[CV 1/5; 31/40] END algorithm=ball_tree, n_neighbors=3, weights=uniform;, score=0.842 total time=   2.4s\n",
            "[CV 2/5; 31/40] START algorithm=ball_tree, n_neighbors=3, weights=uniform.......\n"
          ]
        },
        {
          "output_type": "stream",
          "name": "stderr",
          "text": [
            "/usr/local/lib/python3.8/dist-packages/sklearn/neighbors/_base.py:557: UserWarning: cannot use tree with sparse input: using brute force\n",
            "  warnings.warn(\"cannot use tree with sparse input: using brute force\")\n"
          ]
        },
        {
          "output_type": "stream",
          "name": "stdout",
          "text": [
            "[CV 2/5; 31/40] END algorithm=ball_tree, n_neighbors=3, weights=uniform;, score=0.852 total time=   2.8s\n",
            "[CV 3/5; 31/40] START algorithm=ball_tree, n_neighbors=3, weights=uniform.......\n"
          ]
        },
        {
          "output_type": "stream",
          "name": "stderr",
          "text": [
            "/usr/local/lib/python3.8/dist-packages/sklearn/neighbors/_base.py:557: UserWarning: cannot use tree with sparse input: using brute force\n",
            "  warnings.warn(\"cannot use tree with sparse input: using brute force\")\n"
          ]
        },
        {
          "output_type": "stream",
          "name": "stdout",
          "text": [
            "[CV 3/5; 31/40] END algorithm=ball_tree, n_neighbors=3, weights=uniform;, score=0.846 total time=   2.1s\n",
            "[CV 4/5; 31/40] START algorithm=ball_tree, n_neighbors=3, weights=uniform.......\n"
          ]
        },
        {
          "output_type": "stream",
          "name": "stderr",
          "text": [
            "/usr/local/lib/python3.8/dist-packages/sklearn/neighbors/_base.py:557: UserWarning: cannot use tree with sparse input: using brute force\n",
            "  warnings.warn(\"cannot use tree with sparse input: using brute force\")\n"
          ]
        },
        {
          "output_type": "stream",
          "name": "stdout",
          "text": [
            "[CV 4/5; 31/40] END algorithm=ball_tree, n_neighbors=3, weights=uniform;, score=0.859 total time=   2.0s\n",
            "[CV 5/5; 31/40] START algorithm=ball_tree, n_neighbors=3, weights=uniform.......\n"
          ]
        },
        {
          "output_type": "stream",
          "name": "stderr",
          "text": [
            "/usr/local/lib/python3.8/dist-packages/sklearn/neighbors/_base.py:557: UserWarning: cannot use tree with sparse input: using brute force\n",
            "  warnings.warn(\"cannot use tree with sparse input: using brute force\")\n"
          ]
        },
        {
          "output_type": "stream",
          "name": "stdout",
          "text": [
            "[CV 5/5; 31/40] END algorithm=ball_tree, n_neighbors=3, weights=uniform;, score=0.853 total time=   1.9s\n",
            "[CV 1/5; 32/40] START algorithm=ball_tree, n_neighbors=3, weights=distance......\n"
          ]
        },
        {
          "output_type": "stream",
          "name": "stderr",
          "text": [
            "/usr/local/lib/python3.8/dist-packages/sklearn/neighbors/_base.py:557: UserWarning: cannot use tree with sparse input: using brute force\n",
            "  warnings.warn(\"cannot use tree with sparse input: using brute force\")\n"
          ]
        },
        {
          "output_type": "stream",
          "name": "stdout",
          "text": [
            "[CV 1/5; 32/40] END algorithm=ball_tree, n_neighbors=3, weights=distance;, score=0.843 total time=   1.9s\n",
            "[CV 2/5; 32/40] START algorithm=ball_tree, n_neighbors=3, weights=distance......\n"
          ]
        },
        {
          "output_type": "stream",
          "name": "stderr",
          "text": [
            "/usr/local/lib/python3.8/dist-packages/sklearn/neighbors/_base.py:557: UserWarning: cannot use tree with sparse input: using brute force\n",
            "  warnings.warn(\"cannot use tree with sparse input: using brute force\")\n"
          ]
        },
        {
          "output_type": "stream",
          "name": "stdout",
          "text": [
            "[CV 2/5; 32/40] END algorithm=ball_tree, n_neighbors=3, weights=distance;, score=0.853 total time=   1.8s\n",
            "[CV 3/5; 32/40] START algorithm=ball_tree, n_neighbors=3, weights=distance......\n"
          ]
        },
        {
          "output_type": "stream",
          "name": "stderr",
          "text": [
            "/usr/local/lib/python3.8/dist-packages/sklearn/neighbors/_base.py:557: UserWarning: cannot use tree with sparse input: using brute force\n",
            "  warnings.warn(\"cannot use tree with sparse input: using brute force\")\n"
          ]
        },
        {
          "output_type": "stream",
          "name": "stdout",
          "text": [
            "[CV 3/5; 32/40] END algorithm=ball_tree, n_neighbors=3, weights=distance;, score=0.847 total time=   2.1s\n",
            "[CV 4/5; 32/40] START algorithm=ball_tree, n_neighbors=3, weights=distance......\n"
          ]
        },
        {
          "output_type": "stream",
          "name": "stderr",
          "text": [
            "/usr/local/lib/python3.8/dist-packages/sklearn/neighbors/_base.py:557: UserWarning: cannot use tree with sparse input: using brute force\n",
            "  warnings.warn(\"cannot use tree with sparse input: using brute force\")\n"
          ]
        },
        {
          "output_type": "stream",
          "name": "stdout",
          "text": [
            "[CV 4/5; 32/40] END algorithm=ball_tree, n_neighbors=3, weights=distance;, score=0.860 total time=   2.0s\n",
            "[CV 5/5; 32/40] START algorithm=ball_tree, n_neighbors=3, weights=distance......\n"
          ]
        },
        {
          "output_type": "stream",
          "name": "stderr",
          "text": [
            "/usr/local/lib/python3.8/dist-packages/sklearn/neighbors/_base.py:557: UserWarning: cannot use tree with sparse input: using brute force\n",
            "  warnings.warn(\"cannot use tree with sparse input: using brute force\")\n"
          ]
        },
        {
          "output_type": "stream",
          "name": "stdout",
          "text": [
            "[CV 5/5; 32/40] END algorithm=ball_tree, n_neighbors=3, weights=distance;, score=0.855 total time=   1.8s\n",
            "[CV 1/5; 33/40] START algorithm=ball_tree, n_neighbors=4, weights=uniform.......\n"
          ]
        },
        {
          "output_type": "stream",
          "name": "stderr",
          "text": [
            "/usr/local/lib/python3.8/dist-packages/sklearn/neighbors/_base.py:557: UserWarning: cannot use tree with sparse input: using brute force\n",
            "  warnings.warn(\"cannot use tree with sparse input: using brute force\")\n"
          ]
        },
        {
          "output_type": "stream",
          "name": "stdout",
          "text": [
            "[CV 1/5; 33/40] END algorithm=ball_tree, n_neighbors=4, weights=uniform;, score=0.838 total time=   2.3s\n",
            "[CV 2/5; 33/40] START algorithm=ball_tree, n_neighbors=4, weights=uniform.......\n"
          ]
        },
        {
          "output_type": "stream",
          "name": "stderr",
          "text": [
            "/usr/local/lib/python3.8/dist-packages/sklearn/neighbors/_base.py:557: UserWarning: cannot use tree with sparse input: using brute force\n",
            "  warnings.warn(\"cannot use tree with sparse input: using brute force\")\n"
          ]
        },
        {
          "output_type": "stream",
          "name": "stdout",
          "text": [
            "[CV 2/5; 33/40] END algorithm=ball_tree, n_neighbors=4, weights=uniform;, score=0.832 total time=   2.3s\n",
            "[CV 3/5; 33/40] START algorithm=ball_tree, n_neighbors=4, weights=uniform.......\n"
          ]
        },
        {
          "output_type": "stream",
          "name": "stderr",
          "text": [
            "/usr/local/lib/python3.8/dist-packages/sklearn/neighbors/_base.py:557: UserWarning: cannot use tree with sparse input: using brute force\n",
            "  warnings.warn(\"cannot use tree with sparse input: using brute force\")\n"
          ]
        },
        {
          "output_type": "stream",
          "name": "stdout",
          "text": [
            "[CV 3/5; 33/40] END algorithm=ball_tree, n_neighbors=4, weights=uniform;, score=0.822 total time=   2.1s\n",
            "[CV 4/5; 33/40] START algorithm=ball_tree, n_neighbors=4, weights=uniform.......\n"
          ]
        },
        {
          "output_type": "stream",
          "name": "stderr",
          "text": [
            "/usr/local/lib/python3.8/dist-packages/sklearn/neighbors/_base.py:557: UserWarning: cannot use tree with sparse input: using brute force\n",
            "  warnings.warn(\"cannot use tree with sparse input: using brute force\")\n"
          ]
        },
        {
          "output_type": "stream",
          "name": "stdout",
          "text": [
            "[CV 4/5; 33/40] END algorithm=ball_tree, n_neighbors=4, weights=uniform;, score=0.834 total time=   2.8s\n",
            "[CV 5/5; 33/40] START algorithm=ball_tree, n_neighbors=4, weights=uniform.......\n"
          ]
        },
        {
          "output_type": "stream",
          "name": "stderr",
          "text": [
            "/usr/local/lib/python3.8/dist-packages/sklearn/neighbors/_base.py:557: UserWarning: cannot use tree with sparse input: using brute force\n",
            "  warnings.warn(\"cannot use tree with sparse input: using brute force\")\n"
          ]
        },
        {
          "output_type": "stream",
          "name": "stdout",
          "text": [
            "[CV 5/5; 33/40] END algorithm=ball_tree, n_neighbors=4, weights=uniform;, score=0.835 total time=   2.4s\n",
            "[CV 1/5; 34/40] START algorithm=ball_tree, n_neighbors=4, weights=distance......\n"
          ]
        },
        {
          "output_type": "stream",
          "name": "stderr",
          "text": [
            "/usr/local/lib/python3.8/dist-packages/sklearn/neighbors/_base.py:557: UserWarning: cannot use tree with sparse input: using brute force\n",
            "  warnings.warn(\"cannot use tree with sparse input: using brute force\")\n"
          ]
        },
        {
          "output_type": "stream",
          "name": "stdout",
          "text": [
            "[CV 1/5; 34/40] END algorithm=ball_tree, n_neighbors=4, weights=distance;, score=0.846 total time=   2.2s\n",
            "[CV 2/5; 34/40] START algorithm=ball_tree, n_neighbors=4, weights=distance......\n"
          ]
        },
        {
          "output_type": "stream",
          "name": "stderr",
          "text": [
            "/usr/local/lib/python3.8/dist-packages/sklearn/neighbors/_base.py:557: UserWarning: cannot use tree with sparse input: using brute force\n",
            "  warnings.warn(\"cannot use tree with sparse input: using brute force\")\n"
          ]
        },
        {
          "output_type": "stream",
          "name": "stdout",
          "text": [
            "[CV 2/5; 34/40] END algorithm=ball_tree, n_neighbors=4, weights=distance;, score=0.848 total time=   2.1s\n",
            "[CV 3/5; 34/40] START algorithm=ball_tree, n_neighbors=4, weights=distance......\n"
          ]
        },
        {
          "output_type": "stream",
          "name": "stderr",
          "text": [
            "/usr/local/lib/python3.8/dist-packages/sklearn/neighbors/_base.py:557: UserWarning: cannot use tree with sparse input: using brute force\n",
            "  warnings.warn(\"cannot use tree with sparse input: using brute force\")\n"
          ]
        },
        {
          "output_type": "stream",
          "name": "stdout",
          "text": [
            "[CV 3/5; 34/40] END algorithm=ball_tree, n_neighbors=4, weights=distance;, score=0.834 total time=   2.0s\n",
            "[CV 4/5; 34/40] START algorithm=ball_tree, n_neighbors=4, weights=distance......\n"
          ]
        },
        {
          "output_type": "stream",
          "name": "stderr",
          "text": [
            "/usr/local/lib/python3.8/dist-packages/sklearn/neighbors/_base.py:557: UserWarning: cannot use tree with sparse input: using brute force\n",
            "  warnings.warn(\"cannot use tree with sparse input: using brute force\")\n"
          ]
        },
        {
          "output_type": "stream",
          "name": "stdout",
          "text": [
            "[CV 4/5; 34/40] END algorithm=ball_tree, n_neighbors=4, weights=distance;, score=0.850 total time=   2.2s\n",
            "[CV 5/5; 34/40] START algorithm=ball_tree, n_neighbors=4, weights=distance......\n"
          ]
        },
        {
          "output_type": "stream",
          "name": "stderr",
          "text": [
            "/usr/local/lib/python3.8/dist-packages/sklearn/neighbors/_base.py:557: UserWarning: cannot use tree with sparse input: using brute force\n",
            "  warnings.warn(\"cannot use tree with sparse input: using brute force\")\n"
          ]
        },
        {
          "output_type": "stream",
          "name": "stdout",
          "text": [
            "[CV 5/5; 34/40] END algorithm=ball_tree, n_neighbors=4, weights=distance;, score=0.846 total time=   2.5s\n",
            "[CV 1/5; 35/40] START algorithm=ball_tree, n_neighbors=5, weights=uniform.......\n"
          ]
        },
        {
          "output_type": "stream",
          "name": "stderr",
          "text": [
            "/usr/local/lib/python3.8/dist-packages/sklearn/neighbors/_base.py:557: UserWarning: cannot use tree with sparse input: using brute force\n",
            "  warnings.warn(\"cannot use tree with sparse input: using brute force\")\n"
          ]
        },
        {
          "output_type": "stream",
          "name": "stdout",
          "text": [
            "[CV 1/5; 35/40] END algorithm=ball_tree, n_neighbors=5, weights=uniform;, score=0.842 total time=   2.3s\n",
            "[CV 2/5; 35/40] START algorithm=ball_tree, n_neighbors=5, weights=uniform.......\n"
          ]
        },
        {
          "output_type": "stream",
          "name": "stderr",
          "text": [
            "/usr/local/lib/python3.8/dist-packages/sklearn/neighbors/_base.py:557: UserWarning: cannot use tree with sparse input: using brute force\n",
            "  warnings.warn(\"cannot use tree with sparse input: using brute force\")\n"
          ]
        },
        {
          "output_type": "stream",
          "name": "stdout",
          "text": [
            "[CV 2/5; 35/40] END algorithm=ball_tree, n_neighbors=5, weights=uniform;, score=0.848 total time=   2.3s\n",
            "[CV 3/5; 35/40] START algorithm=ball_tree, n_neighbors=5, weights=uniform.......\n"
          ]
        },
        {
          "output_type": "stream",
          "name": "stderr",
          "text": [
            "/usr/local/lib/python3.8/dist-packages/sklearn/neighbors/_base.py:557: UserWarning: cannot use tree with sparse input: using brute force\n",
            "  warnings.warn(\"cannot use tree with sparse input: using brute force\")\n"
          ]
        },
        {
          "output_type": "stream",
          "name": "stdout",
          "text": [
            "[CV 3/5; 35/40] END algorithm=ball_tree, n_neighbors=5, weights=uniform;, score=0.836 total time=   2.1s\n",
            "[CV 4/5; 35/40] START algorithm=ball_tree, n_neighbors=5, weights=uniform.......\n"
          ]
        },
        {
          "output_type": "stream",
          "name": "stderr",
          "text": [
            "/usr/local/lib/python3.8/dist-packages/sklearn/neighbors/_base.py:557: UserWarning: cannot use tree with sparse input: using brute force\n",
            "  warnings.warn(\"cannot use tree with sparse input: using brute force\")\n"
          ]
        },
        {
          "output_type": "stream",
          "name": "stdout",
          "text": [
            "[CV 4/5; 35/40] END algorithm=ball_tree, n_neighbors=5, weights=uniform;, score=0.842 total time=   2.3s\n",
            "[CV 5/5; 35/40] START algorithm=ball_tree, n_neighbors=5, weights=uniform.......\n"
          ]
        },
        {
          "output_type": "stream",
          "name": "stderr",
          "text": [
            "/usr/local/lib/python3.8/dist-packages/sklearn/neighbors/_base.py:557: UserWarning: cannot use tree with sparse input: using brute force\n",
            "  warnings.warn(\"cannot use tree with sparse input: using brute force\")\n"
          ]
        },
        {
          "output_type": "stream",
          "name": "stdout",
          "text": [
            "[CV 5/5; 35/40] END algorithm=ball_tree, n_neighbors=5, weights=uniform;, score=0.846 total time=   2.8s\n",
            "[CV 1/5; 36/40] START algorithm=ball_tree, n_neighbors=5, weights=distance......\n"
          ]
        },
        {
          "output_type": "stream",
          "name": "stderr",
          "text": [
            "/usr/local/lib/python3.8/dist-packages/sklearn/neighbors/_base.py:557: UserWarning: cannot use tree with sparse input: using brute force\n",
            "  warnings.warn(\"cannot use tree with sparse input: using brute force\")\n"
          ]
        },
        {
          "output_type": "stream",
          "name": "stdout",
          "text": [
            "[CV 1/5; 36/40] END algorithm=ball_tree, n_neighbors=5, weights=distance;, score=0.847 total time=   2.3s\n",
            "[CV 2/5; 36/40] START algorithm=ball_tree, n_neighbors=5, weights=distance......\n"
          ]
        },
        {
          "output_type": "stream",
          "name": "stderr",
          "text": [
            "/usr/local/lib/python3.8/dist-packages/sklearn/neighbors/_base.py:557: UserWarning: cannot use tree with sparse input: using brute force\n",
            "  warnings.warn(\"cannot use tree with sparse input: using brute force\")\n"
          ]
        },
        {
          "output_type": "stream",
          "name": "stdout",
          "text": [
            "[CV 2/5; 36/40] END algorithm=ball_tree, n_neighbors=5, weights=distance;, score=0.851 total time=   2.1s\n",
            "[CV 3/5; 36/40] START algorithm=ball_tree, n_neighbors=5, weights=distance......\n"
          ]
        },
        {
          "output_type": "stream",
          "name": "stderr",
          "text": [
            "/usr/local/lib/python3.8/dist-packages/sklearn/neighbors/_base.py:557: UserWarning: cannot use tree with sparse input: using brute force\n",
            "  warnings.warn(\"cannot use tree with sparse input: using brute force\")\n"
          ]
        },
        {
          "output_type": "stream",
          "name": "stdout",
          "text": [
            "[CV 3/5; 36/40] END algorithm=ball_tree, n_neighbors=5, weights=distance;, score=0.838 total time=   2.0s\n",
            "[CV 4/5; 36/40] START algorithm=ball_tree, n_neighbors=5, weights=distance......\n"
          ]
        },
        {
          "output_type": "stream",
          "name": "stderr",
          "text": [
            "/usr/local/lib/python3.8/dist-packages/sklearn/neighbors/_base.py:557: UserWarning: cannot use tree with sparse input: using brute force\n",
            "  warnings.warn(\"cannot use tree with sparse input: using brute force\")\n"
          ]
        },
        {
          "output_type": "stream",
          "name": "stdout",
          "text": [
            "[CV 4/5; 36/40] END algorithm=ball_tree, n_neighbors=5, weights=distance;, score=0.845 total time=   2.2s\n",
            "[CV 5/5; 36/40] START algorithm=ball_tree, n_neighbors=5, weights=distance......\n"
          ]
        },
        {
          "output_type": "stream",
          "name": "stderr",
          "text": [
            "/usr/local/lib/python3.8/dist-packages/sklearn/neighbors/_base.py:557: UserWarning: cannot use tree with sparse input: using brute force\n",
            "  warnings.warn(\"cannot use tree with sparse input: using brute force\")\n"
          ]
        },
        {
          "output_type": "stream",
          "name": "stdout",
          "text": [
            "[CV 5/5; 36/40] END algorithm=ball_tree, n_neighbors=5, weights=distance;, score=0.849 total time=   2.2s\n",
            "[CV 1/5; 37/40] START algorithm=ball_tree, n_neighbors=7, weights=uniform.......\n"
          ]
        },
        {
          "output_type": "stream",
          "name": "stderr",
          "text": [
            "/usr/local/lib/python3.8/dist-packages/sklearn/neighbors/_base.py:557: UserWarning: cannot use tree with sparse input: using brute force\n",
            "  warnings.warn(\"cannot use tree with sparse input: using brute force\")\n"
          ]
        },
        {
          "output_type": "stream",
          "name": "stdout",
          "text": [
            "[CV 1/5; 37/40] END algorithm=ball_tree, n_neighbors=7, weights=uniform;, score=0.843 total time=   2.7s\n",
            "[CV 2/5; 37/40] START algorithm=ball_tree, n_neighbors=7, weights=uniform.......\n"
          ]
        },
        {
          "output_type": "stream",
          "name": "stderr",
          "text": [
            "/usr/local/lib/python3.8/dist-packages/sklearn/neighbors/_base.py:557: UserWarning: cannot use tree with sparse input: using brute force\n",
            "  warnings.warn(\"cannot use tree with sparse input: using brute force\")\n"
          ]
        },
        {
          "output_type": "stream",
          "name": "stdout",
          "text": [
            "[CV 2/5; 37/40] END algorithm=ball_tree, n_neighbors=7, weights=uniform;, score=0.845 total time=   2.4s\n",
            "[CV 3/5; 37/40] START algorithm=ball_tree, n_neighbors=7, weights=uniform.......\n"
          ]
        },
        {
          "output_type": "stream",
          "name": "stderr",
          "text": [
            "/usr/local/lib/python3.8/dist-packages/sklearn/neighbors/_base.py:557: UserWarning: cannot use tree with sparse input: using brute force\n",
            "  warnings.warn(\"cannot use tree with sparse input: using brute force\")\n"
          ]
        },
        {
          "output_type": "stream",
          "name": "stdout",
          "text": [
            "[CV 3/5; 37/40] END algorithm=ball_tree, n_neighbors=7, weights=uniform;, score=0.840 total time=   2.2s\n",
            "[CV 4/5; 37/40] START algorithm=ball_tree, n_neighbors=7, weights=uniform.......\n"
          ]
        },
        {
          "output_type": "stream",
          "name": "stderr",
          "text": [
            "/usr/local/lib/python3.8/dist-packages/sklearn/neighbors/_base.py:557: UserWarning: cannot use tree with sparse input: using brute force\n",
            "  warnings.warn(\"cannot use tree with sparse input: using brute force\")\n"
          ]
        },
        {
          "output_type": "stream",
          "name": "stdout",
          "text": [
            "[CV 4/5; 37/40] END algorithm=ball_tree, n_neighbors=7, weights=uniform;, score=0.839 total time=   2.4s\n",
            "[CV 5/5; 37/40] START algorithm=ball_tree, n_neighbors=7, weights=uniform.......\n"
          ]
        },
        {
          "output_type": "stream",
          "name": "stderr",
          "text": [
            "/usr/local/lib/python3.8/dist-packages/sklearn/neighbors/_base.py:557: UserWarning: cannot use tree with sparse input: using brute force\n",
            "  warnings.warn(\"cannot use tree with sparse input: using brute force\")\n"
          ]
        },
        {
          "output_type": "stream",
          "name": "stdout",
          "text": [
            "[CV 5/5; 37/40] END algorithm=ball_tree, n_neighbors=7, weights=uniform;, score=0.839 total time=   2.3s\n",
            "[CV 1/5; 38/40] START algorithm=ball_tree, n_neighbors=7, weights=distance......\n"
          ]
        },
        {
          "output_type": "stream",
          "name": "stderr",
          "text": [
            "/usr/local/lib/python3.8/dist-packages/sklearn/neighbors/_base.py:557: UserWarning: cannot use tree with sparse input: using brute force\n",
            "  warnings.warn(\"cannot use tree with sparse input: using brute force\")\n"
          ]
        },
        {
          "output_type": "stream",
          "name": "stdout",
          "text": [
            "[CV 1/5; 38/40] END algorithm=ball_tree, n_neighbors=7, weights=distance;, score=0.848 total time=   2.6s\n",
            "[CV 2/5; 38/40] START algorithm=ball_tree, n_neighbors=7, weights=distance......\n"
          ]
        },
        {
          "output_type": "stream",
          "name": "stderr",
          "text": [
            "/usr/local/lib/python3.8/dist-packages/sklearn/neighbors/_base.py:557: UserWarning: cannot use tree with sparse input: using brute force\n",
            "  warnings.warn(\"cannot use tree with sparse input: using brute force\")\n"
          ]
        },
        {
          "output_type": "stream",
          "name": "stdout",
          "text": [
            "[CV 2/5; 38/40] END algorithm=ball_tree, n_neighbors=7, weights=distance;, score=0.847 total time=   2.3s\n",
            "[CV 3/5; 38/40] START algorithm=ball_tree, n_neighbors=7, weights=distance......\n"
          ]
        },
        {
          "output_type": "stream",
          "name": "stderr",
          "text": [
            "/usr/local/lib/python3.8/dist-packages/sklearn/neighbors/_base.py:557: UserWarning: cannot use tree with sparse input: using brute force\n",
            "  warnings.warn(\"cannot use tree with sparse input: using brute force\")\n"
          ]
        },
        {
          "output_type": "stream",
          "name": "stdout",
          "text": [
            "[CV 3/5; 38/40] END algorithm=ball_tree, n_neighbors=7, weights=distance;, score=0.843 total time=   2.0s\n",
            "[CV 4/5; 38/40] START algorithm=ball_tree, n_neighbors=7, weights=distance......\n"
          ]
        },
        {
          "output_type": "stream",
          "name": "stderr",
          "text": [
            "/usr/local/lib/python3.8/dist-packages/sklearn/neighbors/_base.py:557: UserWarning: cannot use tree with sparse input: using brute force\n",
            "  warnings.warn(\"cannot use tree with sparse input: using brute force\")\n"
          ]
        },
        {
          "output_type": "stream",
          "name": "stdout",
          "text": [
            "[CV 4/5; 38/40] END algorithm=ball_tree, n_neighbors=7, weights=distance;, score=0.844 total time=   2.2s\n",
            "[CV 5/5; 38/40] START algorithm=ball_tree, n_neighbors=7, weights=distance......\n"
          ]
        },
        {
          "output_type": "stream",
          "name": "stderr",
          "text": [
            "/usr/local/lib/python3.8/dist-packages/sklearn/neighbors/_base.py:557: UserWarning: cannot use tree with sparse input: using brute force\n",
            "  warnings.warn(\"cannot use tree with sparse input: using brute force\")\n"
          ]
        },
        {
          "output_type": "stream",
          "name": "stdout",
          "text": [
            "[CV 5/5; 38/40] END algorithm=ball_tree, n_neighbors=7, weights=distance;, score=0.844 total time=   2.2s\n",
            "[CV 1/5; 39/40] START algorithm=ball_tree, n_neighbors=9, weights=uniform.......\n"
          ]
        },
        {
          "output_type": "stream",
          "name": "stderr",
          "text": [
            "/usr/local/lib/python3.8/dist-packages/sklearn/neighbors/_base.py:557: UserWarning: cannot use tree with sparse input: using brute force\n",
            "  warnings.warn(\"cannot use tree with sparse input: using brute force\")\n"
          ]
        },
        {
          "output_type": "stream",
          "name": "stdout",
          "text": [
            "[CV 1/5; 39/40] END algorithm=ball_tree, n_neighbors=9, weights=uniform;, score=0.838 total time=   2.5s\n",
            "[CV 2/5; 39/40] START algorithm=ball_tree, n_neighbors=9, weights=uniform.......\n"
          ]
        },
        {
          "output_type": "stream",
          "name": "stderr",
          "text": [
            "/usr/local/lib/python3.8/dist-packages/sklearn/neighbors/_base.py:557: UserWarning: cannot use tree with sparse input: using brute force\n",
            "  warnings.warn(\"cannot use tree with sparse input: using brute force\")\n"
          ]
        },
        {
          "output_type": "stream",
          "name": "stdout",
          "text": [
            "[CV 2/5; 39/40] END algorithm=ball_tree, n_neighbors=9, weights=uniform;, score=0.842 total time=   2.7s\n",
            "[CV 3/5; 39/40] START algorithm=ball_tree, n_neighbors=9, weights=uniform.......\n"
          ]
        },
        {
          "output_type": "stream",
          "name": "stderr",
          "text": [
            "/usr/local/lib/python3.8/dist-packages/sklearn/neighbors/_base.py:557: UserWarning: cannot use tree with sparse input: using brute force\n",
            "  warnings.warn(\"cannot use tree with sparse input: using brute force\")\n"
          ]
        },
        {
          "output_type": "stream",
          "name": "stdout",
          "text": [
            "[CV 3/5; 39/40] END algorithm=ball_tree, n_neighbors=9, weights=uniform;, score=0.836 total time=   2.2s\n",
            "[CV 4/5; 39/40] START algorithm=ball_tree, n_neighbors=9, weights=uniform.......\n"
          ]
        },
        {
          "output_type": "stream",
          "name": "stderr",
          "text": [
            "/usr/local/lib/python3.8/dist-packages/sklearn/neighbors/_base.py:557: UserWarning: cannot use tree with sparse input: using brute force\n",
            "  warnings.warn(\"cannot use tree with sparse input: using brute force\")\n"
          ]
        },
        {
          "output_type": "stream",
          "name": "stdout",
          "text": [
            "[CV 4/5; 39/40] END algorithm=ball_tree, n_neighbors=9, weights=uniform;, score=0.835 total time=   2.4s\n",
            "[CV 5/5; 39/40] START algorithm=ball_tree, n_neighbors=9, weights=uniform.......\n"
          ]
        },
        {
          "output_type": "stream",
          "name": "stderr",
          "text": [
            "/usr/local/lib/python3.8/dist-packages/sklearn/neighbors/_base.py:557: UserWarning: cannot use tree with sparse input: using brute force\n",
            "  warnings.warn(\"cannot use tree with sparse input: using brute force\")\n"
          ]
        },
        {
          "output_type": "stream",
          "name": "stdout",
          "text": [
            "[CV 5/5; 39/40] END algorithm=ball_tree, n_neighbors=9, weights=uniform;, score=0.836 total time=   2.3s\n",
            "[CV 1/5; 40/40] START algorithm=ball_tree, n_neighbors=9, weights=distance......\n"
          ]
        },
        {
          "output_type": "stream",
          "name": "stderr",
          "text": [
            "/usr/local/lib/python3.8/dist-packages/sklearn/neighbors/_base.py:557: UserWarning: cannot use tree with sparse input: using brute force\n",
            "  warnings.warn(\"cannot use tree with sparse input: using brute force\")\n"
          ]
        },
        {
          "output_type": "stream",
          "name": "stdout",
          "text": [
            "[CV 1/5; 40/40] END algorithm=ball_tree, n_neighbors=9, weights=distance;, score=0.841 total time=   2.2s\n",
            "[CV 2/5; 40/40] START algorithm=ball_tree, n_neighbors=9, weights=distance......\n"
          ]
        },
        {
          "output_type": "stream",
          "name": "stderr",
          "text": [
            "/usr/local/lib/python3.8/dist-packages/sklearn/neighbors/_base.py:557: UserWarning: cannot use tree with sparse input: using brute force\n",
            "  warnings.warn(\"cannot use tree with sparse input: using brute force\")\n"
          ]
        },
        {
          "output_type": "stream",
          "name": "stdout",
          "text": [
            "[CV 2/5; 40/40] END algorithm=ball_tree, n_neighbors=9, weights=distance;, score=0.845 total time=   2.6s\n",
            "[CV 3/5; 40/40] START algorithm=ball_tree, n_neighbors=9, weights=distance......\n"
          ]
        },
        {
          "output_type": "stream",
          "name": "stderr",
          "text": [
            "/usr/local/lib/python3.8/dist-packages/sklearn/neighbors/_base.py:557: UserWarning: cannot use tree with sparse input: using brute force\n",
            "  warnings.warn(\"cannot use tree with sparse input: using brute force\")\n"
          ]
        },
        {
          "output_type": "stream",
          "name": "stdout",
          "text": [
            "[CV 3/5; 40/40] END algorithm=ball_tree, n_neighbors=9, weights=distance;, score=0.844 total time=   2.1s\n",
            "[CV 4/5; 40/40] START algorithm=ball_tree, n_neighbors=9, weights=distance......\n"
          ]
        },
        {
          "output_type": "stream",
          "name": "stderr",
          "text": [
            "/usr/local/lib/python3.8/dist-packages/sklearn/neighbors/_base.py:557: UserWarning: cannot use tree with sparse input: using brute force\n",
            "  warnings.warn(\"cannot use tree with sparse input: using brute force\")\n"
          ]
        },
        {
          "output_type": "stream",
          "name": "stdout",
          "text": [
            "[CV 4/5; 40/40] END algorithm=ball_tree, n_neighbors=9, weights=distance;, score=0.839 total time=   2.2s\n",
            "[CV 5/5; 40/40] START algorithm=ball_tree, n_neighbors=9, weights=distance......\n"
          ]
        },
        {
          "output_type": "stream",
          "name": "stderr",
          "text": [
            "/usr/local/lib/python3.8/dist-packages/sklearn/neighbors/_base.py:557: UserWarning: cannot use tree with sparse input: using brute force\n",
            "  warnings.warn(\"cannot use tree with sparse input: using brute force\")\n"
          ]
        },
        {
          "output_type": "stream",
          "name": "stdout",
          "text": [
            "[CV 5/5; 40/40] END algorithm=ball_tree, n_neighbors=9, weights=distance;, score=0.840 total time=   2.2s\n"
          ]
        },
        {
          "output_type": "execute_result",
          "data": {
            "text/plain": [
              "GridSearchCV(cv=5, estimator=KNeighborsClassifier(),\n",
              "             param_grid=[{'algorithm': ['auto', 'kd_tree', 'brute',\n",
              "                                        'ball_tree'],\n",
              "                          'n_neighbors': [3, 4, 5, 7, 9],\n",
              "                          'weights': ['uniform', 'distance']}],\n",
              "             scoring='f1_micro', verbose=10)"
            ],
            "text/html": [
              "<style>#sk-container-id-5 {color: black;background-color: white;}#sk-container-id-5 pre{padding: 0;}#sk-container-id-5 div.sk-toggleable {background-color: white;}#sk-container-id-5 label.sk-toggleable__label {cursor: pointer;display: block;width: 100%;margin-bottom: 0;padding: 0.3em;box-sizing: border-box;text-align: center;}#sk-container-id-5 label.sk-toggleable__label-arrow:before {content: \"▸\";float: left;margin-right: 0.25em;color: #696969;}#sk-container-id-5 label.sk-toggleable__label-arrow:hover:before {color: black;}#sk-container-id-5 div.sk-estimator:hover label.sk-toggleable__label-arrow:before {color: black;}#sk-container-id-5 div.sk-toggleable__content {max-height: 0;max-width: 0;overflow: hidden;text-align: left;background-color: #f0f8ff;}#sk-container-id-5 div.sk-toggleable__content pre {margin: 0.2em;color: black;border-radius: 0.25em;background-color: #f0f8ff;}#sk-container-id-5 input.sk-toggleable__control:checked~div.sk-toggleable__content {max-height: 200px;max-width: 100%;overflow: auto;}#sk-container-id-5 input.sk-toggleable__control:checked~label.sk-toggleable__label-arrow:before {content: \"▾\";}#sk-container-id-5 div.sk-estimator input.sk-toggleable__control:checked~label.sk-toggleable__label {background-color: #d4ebff;}#sk-container-id-5 div.sk-label input.sk-toggleable__control:checked~label.sk-toggleable__label {background-color: #d4ebff;}#sk-container-id-5 input.sk-hidden--visually {border: 0;clip: rect(1px 1px 1px 1px);clip: rect(1px, 1px, 1px, 1px);height: 1px;margin: -1px;overflow: hidden;padding: 0;position: absolute;width: 1px;}#sk-container-id-5 div.sk-estimator {font-family: monospace;background-color: #f0f8ff;border: 1px dotted black;border-radius: 0.25em;box-sizing: border-box;margin-bottom: 0.5em;}#sk-container-id-5 div.sk-estimator:hover {background-color: #d4ebff;}#sk-container-id-5 div.sk-parallel-item::after {content: \"\";width: 100%;border-bottom: 1px solid gray;flex-grow: 1;}#sk-container-id-5 div.sk-label:hover label.sk-toggleable__label {background-color: #d4ebff;}#sk-container-id-5 div.sk-serial::before {content: \"\";position: absolute;border-left: 1px solid gray;box-sizing: border-box;top: 0;bottom: 0;left: 50%;z-index: 0;}#sk-container-id-5 div.sk-serial {display: flex;flex-direction: column;align-items: center;background-color: white;padding-right: 0.2em;padding-left: 0.2em;position: relative;}#sk-container-id-5 div.sk-item {position: relative;z-index: 1;}#sk-container-id-5 div.sk-parallel {display: flex;align-items: stretch;justify-content: center;background-color: white;position: relative;}#sk-container-id-5 div.sk-item::before, #sk-container-id-5 div.sk-parallel-item::before {content: \"\";position: absolute;border-left: 1px solid gray;box-sizing: border-box;top: 0;bottom: 0;left: 50%;z-index: -1;}#sk-container-id-5 div.sk-parallel-item {display: flex;flex-direction: column;z-index: 1;position: relative;background-color: white;}#sk-container-id-5 div.sk-parallel-item:first-child::after {align-self: flex-end;width: 50%;}#sk-container-id-5 div.sk-parallel-item:last-child::after {align-self: flex-start;width: 50%;}#sk-container-id-5 div.sk-parallel-item:only-child::after {width: 0;}#sk-container-id-5 div.sk-dashed-wrapped {border: 1px dashed gray;margin: 0 0.4em 0.5em 0.4em;box-sizing: border-box;padding-bottom: 0.4em;background-color: white;}#sk-container-id-5 div.sk-label label {font-family: monospace;font-weight: bold;display: inline-block;line-height: 1.2em;}#sk-container-id-5 div.sk-label-container {text-align: center;}#sk-container-id-5 div.sk-container {/* jupyter's `normalize.less` sets `[hidden] { display: none; }` but bootstrap.min.css set `[hidden] { display: none !important; }` so we also need the `!important` here to be able to override the default hidden behavior on the sphinx rendered scikit-learn.org. See: https://github.com/scikit-learn/scikit-learn/issues/21755 */display: inline-block !important;position: relative;}#sk-container-id-5 div.sk-text-repr-fallback {display: none;}</style><div id=\"sk-container-id-5\" class=\"sk-top-container\"><div class=\"sk-text-repr-fallback\"><pre>GridSearchCV(cv=5, estimator=KNeighborsClassifier(),\n",
              "             param_grid=[{&#x27;algorithm&#x27;: [&#x27;auto&#x27;, &#x27;kd_tree&#x27;, &#x27;brute&#x27;,\n",
              "                                        &#x27;ball_tree&#x27;],\n",
              "                          &#x27;n_neighbors&#x27;: [3, 4, 5, 7, 9],\n",
              "                          &#x27;weights&#x27;: [&#x27;uniform&#x27;, &#x27;distance&#x27;]}],\n",
              "             scoring=&#x27;f1_micro&#x27;, verbose=10)</pre><b>In a Jupyter environment, please rerun this cell to show the HTML representation or trust the notebook. <br />On GitHub, the HTML representation is unable to render, please try loading this page with nbviewer.org.</b></div><div class=\"sk-container\" hidden><div class=\"sk-item sk-dashed-wrapped\"><div class=\"sk-label-container\"><div class=\"sk-label sk-toggleable\"><input class=\"sk-toggleable__control sk-hidden--visually\" id=\"sk-estimator-id-11\" type=\"checkbox\" ><label for=\"sk-estimator-id-11\" class=\"sk-toggleable__label sk-toggleable__label-arrow\">GridSearchCV</label><div class=\"sk-toggleable__content\"><pre>GridSearchCV(cv=5, estimator=KNeighborsClassifier(),\n",
              "             param_grid=[{&#x27;algorithm&#x27;: [&#x27;auto&#x27;, &#x27;kd_tree&#x27;, &#x27;brute&#x27;,\n",
              "                                        &#x27;ball_tree&#x27;],\n",
              "                          &#x27;n_neighbors&#x27;: [3, 4, 5, 7, 9],\n",
              "                          &#x27;weights&#x27;: [&#x27;uniform&#x27;, &#x27;distance&#x27;]}],\n",
              "             scoring=&#x27;f1_micro&#x27;, verbose=10)</pre></div></div></div><div class=\"sk-parallel\"><div class=\"sk-parallel-item\"><div class=\"sk-item\"><div class=\"sk-label-container\"><div class=\"sk-label sk-toggleable\"><input class=\"sk-toggleable__control sk-hidden--visually\" id=\"sk-estimator-id-12\" type=\"checkbox\" ><label for=\"sk-estimator-id-12\" class=\"sk-toggleable__label sk-toggleable__label-arrow\">estimator: KNeighborsClassifier</label><div class=\"sk-toggleable__content\"><pre>KNeighborsClassifier()</pre></div></div></div><div class=\"sk-serial\"><div class=\"sk-item\"><div class=\"sk-estimator sk-toggleable\"><input class=\"sk-toggleable__control sk-hidden--visually\" id=\"sk-estimator-id-13\" type=\"checkbox\" ><label for=\"sk-estimator-id-13\" class=\"sk-toggleable__label sk-toggleable__label-arrow\">KNeighborsClassifier</label><div class=\"sk-toggleable__content\"><pre>KNeighborsClassifier()</pre></div></div></div></div></div></div></div></div></div></div>"
            ]
          },
          "metadata": {},
          "execution_count": 36
        }
      ]
    },
    {
      "cell_type": "markdown",
      "source": [
        "---\n",
        "\n",
        "\n",
        "# <font color='#2E86C1'>**`Grid search Logestic regression`** </font>\n",
        "\n",
        "---"
      ],
      "metadata": {
        "id": "JRf2G_6zXj4g"
      }
    },
    {
      "cell_type": "code",
      "source": [
        "Final_l = LogisticRegression(class_weight='balanced', random_state=42 )"
      ],
      "metadata": {
        "id": "qasfw7anzugF"
      },
      "execution_count": null,
      "outputs": []
    },
    {
      "cell_type": "code",
      "source": [
        "param_grid = [ \n",
        "    \n",
        "    {'penalty' : [ 'l2','l1','None','elasticnet'],\n",
        "     \n",
        "     'C': [100, 10, 1.0, 0.1, 0.01],\n",
        "\n",
        "     'solver': ['liblinear', 'newton-cg', 'sag'],\n",
        "    }\n",
        "]"
      ],
      "metadata": {
        "id": "90fnzBaWz1RJ"
      },
      "execution_count": null,
      "outputs": []
    },
    {
      "cell_type": "code",
      "source": [
        "lg_grid = GridSearchCV( Final_l , param_grid, \n",
        " \n",
        " # https://stackoverflow.com/questions/66620269/i-got-the-warning-userwarning-one-or-more-of-the-test-scores-are-non-finite-w\n",
        "   scoring= 'f1_micro',\n",
        "   verbose= 10,\n",
        "   cv = 5,\n",
        "  \n",
        ")"
      ],
      "metadata": {
        "id": "fSJKm2sj0N0R"
      },
      "execution_count": null,
      "outputs": []
    },
    {
      "cell_type": "code",
      "source": [
        "lg_grid.fit(X_train_count,y_train)"
      ],
      "metadata": {
        "colab": {
          "base_uri": "https://localhost:8080/",
          "height": 1000
        },
        "id": "lALJ7GLu0QZo",
        "outputId": "15b6debb-5089-450d-cfa1-ba700b16539f"
      },
      "execution_count": null,
      "outputs": [
        {
          "output_type": "stream",
          "name": "stdout",
          "text": [
            "Fitting 5 folds for each of 60 candidates, totalling 300 fits\n",
            "[CV 1/5; 1/60] START C=100, penalty=l2, solver=liblinear........................\n",
            "[CV 1/5; 1/60] END C=100, penalty=l2, solver=liblinear;, score=0.854 total time=   4.9s\n",
            "[CV 2/5; 1/60] START C=100, penalty=l2, solver=liblinear........................\n"
          ]
        },
        {
          "output_type": "stream",
          "name": "stderr",
          "text": [
            "/usr/local/lib/python3.8/dist-packages/sklearn/svm/_base.py:1244: ConvergenceWarning: Liblinear failed to converge, increase the number of iterations.\n",
            "  warnings.warn(\n"
          ]
        },
        {
          "output_type": "stream",
          "name": "stdout",
          "text": [
            "[CV 2/5; 1/60] END C=100, penalty=l2, solver=liblinear;, score=0.872 total time=   4.5s\n",
            "[CV 3/5; 1/60] START C=100, penalty=l2, solver=liblinear........................\n",
            "[CV 3/5; 1/60] END C=100, penalty=l2, solver=liblinear;, score=0.858 total time=   3.6s\n",
            "[CV 4/5; 1/60] START C=100, penalty=l2, solver=liblinear........................\n"
          ]
        },
        {
          "output_type": "stream",
          "name": "stderr",
          "text": [
            "/usr/local/lib/python3.8/dist-packages/sklearn/svm/_base.py:1244: ConvergenceWarning: Liblinear failed to converge, increase the number of iterations.\n",
            "  warnings.warn(\n"
          ]
        },
        {
          "output_type": "stream",
          "name": "stdout",
          "text": [
            "[CV 4/5; 1/60] END C=100, penalty=l2, solver=liblinear;, score=0.864 total time=   5.6s\n",
            "[CV 5/5; 1/60] START C=100, penalty=l2, solver=liblinear........................\n",
            "[CV 5/5; 1/60] END C=100, penalty=l2, solver=liblinear;, score=0.868 total time=   1.6s\n",
            "[CV 1/5; 2/60] START C=100, penalty=l2, solver=newton-cg........................\n",
            "[CV 1/5; 2/60] END C=100, penalty=l2, solver=newton-cg;, score=0.836 total time=   4.2s\n",
            "[CV 2/5; 2/60] START C=100, penalty=l2, solver=newton-cg........................\n",
            "[CV 2/5; 2/60] END C=100, penalty=l2, solver=newton-cg;, score=0.843 total time=   6.4s\n",
            "[CV 3/5; 2/60] START C=100, penalty=l2, solver=newton-cg........................\n",
            "[CV 3/5; 2/60] END C=100, penalty=l2, solver=newton-cg;, score=0.844 total time=   4.2s\n",
            "[CV 4/5; 2/60] START C=100, penalty=l2, solver=newton-cg........................\n",
            "[CV 4/5; 2/60] END C=100, penalty=l2, solver=newton-cg;, score=0.848 total time=   4.0s\n",
            "[CV 5/5; 2/60] START C=100, penalty=l2, solver=newton-cg........................\n",
            "[CV 5/5; 2/60] END C=100, penalty=l2, solver=newton-cg;, score=0.854 total time=   5.1s\n",
            "[CV 1/5; 3/60] START C=100, penalty=l2, solver=sag..............................\n"
          ]
        },
        {
          "output_type": "stream",
          "name": "stderr",
          "text": [
            "/usr/local/lib/python3.8/dist-packages/sklearn/linear_model/_sag.py:350: ConvergenceWarning: The max_iter was reached which means the coef_ did not converge\n",
            "  warnings.warn(\n"
          ]
        },
        {
          "output_type": "stream",
          "name": "stdout",
          "text": [
            "[CV 1/5; 3/60] END C=100, penalty=l2, solver=sag;, score=0.867 total time=   0.8s\n",
            "[CV 2/5; 3/60] START C=100, penalty=l2, solver=sag..............................\n"
          ]
        },
        {
          "output_type": "stream",
          "name": "stderr",
          "text": [
            "/usr/local/lib/python3.8/dist-packages/sklearn/linear_model/_sag.py:350: ConvergenceWarning: The max_iter was reached which means the coef_ did not converge\n",
            "  warnings.warn(\n"
          ]
        },
        {
          "output_type": "stream",
          "name": "stdout",
          "text": [
            "[CV 2/5; 3/60] END C=100, penalty=l2, solver=sag;, score=0.867 total time=   0.8s\n",
            "[CV 3/5; 3/60] START C=100, penalty=l2, solver=sag..............................\n"
          ]
        },
        {
          "output_type": "stream",
          "name": "stderr",
          "text": [
            "/usr/local/lib/python3.8/dist-packages/sklearn/linear_model/_sag.py:350: ConvergenceWarning: The max_iter was reached which means the coef_ did not converge\n",
            "  warnings.warn(\n"
          ]
        },
        {
          "output_type": "stream",
          "name": "stdout",
          "text": [
            "[CV 3/5; 3/60] END C=100, penalty=l2, solver=sag;, score=0.862 total time=   0.8s\n",
            "[CV 4/5; 3/60] START C=100, penalty=l2, solver=sag..............................\n"
          ]
        },
        {
          "output_type": "stream",
          "name": "stderr",
          "text": [
            "/usr/local/lib/python3.8/dist-packages/sklearn/linear_model/_sag.py:350: ConvergenceWarning: The max_iter was reached which means the coef_ did not converge\n",
            "  warnings.warn(\n"
          ]
        },
        {
          "output_type": "stream",
          "name": "stdout",
          "text": [
            "[CV 4/5; 3/60] END C=100, penalty=l2, solver=sag;, score=0.864 total time=   0.8s\n",
            "[CV 5/5; 3/60] START C=100, penalty=l2, solver=sag..............................\n"
          ]
        },
        {
          "output_type": "stream",
          "name": "stderr",
          "text": [
            "/usr/local/lib/python3.8/dist-packages/sklearn/linear_model/_sag.py:350: ConvergenceWarning: The max_iter was reached which means the coef_ did not converge\n",
            "  warnings.warn(\n"
          ]
        },
        {
          "output_type": "stream",
          "name": "stdout",
          "text": [
            "[CV 5/5; 3/60] END C=100, penalty=l2, solver=sag;, score=0.875 total time=   0.8s\n",
            "[CV 1/5; 4/60] START C=100, penalty=l1, solver=liblinear........................\n",
            "[CV 1/5; 4/60] END C=100, penalty=l1, solver=liblinear;, score=0.836 total time=   0.9s\n",
            "[CV 2/5; 4/60] START C=100, penalty=l1, solver=liblinear........................\n",
            "[CV 2/5; 4/60] END C=100, penalty=l1, solver=liblinear;, score=0.848 total time=   0.7s\n",
            "[CV 3/5; 4/60] START C=100, penalty=l1, solver=liblinear........................\n",
            "[CV 3/5; 4/60] END C=100, penalty=l1, solver=liblinear;, score=0.843 total time=   0.8s\n",
            "[CV 4/5; 4/60] START C=100, penalty=l1, solver=liblinear........................\n",
            "[CV 4/5; 4/60] END C=100, penalty=l1, solver=liblinear;, score=0.844 total time=   0.8s\n",
            "[CV 5/5; 4/60] START C=100, penalty=l1, solver=liblinear........................\n",
            "[CV 5/5; 4/60] END C=100, penalty=l1, solver=liblinear;, score=0.858 total time=   0.8s\n",
            "[CV 1/5; 5/60] START C=100, penalty=l1, solver=newton-cg........................\n",
            "[CV 1/5; 5/60] END C=100, penalty=l1, solver=newton-cg;, score=nan total time=   0.0s\n",
            "[CV 2/5; 5/60] START C=100, penalty=l1, solver=newton-cg........................\n",
            "[CV 2/5; 5/60] END C=100, penalty=l1, solver=newton-cg;, score=nan total time=   0.0s\n",
            "[CV 3/5; 5/60] START C=100, penalty=l1, solver=newton-cg........................\n",
            "[CV 3/5; 5/60] END C=100, penalty=l1, solver=newton-cg;, score=nan total time=   0.0s\n",
            "[CV 4/5; 5/60] START C=100, penalty=l1, solver=newton-cg........................\n",
            "[CV 4/5; 5/60] END C=100, penalty=l1, solver=newton-cg;, score=nan total time=   0.0s\n",
            "[CV 5/5; 5/60] START C=100, penalty=l1, solver=newton-cg........................\n",
            "[CV 5/5; 5/60] END C=100, penalty=l1, solver=newton-cg;, score=nan total time=   0.0s\n",
            "[CV 1/5; 6/60] START C=100, penalty=l1, solver=sag..............................\n",
            "[CV 1/5; 6/60] END .C=100, penalty=l1, solver=sag;, score=nan total time=   0.0s\n",
            "[CV 2/5; 6/60] START C=100, penalty=l1, solver=sag..............................\n",
            "[CV 2/5; 6/60] END .C=100, penalty=l1, solver=sag;, score=nan total time=   0.0s\n",
            "[CV 3/5; 6/60] START C=100, penalty=l1, solver=sag..............................\n",
            "[CV 3/5; 6/60] END .C=100, penalty=l1, solver=sag;, score=nan total time=   0.0s\n",
            "[CV 4/5; 6/60] START C=100, penalty=l1, solver=sag..............................\n",
            "[CV 4/5; 6/60] END .C=100, penalty=l1, solver=sag;, score=nan total time=   0.0s\n",
            "[CV 5/5; 6/60] START C=100, penalty=l1, solver=sag..............................\n",
            "[CV 5/5; 6/60] END .C=100, penalty=l1, solver=sag;, score=nan total time=   0.0s\n",
            "[CV 1/5; 7/60] START C=100, penalty=None, solver=liblinear......................\n",
            "[CV 1/5; 7/60] END C=100, penalty=None, solver=liblinear;, score=nan total time=   0.0s\n",
            "[CV 2/5; 7/60] START C=100, penalty=None, solver=liblinear......................\n",
            "[CV 2/5; 7/60] END C=100, penalty=None, solver=liblinear;, score=nan total time=   0.0s\n",
            "[CV 3/5; 7/60] START C=100, penalty=None, solver=liblinear......................\n",
            "[CV 3/5; 7/60] END C=100, penalty=None, solver=liblinear;, score=nan total time=   0.0s\n",
            "[CV 4/5; 7/60] START C=100, penalty=None, solver=liblinear......................\n",
            "[CV 4/5; 7/60] END C=100, penalty=None, solver=liblinear;, score=nan total time=   0.0s\n",
            "[CV 5/5; 7/60] START C=100, penalty=None, solver=liblinear......................\n",
            "[CV 5/5; 7/60] END C=100, penalty=None, solver=liblinear;, score=nan total time=   0.0s\n",
            "[CV 1/5; 8/60] START C=100, penalty=None, solver=newton-cg......................\n",
            "[CV 1/5; 8/60] END C=100, penalty=None, solver=newton-cg;, score=nan total time=   0.0s\n",
            "[CV 2/5; 8/60] START C=100, penalty=None, solver=newton-cg......................\n",
            "[CV 2/5; 8/60] END C=100, penalty=None, solver=newton-cg;, score=nan total time=   0.0s\n",
            "[CV 3/5; 8/60] START C=100, penalty=None, solver=newton-cg......................\n",
            "[CV 3/5; 8/60] END C=100, penalty=None, solver=newton-cg;, score=nan total time=   0.0s\n",
            "[CV 4/5; 8/60] START C=100, penalty=None, solver=newton-cg......................\n",
            "[CV 4/5; 8/60] END C=100, penalty=None, solver=newton-cg;, score=nan total time=   0.0s\n",
            "[CV 5/5; 8/60] START C=100, penalty=None, solver=newton-cg......................\n",
            "[CV 5/5; 8/60] END C=100, penalty=None, solver=newton-cg;, score=nan total time=   0.0s\n",
            "[CV 1/5; 9/60] START C=100, penalty=None, solver=sag............................\n",
            "[CV 1/5; 9/60] END C=100, penalty=None, solver=sag;, score=nan total time=   0.0s\n",
            "[CV 2/5; 9/60] START C=100, penalty=None, solver=sag............................\n",
            "[CV 2/5; 9/60] END C=100, penalty=None, solver=sag;, score=nan total time=   0.0s\n",
            "[CV 3/5; 9/60] START C=100, penalty=None, solver=sag............................\n",
            "[CV 3/5; 9/60] END C=100, penalty=None, solver=sag;, score=nan total time=   0.0s\n",
            "[CV 4/5; 9/60] START C=100, penalty=None, solver=sag............................\n",
            "[CV 4/5; 9/60] END C=100, penalty=None, solver=sag;, score=nan total time=   0.0s\n",
            "[CV 5/5; 9/60] START C=100, penalty=None, solver=sag............................\n",
            "[CV 5/5; 9/60] END C=100, penalty=None, solver=sag;, score=nan total time=   0.0s\n",
            "[CV 1/5; 10/60] START C=100, penalty=elasticnet, solver=liblinear...............\n",
            "[CV 1/5; 10/60] END C=100, penalty=elasticnet, solver=liblinear;, score=nan total time=   0.0s\n",
            "[CV 2/5; 10/60] START C=100, penalty=elasticnet, solver=liblinear...............\n",
            "[CV 2/5; 10/60] END C=100, penalty=elasticnet, solver=liblinear;, score=nan total time=   0.0s\n",
            "[CV 3/5; 10/60] START C=100, penalty=elasticnet, solver=liblinear...............\n",
            "[CV 3/5; 10/60] END C=100, penalty=elasticnet, solver=liblinear;, score=nan total time=   0.0s\n",
            "[CV 4/5; 10/60] START C=100, penalty=elasticnet, solver=liblinear...............\n",
            "[CV 4/5; 10/60] END C=100, penalty=elasticnet, solver=liblinear;, score=nan total time=   0.0s\n",
            "[CV 5/5; 10/60] START C=100, penalty=elasticnet, solver=liblinear...............\n",
            "[CV 5/5; 10/60] END C=100, penalty=elasticnet, solver=liblinear;, score=nan total time=   0.0s\n",
            "[CV 1/5; 11/60] START C=100, penalty=elasticnet, solver=newton-cg...............\n",
            "[CV 1/5; 11/60] END C=100, penalty=elasticnet, solver=newton-cg;, score=nan total time=   0.0s\n",
            "[CV 2/5; 11/60] START C=100, penalty=elasticnet, solver=newton-cg...............\n",
            "[CV 2/5; 11/60] END C=100, penalty=elasticnet, solver=newton-cg;, score=nan total time=   0.0s\n",
            "[CV 3/5; 11/60] START C=100, penalty=elasticnet, solver=newton-cg...............\n",
            "[CV 3/5; 11/60] END C=100, penalty=elasticnet, solver=newton-cg;, score=nan total time=   0.0s\n",
            "[CV 4/5; 11/60] START C=100, penalty=elasticnet, solver=newton-cg...............\n",
            "[CV 4/5; 11/60] END C=100, penalty=elasticnet, solver=newton-cg;, score=nan total time=   0.0s\n",
            "[CV 5/5; 11/60] START C=100, penalty=elasticnet, solver=newton-cg...............\n",
            "[CV 5/5; 11/60] END C=100, penalty=elasticnet, solver=newton-cg;, score=nan total time=   0.0s\n",
            "[CV 1/5; 12/60] START C=100, penalty=elasticnet, solver=sag.....................\n",
            "[CV 1/5; 12/60] END C=100, penalty=elasticnet, solver=sag;, score=nan total time=   0.0s\n",
            "[CV 2/5; 12/60] START C=100, penalty=elasticnet, solver=sag.....................\n",
            "[CV 2/5; 12/60] END C=100, penalty=elasticnet, solver=sag;, score=nan total time=   0.0s\n",
            "[CV 3/5; 12/60] START C=100, penalty=elasticnet, solver=sag.....................\n",
            "[CV 3/5; 12/60] END C=100, penalty=elasticnet, solver=sag;, score=nan total time=   0.0s\n",
            "[CV 4/5; 12/60] START C=100, penalty=elasticnet, solver=sag.....................\n",
            "[CV 4/5; 12/60] END C=100, penalty=elasticnet, solver=sag;, score=nan total time=   0.0s\n",
            "[CV 5/5; 12/60] START C=100, penalty=elasticnet, solver=sag.....................\n",
            "[CV 5/5; 12/60] END C=100, penalty=elasticnet, solver=sag;, score=nan total time=   0.0s\n",
            "[CV 1/5; 13/60] START C=10, penalty=l2, solver=liblinear........................\n",
            "[CV 1/5; 13/60] END C=10, penalty=l2, solver=liblinear;, score=0.878 total time=   0.8s\n",
            "[CV 2/5; 13/60] START C=10, penalty=l2, solver=liblinear........................\n",
            "[CV 2/5; 13/60] END C=10, penalty=l2, solver=liblinear;, score=0.885 total time=   1.4s\n",
            "[CV 3/5; 13/60] START C=10, penalty=l2, solver=liblinear........................\n",
            "[CV 3/5; 13/60] END C=10, penalty=l2, solver=liblinear;, score=0.878 total time=   1.7s\n",
            "[CV 4/5; 13/60] START C=10, penalty=l2, solver=liblinear........................\n",
            "[CV 4/5; 13/60] END C=10, penalty=l2, solver=liblinear;, score=0.875 total time=   1.3s\n",
            "[CV 5/5; 13/60] START C=10, penalty=l2, solver=liblinear........................\n",
            "[CV 5/5; 13/60] END C=10, penalty=l2, solver=liblinear;, score=0.888 total time=   0.7s\n",
            "[CV 1/5; 14/60] START C=10, penalty=l2, solver=newton-cg........................\n",
            "[CV 1/5; 14/60] END C=10, penalty=l2, solver=newton-cg;, score=0.857 total time=   2.3s\n",
            "[CV 2/5; 14/60] START C=10, penalty=l2, solver=newton-cg........................\n",
            "[CV 2/5; 14/60] END C=10, penalty=l2, solver=newton-cg;, score=0.861 total time=   2.2s\n",
            "[CV 3/5; 14/60] START C=10, penalty=l2, solver=newton-cg........................\n",
            "[CV 3/5; 14/60] END C=10, penalty=l2, solver=newton-cg;, score=0.853 total time=   2.1s\n",
            "[CV 4/5; 14/60] START C=10, penalty=l2, solver=newton-cg........................\n",
            "[CV 4/5; 14/60] END C=10, penalty=l2, solver=newton-cg;, score=0.860 total time=   2.6s\n",
            "[CV 5/5; 14/60] START C=10, penalty=l2, solver=newton-cg........................\n",
            "[CV 5/5; 14/60] END C=10, penalty=l2, solver=newton-cg;, score=0.866 total time=   3.5s\n",
            "[CV 1/5; 15/60] START C=10, penalty=l2, solver=sag..............................\n"
          ]
        },
        {
          "output_type": "stream",
          "name": "stderr",
          "text": [
            "/usr/local/lib/python3.8/dist-packages/sklearn/linear_model/_sag.py:350: ConvergenceWarning: The max_iter was reached which means the coef_ did not converge\n",
            "  warnings.warn(\n"
          ]
        },
        {
          "output_type": "stream",
          "name": "stdout",
          "text": [
            "[CV 1/5; 15/60] END C=10, penalty=l2, solver=sag;, score=0.866 total time=   0.8s\n",
            "[CV 2/5; 15/60] START C=10, penalty=l2, solver=sag..............................\n"
          ]
        },
        {
          "output_type": "stream",
          "name": "stderr",
          "text": [
            "/usr/local/lib/python3.8/dist-packages/sklearn/linear_model/_sag.py:350: ConvergenceWarning: The max_iter was reached which means the coef_ did not converge\n",
            "  warnings.warn(\n"
          ]
        },
        {
          "output_type": "stream",
          "name": "stdout",
          "text": [
            "[CV 2/5; 15/60] END C=10, penalty=l2, solver=sag;, score=0.869 total time=   0.8s\n",
            "[CV 3/5; 15/60] START C=10, penalty=l2, solver=sag..............................\n"
          ]
        },
        {
          "output_type": "stream",
          "name": "stderr",
          "text": [
            "/usr/local/lib/python3.8/dist-packages/sklearn/linear_model/_sag.py:350: ConvergenceWarning: The max_iter was reached which means the coef_ did not converge\n",
            "  warnings.warn(\n"
          ]
        },
        {
          "output_type": "stream",
          "name": "stdout",
          "text": [
            "[CV 3/5; 15/60] END C=10, penalty=l2, solver=sag;, score=0.861 total time=   0.8s\n",
            "[CV 4/5; 15/60] START C=10, penalty=l2, solver=sag..............................\n"
          ]
        },
        {
          "output_type": "stream",
          "name": "stderr",
          "text": [
            "/usr/local/lib/python3.8/dist-packages/sklearn/linear_model/_sag.py:350: ConvergenceWarning: The max_iter was reached which means the coef_ did not converge\n",
            "  warnings.warn(\n"
          ]
        },
        {
          "output_type": "stream",
          "name": "stdout",
          "text": [
            "[CV 4/5; 15/60] END C=10, penalty=l2, solver=sag;, score=0.863 total time=   0.8s\n",
            "[CV 5/5; 15/60] START C=10, penalty=l2, solver=sag..............................\n"
          ]
        },
        {
          "output_type": "stream",
          "name": "stderr",
          "text": [
            "/usr/local/lib/python3.8/dist-packages/sklearn/linear_model/_sag.py:350: ConvergenceWarning: The max_iter was reached which means the coef_ did not converge\n",
            "  warnings.warn(\n"
          ]
        },
        {
          "output_type": "stream",
          "name": "stdout",
          "text": [
            "[CV 5/5; 15/60] END C=10, penalty=l2, solver=sag;, score=0.876 total time=   0.8s\n",
            "[CV 1/5; 16/60] START C=10, penalty=l1, solver=liblinear........................\n",
            "[CV 1/5; 16/60] END C=10, penalty=l1, solver=liblinear;, score=0.869 total time=   0.6s\n",
            "[CV 2/5; 16/60] START C=10, penalty=l1, solver=liblinear........................\n",
            "[CV 2/5; 16/60] END C=10, penalty=l1, solver=liblinear;, score=0.879 total time=   0.6s\n",
            "[CV 3/5; 16/60] START C=10, penalty=l1, solver=liblinear........................\n",
            "[CV 3/5; 16/60] END C=10, penalty=l1, solver=liblinear;, score=0.873 total time=   0.6s\n",
            "[CV 4/5; 16/60] START C=10, penalty=l1, solver=liblinear........................\n",
            "[CV 4/5; 16/60] END C=10, penalty=l1, solver=liblinear;, score=0.875 total time=   0.6s\n",
            "[CV 5/5; 16/60] START C=10, penalty=l1, solver=liblinear........................\n",
            "[CV 5/5; 16/60] END C=10, penalty=l1, solver=liblinear;, score=0.883 total time=   0.6s\n",
            "[CV 1/5; 17/60] START C=10, penalty=l1, solver=newton-cg........................\n",
            "[CV 1/5; 17/60] END C=10, penalty=l1, solver=newton-cg;, score=nan total time=   0.0s\n",
            "[CV 2/5; 17/60] START C=10, penalty=l1, solver=newton-cg........................\n",
            "[CV 2/5; 17/60] END C=10, penalty=l1, solver=newton-cg;, score=nan total time=   0.0s\n",
            "[CV 3/5; 17/60] START C=10, penalty=l1, solver=newton-cg........................\n",
            "[CV 3/5; 17/60] END C=10, penalty=l1, solver=newton-cg;, score=nan total time=   0.0s\n",
            "[CV 4/5; 17/60] START C=10, penalty=l1, solver=newton-cg........................\n",
            "[CV 4/5; 17/60] END C=10, penalty=l1, solver=newton-cg;, score=nan total time=   0.0s\n",
            "[CV 5/5; 17/60] START C=10, penalty=l1, solver=newton-cg........................\n",
            "[CV 5/5; 17/60] END C=10, penalty=l1, solver=newton-cg;, score=nan total time=   0.0s\n",
            "[CV 1/5; 18/60] START C=10, penalty=l1, solver=sag..............................\n",
            "[CV 1/5; 18/60] END .C=10, penalty=l1, solver=sag;, score=nan total time=   0.0s\n",
            "[CV 2/5; 18/60] START C=10, penalty=l1, solver=sag..............................\n",
            "[CV 2/5; 18/60] END .C=10, penalty=l1, solver=sag;, score=nan total time=   0.0s\n",
            "[CV 3/5; 18/60] START C=10, penalty=l1, solver=sag..............................\n",
            "[CV 3/5; 18/60] END .C=10, penalty=l1, solver=sag;, score=nan total time=   0.0s\n",
            "[CV 4/5; 18/60] START C=10, penalty=l1, solver=sag..............................\n",
            "[CV 4/5; 18/60] END .C=10, penalty=l1, solver=sag;, score=nan total time=   0.0s\n",
            "[CV 5/5; 18/60] START C=10, penalty=l1, solver=sag..............................\n",
            "[CV 5/5; 18/60] END .C=10, penalty=l1, solver=sag;, score=nan total time=   0.0s\n",
            "[CV 1/5; 19/60] START C=10, penalty=None, solver=liblinear......................\n",
            "[CV 1/5; 19/60] END C=10, penalty=None, solver=liblinear;, score=nan total time=   0.0s\n",
            "[CV 2/5; 19/60] START C=10, penalty=None, solver=liblinear......................\n",
            "[CV 2/5; 19/60] END C=10, penalty=None, solver=liblinear;, score=nan total time=   0.0s\n",
            "[CV 3/5; 19/60] START C=10, penalty=None, solver=liblinear......................\n",
            "[CV 3/5; 19/60] END C=10, penalty=None, solver=liblinear;, score=nan total time=   0.0s\n",
            "[CV 4/5; 19/60] START C=10, penalty=None, solver=liblinear......................\n",
            "[CV 4/5; 19/60] END C=10, penalty=None, solver=liblinear;, score=nan total time=   0.0s\n",
            "[CV 5/5; 19/60] START C=10, penalty=None, solver=liblinear......................\n",
            "[CV 5/5; 19/60] END C=10, penalty=None, solver=liblinear;, score=nan total time=   0.0s\n",
            "[CV 1/5; 20/60] START C=10, penalty=None, solver=newton-cg......................\n",
            "[CV 1/5; 20/60] END C=10, penalty=None, solver=newton-cg;, score=nan total time=   0.0s\n",
            "[CV 2/5; 20/60] START C=10, penalty=None, solver=newton-cg......................\n",
            "[CV 2/5; 20/60] END C=10, penalty=None, solver=newton-cg;, score=nan total time=   0.0s\n",
            "[CV 3/5; 20/60] START C=10, penalty=None, solver=newton-cg......................\n",
            "[CV 3/5; 20/60] END C=10, penalty=None, solver=newton-cg;, score=nan total time=   0.0s\n",
            "[CV 4/5; 20/60] START C=10, penalty=None, solver=newton-cg......................\n",
            "[CV 4/5; 20/60] END C=10, penalty=None, solver=newton-cg;, score=nan total time=   0.0s\n",
            "[CV 5/5; 20/60] START C=10, penalty=None, solver=newton-cg......................\n",
            "[CV 5/5; 20/60] END C=10, penalty=None, solver=newton-cg;, score=nan total time=   0.0s\n",
            "[CV 1/5; 21/60] START C=10, penalty=None, solver=sag............................\n",
            "[CV 1/5; 21/60] END C=10, penalty=None, solver=sag;, score=nan total time=   0.0s\n",
            "[CV 2/5; 21/60] START C=10, penalty=None, solver=sag............................\n",
            "[CV 2/5; 21/60] END C=10, penalty=None, solver=sag;, score=nan total time=   0.0s\n",
            "[CV 3/5; 21/60] START C=10, penalty=None, solver=sag............................\n",
            "[CV 3/5; 21/60] END C=10, penalty=None, solver=sag;, score=nan total time=   0.0s\n",
            "[CV 4/5; 21/60] START C=10, penalty=None, solver=sag............................\n",
            "[CV 4/5; 21/60] END C=10, penalty=None, solver=sag;, score=nan total time=   0.0s\n",
            "[CV 5/5; 21/60] START C=10, penalty=None, solver=sag............................\n",
            "[CV 5/5; 21/60] END C=10, penalty=None, solver=sag;, score=nan total time=   0.0s\n",
            "[CV 1/5; 22/60] START C=10, penalty=elasticnet, solver=liblinear................\n",
            "[CV 1/5; 22/60] END C=10, penalty=elasticnet, solver=liblinear;, score=nan total time=   0.0s\n",
            "[CV 2/5; 22/60] START C=10, penalty=elasticnet, solver=liblinear................\n",
            "[CV 2/5; 22/60] END C=10, penalty=elasticnet, solver=liblinear;, score=nan total time=   0.0s\n",
            "[CV 3/5; 22/60] START C=10, penalty=elasticnet, solver=liblinear................\n",
            "[CV 3/5; 22/60] END C=10, penalty=elasticnet, solver=liblinear;, score=nan total time=   0.0s\n",
            "[CV 4/5; 22/60] START C=10, penalty=elasticnet, solver=liblinear................\n",
            "[CV 4/5; 22/60] END C=10, penalty=elasticnet, solver=liblinear;, score=nan total time=   0.0s\n",
            "[CV 5/5; 22/60] START C=10, penalty=elasticnet, solver=liblinear................\n",
            "[CV 5/5; 22/60] END C=10, penalty=elasticnet, solver=liblinear;, score=nan total time=   0.0s\n",
            "[CV 1/5; 23/60] START C=10, penalty=elasticnet, solver=newton-cg................\n",
            "[CV 1/5; 23/60] END C=10, penalty=elasticnet, solver=newton-cg;, score=nan total time=   0.0s\n",
            "[CV 2/5; 23/60] START C=10, penalty=elasticnet, solver=newton-cg................\n",
            "[CV 2/5; 23/60] END C=10, penalty=elasticnet, solver=newton-cg;, score=nan total time=   0.0s\n",
            "[CV 3/5; 23/60] START C=10, penalty=elasticnet, solver=newton-cg................\n",
            "[CV 3/5; 23/60] END C=10, penalty=elasticnet, solver=newton-cg;, score=nan total time=   0.0s\n",
            "[CV 4/5; 23/60] START C=10, penalty=elasticnet, solver=newton-cg................\n",
            "[CV 4/5; 23/60] END C=10, penalty=elasticnet, solver=newton-cg;, score=nan total time=   0.0s\n",
            "[CV 5/5; 23/60] START C=10, penalty=elasticnet, solver=newton-cg................\n",
            "[CV 5/5; 23/60] END C=10, penalty=elasticnet, solver=newton-cg;, score=nan total time=   0.0s\n",
            "[CV 1/5; 24/60] START C=10, penalty=elasticnet, solver=sag......................\n",
            "[CV 1/5; 24/60] END C=10, penalty=elasticnet, solver=sag;, score=nan total time=   0.0s\n",
            "[CV 2/5; 24/60] START C=10, penalty=elasticnet, solver=sag......................\n",
            "[CV 2/5; 24/60] END C=10, penalty=elasticnet, solver=sag;, score=nan total time=   0.0s\n",
            "[CV 3/5; 24/60] START C=10, penalty=elasticnet, solver=sag......................\n",
            "[CV 3/5; 24/60] END C=10, penalty=elasticnet, solver=sag;, score=nan total time=   0.0s\n",
            "[CV 4/5; 24/60] START C=10, penalty=elasticnet, solver=sag......................\n",
            "[CV 4/5; 24/60] END C=10, penalty=elasticnet, solver=sag;, score=nan total time=   0.0s\n",
            "[CV 5/5; 24/60] START C=10, penalty=elasticnet, solver=sag......................\n",
            "[CV 5/5; 24/60] END C=10, penalty=elasticnet, solver=sag;, score=nan total time=   0.0s\n",
            "[CV 1/5; 25/60] START C=1.0, penalty=l2, solver=liblinear.......................\n",
            "[CV 1/5; 25/60] END C=1.0, penalty=l2, solver=liblinear;, score=0.888 total time=   0.4s\n",
            "[CV 2/5; 25/60] START C=1.0, penalty=l2, solver=liblinear.......................\n",
            "[CV 2/5; 25/60] END C=1.0, penalty=l2, solver=liblinear;, score=0.901 total time=   0.4s\n",
            "[CV 3/5; 25/60] START C=1.0, penalty=l2, solver=liblinear.......................\n",
            "[CV 3/5; 25/60] END C=1.0, penalty=l2, solver=liblinear;, score=0.888 total time=   0.4s\n",
            "[CV 4/5; 25/60] START C=1.0, penalty=l2, solver=liblinear.......................\n",
            "[CV 4/5; 25/60] END C=1.0, penalty=l2, solver=liblinear;, score=0.892 total time=   0.4s\n",
            "[CV 5/5; 25/60] START C=1.0, penalty=l2, solver=liblinear.......................\n",
            "[CV 5/5; 25/60] END C=1.0, penalty=l2, solver=liblinear;, score=0.897 total time=   0.4s\n",
            "[CV 1/5; 26/60] START C=1.0, penalty=l2, solver=newton-cg.......................\n",
            "[CV 1/5; 26/60] END C=1.0, penalty=l2, solver=newton-cg;, score=0.866 total time=   2.5s\n",
            "[CV 2/5; 26/60] START C=1.0, penalty=l2, solver=newton-cg.......................\n",
            "[CV 2/5; 26/60] END C=1.0, penalty=l2, solver=newton-cg;, score=0.871 total time=   1.8s\n",
            "[CV 3/5; 26/60] START C=1.0, penalty=l2, solver=newton-cg.......................\n",
            "[CV 3/5; 26/60] END C=1.0, penalty=l2, solver=newton-cg;, score=0.861 total time=   1.5s\n",
            "[CV 4/5; 26/60] START C=1.0, penalty=l2, solver=newton-cg.......................\n",
            "[CV 4/5; 26/60] END C=1.0, penalty=l2, solver=newton-cg;, score=0.868 total time=   1.5s\n",
            "[CV 5/5; 26/60] START C=1.0, penalty=l2, solver=newton-cg.......................\n",
            "[CV 5/5; 26/60] END C=1.0, penalty=l2, solver=newton-cg;, score=0.875 total time=   1.3s\n",
            "[CV 1/5; 27/60] START C=1.0, penalty=l2, solver=sag.............................\n"
          ]
        },
        {
          "output_type": "stream",
          "name": "stderr",
          "text": [
            "/usr/local/lib/python3.8/dist-packages/sklearn/linear_model/_sag.py:350: ConvergenceWarning: The max_iter was reached which means the coef_ did not converge\n",
            "  warnings.warn(\n"
          ]
        },
        {
          "output_type": "stream",
          "name": "stdout",
          "text": [
            "[CV 1/5; 27/60] END C=1.0, penalty=l2, solver=sag;, score=0.868 total time=   0.9s\n",
            "[CV 2/5; 27/60] START C=1.0, penalty=l2, solver=sag.............................\n"
          ]
        },
        {
          "output_type": "stream",
          "name": "stderr",
          "text": [
            "/usr/local/lib/python3.8/dist-packages/sklearn/linear_model/_sag.py:350: ConvergenceWarning: The max_iter was reached which means the coef_ did not converge\n",
            "  warnings.warn(\n"
          ]
        },
        {
          "output_type": "stream",
          "name": "stdout",
          "text": [
            "[CV 2/5; 27/60] END C=1.0, penalty=l2, solver=sag;, score=0.869 total time=   0.8s\n",
            "[CV 3/5; 27/60] START C=1.0, penalty=l2, solver=sag.............................\n"
          ]
        },
        {
          "output_type": "stream",
          "name": "stderr",
          "text": [
            "/usr/local/lib/python3.8/dist-packages/sklearn/linear_model/_sag.py:350: ConvergenceWarning: The max_iter was reached which means the coef_ did not converge\n",
            "  warnings.warn(\n"
          ]
        },
        {
          "output_type": "stream",
          "name": "stdout",
          "text": [
            "[CV 3/5; 27/60] END C=1.0, penalty=l2, solver=sag;, score=0.862 total time=   0.8s\n",
            "[CV 4/5; 27/60] START C=1.0, penalty=l2, solver=sag.............................\n"
          ]
        },
        {
          "output_type": "stream",
          "name": "stderr",
          "text": [
            "/usr/local/lib/python3.8/dist-packages/sklearn/linear_model/_sag.py:350: ConvergenceWarning: The max_iter was reached which means the coef_ did not converge\n",
            "  warnings.warn(\n"
          ]
        },
        {
          "output_type": "stream",
          "name": "stdout",
          "text": [
            "[CV 4/5; 27/60] END C=1.0, penalty=l2, solver=sag;, score=0.866 total time=   0.8s\n",
            "[CV 5/5; 27/60] START C=1.0, penalty=l2, solver=sag.............................\n"
          ]
        },
        {
          "output_type": "stream",
          "name": "stderr",
          "text": [
            "/usr/local/lib/python3.8/dist-packages/sklearn/linear_model/_sag.py:350: ConvergenceWarning: The max_iter was reached which means the coef_ did not converge\n",
            "  warnings.warn(\n"
          ]
        },
        {
          "output_type": "stream",
          "name": "stdout",
          "text": [
            "[CV 5/5; 27/60] END C=1.0, penalty=l2, solver=sag;, score=0.875 total time=   0.8s\n",
            "[CV 1/5; 28/60] START C=1.0, penalty=l1, solver=liblinear.......................\n",
            "[CV 1/5; 28/60] END C=1.0, penalty=l1, solver=liblinear;, score=0.892 total time=   0.2s\n",
            "[CV 2/5; 28/60] START C=1.0, penalty=l1, solver=liblinear.......................\n",
            "[CV 2/5; 28/60] END C=1.0, penalty=l1, solver=liblinear;, score=0.902 total time=   0.3s\n",
            "[CV 3/5; 28/60] START C=1.0, penalty=l1, solver=liblinear.......................\n",
            "[CV 3/5; 28/60] END C=1.0, penalty=l1, solver=liblinear;, score=0.889 total time=   0.3s\n",
            "[CV 4/5; 28/60] START C=1.0, penalty=l1, solver=liblinear.......................\n",
            "[CV 4/5; 28/60] END C=1.0, penalty=l1, solver=liblinear;, score=0.893 total time=   0.3s\n",
            "[CV 5/5; 28/60] START C=1.0, penalty=l1, solver=liblinear.......................\n",
            "[CV 5/5; 28/60] END C=1.0, penalty=l1, solver=liblinear;, score=0.896 total time=   0.4s\n",
            "[CV 1/5; 29/60] START C=1.0, penalty=l1, solver=newton-cg.......................\n",
            "[CV 1/5; 29/60] END C=1.0, penalty=l1, solver=newton-cg;, score=nan total time=   0.0s\n",
            "[CV 2/5; 29/60] START C=1.0, penalty=l1, solver=newton-cg.......................\n",
            "[CV 2/5; 29/60] END C=1.0, penalty=l1, solver=newton-cg;, score=nan total time=   0.0s\n",
            "[CV 3/5; 29/60] START C=1.0, penalty=l1, solver=newton-cg.......................\n",
            "[CV 3/5; 29/60] END C=1.0, penalty=l1, solver=newton-cg;, score=nan total time=   0.0s\n",
            "[CV 4/5; 29/60] START C=1.0, penalty=l1, solver=newton-cg.......................\n",
            "[CV 4/5; 29/60] END C=1.0, penalty=l1, solver=newton-cg;, score=nan total time=   0.0s\n",
            "[CV 5/5; 29/60] START C=1.0, penalty=l1, solver=newton-cg.......................\n",
            "[CV 5/5; 29/60] END C=1.0, penalty=l1, solver=newton-cg;, score=nan total time=   0.0s\n",
            "[CV 1/5; 30/60] START C=1.0, penalty=l1, solver=sag.............................\n",
            "[CV 1/5; 30/60] END C=1.0, penalty=l1, solver=sag;, score=nan total time=   0.0s\n",
            "[CV 2/5; 30/60] START C=1.0, penalty=l1, solver=sag.............................\n",
            "[CV 2/5; 30/60] END C=1.0, penalty=l1, solver=sag;, score=nan total time=   0.0s\n",
            "[CV 3/5; 30/60] START C=1.0, penalty=l1, solver=sag.............................\n",
            "[CV 3/5; 30/60] END C=1.0, penalty=l1, solver=sag;, score=nan total time=   0.0s\n",
            "[CV 4/5; 30/60] START C=1.0, penalty=l1, solver=sag.............................\n",
            "[CV 4/5; 30/60] END C=1.0, penalty=l1, solver=sag;, score=nan total time=   0.0s\n",
            "[CV 5/5; 30/60] START C=1.0, penalty=l1, solver=sag.............................\n",
            "[CV 5/5; 30/60] END C=1.0, penalty=l1, solver=sag;, score=nan total time=   0.0s\n",
            "[CV 1/5; 31/60] START C=1.0, penalty=None, solver=liblinear.....................\n",
            "[CV 1/5; 31/60] END C=1.0, penalty=None, solver=liblinear;, score=nan total time=   0.0s\n",
            "[CV 2/5; 31/60] START C=1.0, penalty=None, solver=liblinear.....................\n",
            "[CV 2/5; 31/60] END C=1.0, penalty=None, solver=liblinear;, score=nan total time=   0.0s\n",
            "[CV 3/5; 31/60] START C=1.0, penalty=None, solver=liblinear.....................\n",
            "[CV 3/5; 31/60] END C=1.0, penalty=None, solver=liblinear;, score=nan total time=   0.0s\n",
            "[CV 4/5; 31/60] START C=1.0, penalty=None, solver=liblinear.....................\n",
            "[CV 4/5; 31/60] END C=1.0, penalty=None, solver=liblinear;, score=nan total time=   0.0s\n",
            "[CV 5/5; 31/60] START C=1.0, penalty=None, solver=liblinear.....................\n",
            "[CV 5/5; 31/60] END C=1.0, penalty=None, solver=liblinear;, score=nan total time=   0.0s\n",
            "[CV 1/5; 32/60] START C=1.0, penalty=None, solver=newton-cg.....................\n",
            "[CV 1/5; 32/60] END C=1.0, penalty=None, solver=newton-cg;, score=nan total time=   0.0s\n",
            "[CV 2/5; 32/60] START C=1.0, penalty=None, solver=newton-cg.....................\n",
            "[CV 2/5; 32/60] END C=1.0, penalty=None, solver=newton-cg;, score=nan total time=   0.0s\n",
            "[CV 3/5; 32/60] START C=1.0, penalty=None, solver=newton-cg.....................\n",
            "[CV 3/5; 32/60] END C=1.0, penalty=None, solver=newton-cg;, score=nan total time=   0.0s\n",
            "[CV 4/5; 32/60] START C=1.0, penalty=None, solver=newton-cg.....................\n",
            "[CV 4/5; 32/60] END C=1.0, penalty=None, solver=newton-cg;, score=nan total time=   0.0s\n",
            "[CV 5/5; 32/60] START C=1.0, penalty=None, solver=newton-cg.....................\n",
            "[CV 5/5; 32/60] END C=1.0, penalty=None, solver=newton-cg;, score=nan total time=   0.0s\n",
            "[CV 1/5; 33/60] START C=1.0, penalty=None, solver=sag...........................\n",
            "[CV 1/5; 33/60] END C=1.0, penalty=None, solver=sag;, score=nan total time=   0.0s\n",
            "[CV 2/5; 33/60] START C=1.0, penalty=None, solver=sag...........................\n",
            "[CV 2/5; 33/60] END C=1.0, penalty=None, solver=sag;, score=nan total time=   0.0s\n",
            "[CV 3/5; 33/60] START C=1.0, penalty=None, solver=sag...........................\n",
            "[CV 3/5; 33/60] END C=1.0, penalty=None, solver=sag;, score=nan total time=   0.0s\n",
            "[CV 4/5; 33/60] START C=1.0, penalty=None, solver=sag...........................\n",
            "[CV 4/5; 33/60] END C=1.0, penalty=None, solver=sag;, score=nan total time=   0.0s\n",
            "[CV 5/5; 33/60] START C=1.0, penalty=None, solver=sag...........................\n",
            "[CV 5/5; 33/60] END C=1.0, penalty=None, solver=sag;, score=nan total time=   0.0s\n",
            "[CV 1/5; 34/60] START C=1.0, penalty=elasticnet, solver=liblinear...............\n",
            "[CV 1/5; 34/60] END C=1.0, penalty=elasticnet, solver=liblinear;, score=nan total time=   0.0s\n",
            "[CV 2/5; 34/60] START C=1.0, penalty=elasticnet, solver=liblinear...............\n",
            "[CV 2/5; 34/60] END C=1.0, penalty=elasticnet, solver=liblinear;, score=nan total time=   0.0s\n",
            "[CV 3/5; 34/60] START C=1.0, penalty=elasticnet, solver=liblinear...............\n",
            "[CV 3/5; 34/60] END C=1.0, penalty=elasticnet, solver=liblinear;, score=nan total time=   0.0s\n",
            "[CV 4/5; 34/60] START C=1.0, penalty=elasticnet, solver=liblinear...............\n",
            "[CV 4/5; 34/60] END C=1.0, penalty=elasticnet, solver=liblinear;, score=nan total time=   0.0s\n",
            "[CV 5/5; 34/60] START C=1.0, penalty=elasticnet, solver=liblinear...............\n",
            "[CV 5/5; 34/60] END C=1.0, penalty=elasticnet, solver=liblinear;, score=nan total time=   0.0s\n",
            "[CV 1/5; 35/60] START C=1.0, penalty=elasticnet, solver=newton-cg...............\n",
            "[CV 1/5; 35/60] END C=1.0, penalty=elasticnet, solver=newton-cg;, score=nan total time=   0.0s\n",
            "[CV 2/5; 35/60] START C=1.0, penalty=elasticnet, solver=newton-cg...............\n",
            "[CV 2/5; 35/60] END C=1.0, penalty=elasticnet, solver=newton-cg;, score=nan total time=   0.0s\n",
            "[CV 3/5; 35/60] START C=1.0, penalty=elasticnet, solver=newton-cg...............\n",
            "[CV 3/5; 35/60] END C=1.0, penalty=elasticnet, solver=newton-cg;, score=nan total time=   0.0s\n",
            "[CV 4/5; 35/60] START C=1.0, penalty=elasticnet, solver=newton-cg...............\n",
            "[CV 4/5; 35/60] END C=1.0, penalty=elasticnet, solver=newton-cg;, score=nan total time=   0.0s\n",
            "[CV 5/5; 35/60] START C=1.0, penalty=elasticnet, solver=newton-cg...............\n",
            "[CV 5/5; 35/60] END C=1.0, penalty=elasticnet, solver=newton-cg;, score=nan total time=   0.0s\n",
            "[CV 1/5; 36/60] START C=1.0, penalty=elasticnet, solver=sag.....................\n",
            "[CV 1/5; 36/60] END C=1.0, penalty=elasticnet, solver=sag;, score=nan total time=   0.0s\n",
            "[CV 2/5; 36/60] START C=1.0, penalty=elasticnet, solver=sag.....................\n",
            "[CV 2/5; 36/60] END C=1.0, penalty=elasticnet, solver=sag;, score=nan total time=   0.0s\n",
            "[CV 3/5; 36/60] START C=1.0, penalty=elasticnet, solver=sag.....................\n",
            "[CV 3/5; 36/60] END C=1.0, penalty=elasticnet, solver=sag;, score=nan total time=   0.0s\n",
            "[CV 4/5; 36/60] START C=1.0, penalty=elasticnet, solver=sag.....................\n",
            "[CV 4/5; 36/60] END C=1.0, penalty=elasticnet, solver=sag;, score=nan total time=   0.0s\n",
            "[CV 5/5; 36/60] START C=1.0, penalty=elasticnet, solver=sag.....................\n",
            "[CV 5/5; 36/60] END C=1.0, penalty=elasticnet, solver=sag;, score=nan total time=   0.0s\n",
            "[CV 1/5; 37/60] START C=0.1, penalty=l2, solver=liblinear.......................\n",
            "[CV 1/5; 37/60] END C=0.1, penalty=l2, solver=liblinear;, score=0.886 total time=   0.4s\n",
            "[CV 2/5; 37/60] START C=0.1, penalty=l2, solver=liblinear.......................\n",
            "[CV 2/5; 37/60] END C=0.1, penalty=l2, solver=liblinear;, score=0.897 total time=   0.4s\n",
            "[CV 3/5; 37/60] START C=0.1, penalty=l2, solver=liblinear.......................\n",
            "[CV 3/5; 37/60] END C=0.1, penalty=l2, solver=liblinear;, score=0.884 total time=   0.4s\n",
            "[CV 4/5; 37/60] START C=0.1, penalty=l2, solver=liblinear.......................\n",
            "[CV 4/5; 37/60] END C=0.1, penalty=l2, solver=liblinear;, score=0.888 total time=   0.5s\n",
            "[CV 5/5; 37/60] START C=0.1, penalty=l2, solver=liblinear.......................\n",
            "[CV 5/5; 37/60] END C=0.1, penalty=l2, solver=liblinear;, score=0.890 total time=   0.3s\n",
            "[CV 1/5; 38/60] START C=0.1, penalty=l2, solver=newton-cg.......................\n",
            "[CV 1/5; 38/60] END C=0.1, penalty=l2, solver=newton-cg;, score=0.855 total time=   0.9s\n",
            "[CV 2/5; 38/60] START C=0.1, penalty=l2, solver=newton-cg.......................\n",
            "[CV 2/5; 38/60] END C=0.1, penalty=l2, solver=newton-cg;, score=0.856 total time=   0.9s\n",
            "[CV 3/5; 38/60] START C=0.1, penalty=l2, solver=newton-cg.......................\n",
            "[CV 3/5; 38/60] END C=0.1, penalty=l2, solver=newton-cg;, score=0.841 total time=   1.0s\n",
            "[CV 4/5; 38/60] START C=0.1, penalty=l2, solver=newton-cg.......................\n",
            "[CV 4/5; 38/60] END C=0.1, penalty=l2, solver=newton-cg;, score=0.846 total time=   1.0s\n",
            "[CV 5/5; 38/60] START C=0.1, penalty=l2, solver=newton-cg.......................\n",
            "[CV 5/5; 38/60] END C=0.1, penalty=l2, solver=newton-cg;, score=0.857 total time=   0.9s\n",
            "[CV 1/5; 39/60] START C=0.1, penalty=l2, solver=sag.............................\n",
            "[CV 1/5; 39/60] END C=0.1, penalty=l2, solver=sag;, score=0.855 total time=   0.7s\n",
            "[CV 2/5; 39/60] START C=0.1, penalty=l2, solver=sag.............................\n",
            "[CV 2/5; 39/60] END C=0.1, penalty=l2, solver=sag;, score=0.856 total time=   0.7s\n",
            "[CV 3/5; 39/60] START C=0.1, penalty=l2, solver=sag.............................\n",
            "[CV 3/5; 39/60] END C=0.1, penalty=l2, solver=sag;, score=0.841 total time=   0.4s\n",
            "[CV 4/5; 39/60] START C=0.1, penalty=l2, solver=sag.............................\n",
            "[CV 4/5; 39/60] END C=0.1, penalty=l2, solver=sag;, score=0.846 total time=   0.7s\n",
            "[CV 5/5; 39/60] START C=0.1, penalty=l2, solver=sag.............................\n",
            "[CV 5/5; 39/60] END C=0.1, penalty=l2, solver=sag;, score=0.857 total time=   0.7s\n",
            "[CV 1/5; 40/60] START C=0.1, penalty=l1, solver=liblinear.......................\n",
            "[CV 1/5; 40/60] END C=0.1, penalty=l1, solver=liblinear;, score=0.885 total time=   0.1s\n",
            "[CV 2/5; 40/60] START C=0.1, penalty=l1, solver=liblinear.......................\n",
            "[CV 2/5; 40/60] END C=0.1, penalty=l1, solver=liblinear;, score=0.896 total time=   0.1s\n",
            "[CV 3/5; 40/60] START C=0.1, penalty=l1, solver=liblinear.......................\n",
            "[CV 3/5; 40/60] END C=0.1, penalty=l1, solver=liblinear;, score=0.883 total time=   0.1s\n",
            "[CV 4/5; 40/60] START C=0.1, penalty=l1, solver=liblinear.......................\n",
            "[CV 4/5; 40/60] END C=0.1, penalty=l1, solver=liblinear;, score=0.881 total time=   0.1s\n",
            "[CV 5/5; 40/60] START C=0.1, penalty=l1, solver=liblinear.......................\n",
            "[CV 5/5; 40/60] END C=0.1, penalty=l1, solver=liblinear;, score=0.887 total time=   0.1s\n",
            "[CV 1/5; 41/60] START C=0.1, penalty=l1, solver=newton-cg.......................\n",
            "[CV 1/5; 41/60] END C=0.1, penalty=l1, solver=newton-cg;, score=nan total time=   0.0s\n",
            "[CV 2/5; 41/60] START C=0.1, penalty=l1, solver=newton-cg.......................\n",
            "[CV 2/5; 41/60] END C=0.1, penalty=l1, solver=newton-cg;, score=nan total time=   0.0s\n",
            "[CV 3/5; 41/60] START C=0.1, penalty=l1, solver=newton-cg.......................\n",
            "[CV 3/5; 41/60] END C=0.1, penalty=l1, solver=newton-cg;, score=nan total time=   0.0s\n",
            "[CV 4/5; 41/60] START C=0.1, penalty=l1, solver=newton-cg.......................\n",
            "[CV 4/5; 41/60] END C=0.1, penalty=l1, solver=newton-cg;, score=nan total time=   0.0s\n",
            "[CV 5/5; 41/60] START C=0.1, penalty=l1, solver=newton-cg.......................\n",
            "[CV 5/5; 41/60] END C=0.1, penalty=l1, solver=newton-cg;, score=nan total time=   0.0s\n",
            "[CV 1/5; 42/60] START C=0.1, penalty=l1, solver=sag.............................\n",
            "[CV 1/5; 42/60] END C=0.1, penalty=l1, solver=sag;, score=nan total time=   0.0s\n",
            "[CV 2/5; 42/60] START C=0.1, penalty=l1, solver=sag.............................\n",
            "[CV 2/5; 42/60] END C=0.1, penalty=l1, solver=sag;, score=nan total time=   0.0s\n",
            "[CV 3/5; 42/60] START C=0.1, penalty=l1, solver=sag.............................\n",
            "[CV 3/5; 42/60] END C=0.1, penalty=l1, solver=sag;, score=nan total time=   0.0s\n",
            "[CV 4/5; 42/60] START C=0.1, penalty=l1, solver=sag.............................\n",
            "[CV 4/5; 42/60] END C=0.1, penalty=l1, solver=sag;, score=nan total time=   0.0s\n",
            "[CV 5/5; 42/60] START C=0.1, penalty=l1, solver=sag.............................\n",
            "[CV 5/5; 42/60] END C=0.1, penalty=l1, solver=sag;, score=nan total time=   0.0s\n",
            "[CV 1/5; 43/60] START C=0.1, penalty=None, solver=liblinear.....................\n",
            "[CV 1/5; 43/60] END C=0.1, penalty=None, solver=liblinear;, score=nan total time=   0.0s\n",
            "[CV 2/5; 43/60] START C=0.1, penalty=None, solver=liblinear.....................\n",
            "[CV 2/5; 43/60] END C=0.1, penalty=None, solver=liblinear;, score=nan total time=   0.0s\n",
            "[CV 3/5; 43/60] START C=0.1, penalty=None, solver=liblinear.....................\n",
            "[CV 3/5; 43/60] END C=0.1, penalty=None, solver=liblinear;, score=nan total time=   0.0s\n",
            "[CV 4/5; 43/60] START C=0.1, penalty=None, solver=liblinear.....................\n",
            "[CV 4/5; 43/60] END C=0.1, penalty=None, solver=liblinear;, score=nan total time=   0.0s\n",
            "[CV 5/5; 43/60] START C=0.1, penalty=None, solver=liblinear.....................\n",
            "[CV 5/5; 43/60] END C=0.1, penalty=None, solver=liblinear;, score=nan total time=   0.0s\n",
            "[CV 1/5; 44/60] START C=0.1, penalty=None, solver=newton-cg.....................\n",
            "[CV 1/5; 44/60] END C=0.1, penalty=None, solver=newton-cg;, score=nan total time=   0.0s\n",
            "[CV 2/5; 44/60] START C=0.1, penalty=None, solver=newton-cg.....................\n",
            "[CV 2/5; 44/60] END C=0.1, penalty=None, solver=newton-cg;, score=nan total time=   0.0s\n",
            "[CV 3/5; 44/60] START C=0.1, penalty=None, solver=newton-cg.....................\n",
            "[CV 3/5; 44/60] END C=0.1, penalty=None, solver=newton-cg;, score=nan total time=   0.0s\n",
            "[CV 4/5; 44/60] START C=0.1, penalty=None, solver=newton-cg.....................\n",
            "[CV 4/5; 44/60] END C=0.1, penalty=None, solver=newton-cg;, score=nan total time=   0.0s\n",
            "[CV 5/5; 44/60] START C=0.1, penalty=None, solver=newton-cg.....................\n",
            "[CV 5/5; 44/60] END C=0.1, penalty=None, solver=newton-cg;, score=nan total time=   0.0s\n",
            "[CV 1/5; 45/60] START C=0.1, penalty=None, solver=sag...........................\n",
            "[CV 1/5; 45/60] END C=0.1, penalty=None, solver=sag;, score=nan total time=   0.0s\n",
            "[CV 2/5; 45/60] START C=0.1, penalty=None, solver=sag...........................\n",
            "[CV 2/5; 45/60] END C=0.1, penalty=None, solver=sag;, score=nan total time=   0.0s\n",
            "[CV 3/5; 45/60] START C=0.1, penalty=None, solver=sag...........................\n",
            "[CV 3/5; 45/60] END C=0.1, penalty=None, solver=sag;, score=nan total time=   0.0s\n",
            "[CV 4/5; 45/60] START C=0.1, penalty=None, solver=sag...........................\n",
            "[CV 4/5; 45/60] END C=0.1, penalty=None, solver=sag;, score=nan total time=   0.0s\n",
            "[CV 5/5; 45/60] START C=0.1, penalty=None, solver=sag...........................\n",
            "[CV 5/5; 45/60] END C=0.1, penalty=None, solver=sag;, score=nan total time=   0.0s\n",
            "[CV 1/5; 46/60] START C=0.1, penalty=elasticnet, solver=liblinear...............\n",
            "[CV 1/5; 46/60] END C=0.1, penalty=elasticnet, solver=liblinear;, score=nan total time=   0.0s\n",
            "[CV 2/5; 46/60] START C=0.1, penalty=elasticnet, solver=liblinear...............\n",
            "[CV 2/5; 46/60] END C=0.1, penalty=elasticnet, solver=liblinear;, score=nan total time=   0.0s\n",
            "[CV 3/5; 46/60] START C=0.1, penalty=elasticnet, solver=liblinear...............\n",
            "[CV 3/5; 46/60] END C=0.1, penalty=elasticnet, solver=liblinear;, score=nan total time=   0.0s\n",
            "[CV 4/5; 46/60] START C=0.1, penalty=elasticnet, solver=liblinear...............\n",
            "[CV 4/5; 46/60] END C=0.1, penalty=elasticnet, solver=liblinear;, score=nan total time=   0.0s\n",
            "[CV 5/5; 46/60] START C=0.1, penalty=elasticnet, solver=liblinear...............\n",
            "[CV 5/5; 46/60] END C=0.1, penalty=elasticnet, solver=liblinear;, score=nan total time=   0.0s\n",
            "[CV 1/5; 47/60] START C=0.1, penalty=elasticnet, solver=newton-cg...............\n",
            "[CV 1/5; 47/60] END C=0.1, penalty=elasticnet, solver=newton-cg;, score=nan total time=   0.0s\n",
            "[CV 2/5; 47/60] START C=0.1, penalty=elasticnet, solver=newton-cg...............\n",
            "[CV 2/5; 47/60] END C=0.1, penalty=elasticnet, solver=newton-cg;, score=nan total time=   0.0s\n",
            "[CV 3/5; 47/60] START C=0.1, penalty=elasticnet, solver=newton-cg...............\n",
            "[CV 3/5; 47/60] END C=0.1, penalty=elasticnet, solver=newton-cg;, score=nan total time=   0.0s\n",
            "[CV 4/5; 47/60] START C=0.1, penalty=elasticnet, solver=newton-cg...............\n",
            "[CV 4/5; 47/60] END C=0.1, penalty=elasticnet, solver=newton-cg;, score=nan total time=   0.0s\n",
            "[CV 5/5; 47/60] START C=0.1, penalty=elasticnet, solver=newton-cg...............\n",
            "[CV 5/5; 47/60] END C=0.1, penalty=elasticnet, solver=newton-cg;, score=nan total time=   0.0s\n",
            "[CV 1/5; 48/60] START C=0.1, penalty=elasticnet, solver=sag.....................\n",
            "[CV 1/5; 48/60] END C=0.1, penalty=elasticnet, solver=sag;, score=nan total time=   0.0s\n",
            "[CV 2/5; 48/60] START C=0.1, penalty=elasticnet, solver=sag.....................\n",
            "[CV 2/5; 48/60] END C=0.1, penalty=elasticnet, solver=sag;, score=nan total time=   0.0s\n",
            "[CV 3/5; 48/60] START C=0.1, penalty=elasticnet, solver=sag.....................\n",
            "[CV 3/5; 48/60] END C=0.1, penalty=elasticnet, solver=sag;, score=nan total time=   0.0s\n",
            "[CV 4/5; 48/60] START C=0.1, penalty=elasticnet, solver=sag.....................\n",
            "[CV 4/5; 48/60] END C=0.1, penalty=elasticnet, solver=sag;, score=nan total time=   0.0s\n",
            "[CV 5/5; 48/60] START C=0.1, penalty=elasticnet, solver=sag.....................\n",
            "[CV 5/5; 48/60] END C=0.1, penalty=elasticnet, solver=sag;, score=nan total time=   0.0s\n",
            "[CV 1/5; 49/60] START C=0.01, penalty=l2, solver=liblinear......................\n",
            "[CV 1/5; 49/60] END C=0.01, penalty=l2, solver=liblinear;, score=0.877 total time=   0.2s\n",
            "[CV 2/5; 49/60] START C=0.01, penalty=l2, solver=liblinear......................\n",
            "[CV 2/5; 49/60] END C=0.01, penalty=l2, solver=liblinear;, score=0.886 total time=   0.2s\n",
            "[CV 3/5; 49/60] START C=0.01, penalty=l2, solver=liblinear......................\n",
            "[CV 3/5; 49/60] END C=0.01, penalty=l2, solver=liblinear;, score=0.875 total time=   0.2s\n",
            "[CV 4/5; 49/60] START C=0.01, penalty=l2, solver=liblinear......................\n",
            "[CV 4/5; 49/60] END C=0.01, penalty=l2, solver=liblinear;, score=0.877 total time=   0.2s\n",
            "[CV 5/5; 49/60] START C=0.01, penalty=l2, solver=liblinear......................\n",
            "[CV 5/5; 49/60] END C=0.01, penalty=l2, solver=liblinear;, score=0.878 total time=   0.1s\n",
            "[CV 1/5; 50/60] START C=0.01, penalty=l2, solver=newton-cg......................\n",
            "[CV 1/5; 50/60] END C=0.01, penalty=l2, solver=newton-cg;, score=0.822 total time=   0.8s\n",
            "[CV 2/5; 50/60] START C=0.01, penalty=l2, solver=newton-cg......................\n",
            "[CV 2/5; 50/60] END C=0.01, penalty=l2, solver=newton-cg;, score=0.826 total time=   1.3s\n",
            "[CV 3/5; 50/60] START C=0.01, penalty=l2, solver=newton-cg......................\n",
            "[CV 3/5; 50/60] END C=0.01, penalty=l2, solver=newton-cg;, score=0.810 total time=   1.4s\n",
            "[CV 4/5; 50/60] START C=0.01, penalty=l2, solver=newton-cg......................\n",
            "[CV 4/5; 50/60] END C=0.01, penalty=l2, solver=newton-cg;, score=0.824 total time=   0.7s\n",
            "[CV 5/5; 50/60] START C=0.01, penalty=l2, solver=newton-cg......................\n",
            "[CV 5/5; 50/60] END C=0.01, penalty=l2, solver=newton-cg;, score=0.825 total time=   0.7s\n",
            "[CV 1/5; 51/60] START C=0.01, penalty=l2, solver=sag............................\n",
            "[CV 1/5; 51/60] END C=0.01, penalty=l2, solver=sag;, score=0.822 total time=   0.3s\n",
            "[CV 2/5; 51/60] START C=0.01, penalty=l2, solver=sag............................\n",
            "[CV 2/5; 51/60] END C=0.01, penalty=l2, solver=sag;, score=0.826 total time=   0.2s\n",
            "[CV 3/5; 51/60] START C=0.01, penalty=l2, solver=sag............................\n",
            "[CV 3/5; 51/60] END C=0.01, penalty=l2, solver=sag;, score=0.810 total time=   0.1s\n",
            "[CV 4/5; 51/60] START C=0.01, penalty=l2, solver=sag............................\n",
            "[CV 4/5; 51/60] END C=0.01, penalty=l2, solver=sag;, score=0.824 total time=   0.2s\n",
            "[CV 5/5; 51/60] START C=0.01, penalty=l2, solver=sag............................\n",
            "[CV 5/5; 51/60] END C=0.01, penalty=l2, solver=sag;, score=0.825 total time=   0.2s\n",
            "[CV 1/5; 52/60] START C=0.01, penalty=l1, solver=liblinear......................\n",
            "[CV 1/5; 52/60] END C=0.01, penalty=l1, solver=liblinear;, score=0.833 total time=   0.1s\n",
            "[CV 2/5; 52/60] START C=0.01, penalty=l1, solver=liblinear......................\n",
            "[CV 2/5; 52/60] END C=0.01, penalty=l1, solver=liblinear;, score=0.836 total time=   0.1s\n",
            "[CV 3/5; 52/60] START C=0.01, penalty=l1, solver=liblinear......................\n",
            "[CV 3/5; 52/60] END C=0.01, penalty=l1, solver=liblinear;, score=0.823 total time=   0.1s\n",
            "[CV 4/5; 52/60] START C=0.01, penalty=l1, solver=liblinear......................\n",
            "[CV 4/5; 52/60] END C=0.01, penalty=l1, solver=liblinear;, score=0.825 total time=   0.1s\n",
            "[CV 5/5; 52/60] START C=0.01, penalty=l1, solver=liblinear......................\n",
            "[CV 5/5; 52/60] END C=0.01, penalty=l1, solver=liblinear;, score=0.828 total time=   0.1s\n",
            "[CV 1/5; 53/60] START C=0.01, penalty=l1, solver=newton-cg......................\n",
            "[CV 1/5; 53/60] END C=0.01, penalty=l1, solver=newton-cg;, score=nan total time=   0.0s\n",
            "[CV 2/5; 53/60] START C=0.01, penalty=l1, solver=newton-cg......................\n",
            "[CV 2/5; 53/60] END C=0.01, penalty=l1, solver=newton-cg;, score=nan total time=   0.0s\n",
            "[CV 3/5; 53/60] START C=0.01, penalty=l1, solver=newton-cg......................\n",
            "[CV 3/5; 53/60] END C=0.01, penalty=l1, solver=newton-cg;, score=nan total time=   0.0s\n",
            "[CV 4/5; 53/60] START C=0.01, penalty=l1, solver=newton-cg......................\n",
            "[CV 4/5; 53/60] END C=0.01, penalty=l1, solver=newton-cg;, score=nan total time=   0.0s\n",
            "[CV 5/5; 53/60] START C=0.01, penalty=l1, solver=newton-cg......................\n",
            "[CV 5/5; 53/60] END C=0.01, penalty=l1, solver=newton-cg;, score=nan total time=   0.0s\n",
            "[CV 1/5; 54/60] START C=0.01, penalty=l1, solver=sag............................\n",
            "[CV 1/5; 54/60] END C=0.01, penalty=l1, solver=sag;, score=nan total time=   0.0s\n",
            "[CV 2/5; 54/60] START C=0.01, penalty=l1, solver=sag............................\n",
            "[CV 2/5; 54/60] END C=0.01, penalty=l1, solver=sag;, score=nan total time=   0.0s\n",
            "[CV 3/5; 54/60] START C=0.01, penalty=l1, solver=sag............................\n",
            "[CV 3/5; 54/60] END C=0.01, penalty=l1, solver=sag;, score=nan total time=   0.0s\n",
            "[CV 4/5; 54/60] START C=0.01, penalty=l1, solver=sag............................\n",
            "[CV 4/5; 54/60] END C=0.01, penalty=l1, solver=sag;, score=nan total time=   0.0s\n",
            "[CV 5/5; 54/60] START C=0.01, penalty=l1, solver=sag............................\n",
            "[CV 5/5; 54/60] END C=0.01, penalty=l1, solver=sag;, score=nan total time=   0.0s\n",
            "[CV 1/5; 55/60] START C=0.01, penalty=None, solver=liblinear....................\n",
            "[CV 1/5; 55/60] END C=0.01, penalty=None, solver=liblinear;, score=nan total time=   0.0s\n",
            "[CV 2/5; 55/60] START C=0.01, penalty=None, solver=liblinear....................\n",
            "[CV 2/5; 55/60] END C=0.01, penalty=None, solver=liblinear;, score=nan total time=   0.0s\n",
            "[CV 3/5; 55/60] START C=0.01, penalty=None, solver=liblinear....................\n",
            "[CV 3/5; 55/60] END C=0.01, penalty=None, solver=liblinear;, score=nan total time=   0.0s\n",
            "[CV 4/5; 55/60] START C=0.01, penalty=None, solver=liblinear....................\n",
            "[CV 4/5; 55/60] END C=0.01, penalty=None, solver=liblinear;, score=nan total time=   0.0s\n",
            "[CV 5/5; 55/60] START C=0.01, penalty=None, solver=liblinear....................\n",
            "[CV 5/5; 55/60] END C=0.01, penalty=None, solver=liblinear;, score=nan total time=   0.0s\n",
            "[CV 1/5; 56/60] START C=0.01, penalty=None, solver=newton-cg....................\n",
            "[CV 1/5; 56/60] END C=0.01, penalty=None, solver=newton-cg;, score=nan total time=   0.0s\n",
            "[CV 2/5; 56/60] START C=0.01, penalty=None, solver=newton-cg....................\n",
            "[CV 2/5; 56/60] END C=0.01, penalty=None, solver=newton-cg;, score=nan total time=   0.0s\n",
            "[CV 3/5; 56/60] START C=0.01, penalty=None, solver=newton-cg....................\n",
            "[CV 3/5; 56/60] END C=0.01, penalty=None, solver=newton-cg;, score=nan total time=   0.0s\n",
            "[CV 4/5; 56/60] START C=0.01, penalty=None, solver=newton-cg....................\n",
            "[CV 4/5; 56/60] END C=0.01, penalty=None, solver=newton-cg;, score=nan total time=   0.0s\n",
            "[CV 5/5; 56/60] START C=0.01, penalty=None, solver=newton-cg....................\n",
            "[CV 5/5; 56/60] END C=0.01, penalty=None, solver=newton-cg;, score=nan total time=   0.0s\n",
            "[CV 1/5; 57/60] START C=0.01, penalty=None, solver=sag..........................\n",
            "[CV 1/5; 57/60] END C=0.01, penalty=None, solver=sag;, score=nan total time=   0.0s\n",
            "[CV 2/5; 57/60] START C=0.01, penalty=None, solver=sag..........................\n",
            "[CV 2/5; 57/60] END C=0.01, penalty=None, solver=sag;, score=nan total time=   0.0s\n",
            "[CV 3/5; 57/60] START C=0.01, penalty=None, solver=sag..........................\n",
            "[CV 3/5; 57/60] END C=0.01, penalty=None, solver=sag;, score=nan total time=   0.0s\n",
            "[CV 4/5; 57/60] START C=0.01, penalty=None, solver=sag..........................\n",
            "[CV 4/5; 57/60] END C=0.01, penalty=None, solver=sag;, score=nan total time=   0.0s\n",
            "[CV 5/5; 57/60] START C=0.01, penalty=None, solver=sag..........................\n",
            "[CV 5/5; 57/60] END C=0.01, penalty=None, solver=sag;, score=nan total time=   0.0s\n",
            "[CV 1/5; 58/60] START C=0.01, penalty=elasticnet, solver=liblinear..............\n",
            "[CV 1/5; 58/60] END C=0.01, penalty=elasticnet, solver=liblinear;, score=nan total time=   0.0s\n",
            "[CV 2/5; 58/60] START C=0.01, penalty=elasticnet, solver=liblinear..............\n",
            "[CV 2/5; 58/60] END C=0.01, penalty=elasticnet, solver=liblinear;, score=nan total time=   0.0s\n",
            "[CV 3/5; 58/60] START C=0.01, penalty=elasticnet, solver=liblinear..............\n",
            "[CV 3/5; 58/60] END C=0.01, penalty=elasticnet, solver=liblinear;, score=nan total time=   0.0s\n",
            "[CV 4/5; 58/60] START C=0.01, penalty=elasticnet, solver=liblinear..............\n",
            "[CV 4/5; 58/60] END C=0.01, penalty=elasticnet, solver=liblinear;, score=nan total time=   0.0s\n",
            "[CV 5/5; 58/60] START C=0.01, penalty=elasticnet, solver=liblinear..............\n",
            "[CV 5/5; 58/60] END C=0.01, penalty=elasticnet, solver=liblinear;, score=nan total time=   0.0s\n",
            "[CV 1/5; 59/60] START C=0.01, penalty=elasticnet, solver=newton-cg..............\n",
            "[CV 1/5; 59/60] END C=0.01, penalty=elasticnet, solver=newton-cg;, score=nan total time=   0.0s\n",
            "[CV 2/5; 59/60] START C=0.01, penalty=elasticnet, solver=newton-cg..............\n",
            "[CV 2/5; 59/60] END C=0.01, penalty=elasticnet, solver=newton-cg;, score=nan total time=   0.0s\n",
            "[CV 3/5; 59/60] START C=0.01, penalty=elasticnet, solver=newton-cg..............\n",
            "[CV 3/5; 59/60] END C=0.01, penalty=elasticnet, solver=newton-cg;, score=nan total time=   0.0s\n",
            "[CV 4/5; 59/60] START C=0.01, penalty=elasticnet, solver=newton-cg..............\n",
            "[CV 4/5; 59/60] END C=0.01, penalty=elasticnet, solver=newton-cg;, score=nan total time=   0.0s\n",
            "[CV 5/5; 59/60] START C=0.01, penalty=elasticnet, solver=newton-cg..............\n",
            "[CV 5/5; 59/60] END C=0.01, penalty=elasticnet, solver=newton-cg;, score=nan total time=   0.0s\n",
            "[CV 1/5; 60/60] START C=0.01, penalty=elasticnet, solver=sag....................\n",
            "[CV 1/5; 60/60] END C=0.01, penalty=elasticnet, solver=sag;, score=nan total time=   0.0s\n",
            "[CV 2/5; 60/60] START C=0.01, penalty=elasticnet, solver=sag....................\n",
            "[CV 2/5; 60/60] END C=0.01, penalty=elasticnet, solver=sag;, score=nan total time=   0.0s\n",
            "[CV 3/5; 60/60] START C=0.01, penalty=elasticnet, solver=sag....................\n",
            "[CV 3/5; 60/60] END C=0.01, penalty=elasticnet, solver=sag;, score=nan total time=   0.0s\n",
            "[CV 4/5; 60/60] START C=0.01, penalty=elasticnet, solver=sag....................\n",
            "[CV 4/5; 60/60] END C=0.01, penalty=elasticnet, solver=sag;, score=nan total time=   0.0s\n",
            "[CV 5/5; 60/60] START C=0.01, penalty=elasticnet, solver=sag....................\n",
            "[CV 5/5; 60/60] END C=0.01, penalty=elasticnet, solver=sag;, score=nan total time=   0.0s\n"
          ]
        },
        {
          "output_type": "stream",
          "name": "stderr",
          "text": [
            "/usr/local/lib/python3.8/dist-packages/sklearn/model_selection/_validation.py:378: FitFailedWarning: \n",
            "200 fits failed out of a total of 300.\n",
            "The score on these train-test partitions for these parameters will be set to nan.\n",
            "If these failures are not expected, you can try to debug them by setting error_score='raise'.\n",
            "\n",
            "Below are more details about the failures:\n",
            "--------------------------------------------------------------------------------\n",
            "25 fits failed with the following error:\n",
            "Traceback (most recent call last):\n",
            "  File \"/usr/local/lib/python3.8/dist-packages/sklearn/model_selection/_validation.py\", line 686, in _fit_and_score\n",
            "    estimator.fit(X_train, y_train, **fit_params)\n",
            "  File \"/usr/local/lib/python3.8/dist-packages/sklearn/linear_model/_logistic.py\", line 1162, in fit\n",
            "    solver = _check_solver(self.solver, self.penalty, self.dual)\n",
            "  File \"/usr/local/lib/python3.8/dist-packages/sklearn/linear_model/_logistic.py\", line 54, in _check_solver\n",
            "    raise ValueError(\n",
            "ValueError: Solver newton-cg supports only 'l2' or 'none' penalties, got l1 penalty.\n",
            "\n",
            "--------------------------------------------------------------------------------\n",
            "25 fits failed with the following error:\n",
            "Traceback (most recent call last):\n",
            "  File \"/usr/local/lib/python3.8/dist-packages/sklearn/model_selection/_validation.py\", line 686, in _fit_and_score\n",
            "    estimator.fit(X_train, y_train, **fit_params)\n",
            "  File \"/usr/local/lib/python3.8/dist-packages/sklearn/linear_model/_logistic.py\", line 1162, in fit\n",
            "    solver = _check_solver(self.solver, self.penalty, self.dual)\n",
            "  File \"/usr/local/lib/python3.8/dist-packages/sklearn/linear_model/_logistic.py\", line 54, in _check_solver\n",
            "    raise ValueError(\n",
            "ValueError: Solver sag supports only 'l2' or 'none' penalties, got l1 penalty.\n",
            "\n",
            "--------------------------------------------------------------------------------\n",
            "75 fits failed with the following error:\n",
            "Traceback (most recent call last):\n",
            "  File \"/usr/local/lib/python3.8/dist-packages/sklearn/model_selection/_validation.py\", line 686, in _fit_and_score\n",
            "    estimator.fit(X_train, y_train, **fit_params)\n",
            "  File \"/usr/local/lib/python3.8/dist-packages/sklearn/linear_model/_logistic.py\", line 1160, in fit\n",
            "    self._validate_params()\n",
            "  File \"/usr/local/lib/python3.8/dist-packages/sklearn/base.py\", line 581, in _validate_params\n",
            "    validate_parameter_constraints(\n",
            "  File \"/usr/local/lib/python3.8/dist-packages/sklearn/utils/_param_validation.py\", line 97, in validate_parameter_constraints\n",
            "    raise InvalidParameterError(\n",
            "sklearn.utils._param_validation.InvalidParameterError: The 'penalty' parameter of LogisticRegression must be a str among {'elasticnet', 'none' (deprecated), 'l2', 'l1'} or None. Got 'None' instead.\n",
            "\n",
            "--------------------------------------------------------------------------------\n",
            "25 fits failed with the following error:\n",
            "Traceback (most recent call last):\n",
            "  File \"/usr/local/lib/python3.8/dist-packages/sklearn/model_selection/_validation.py\", line 686, in _fit_and_score\n",
            "    estimator.fit(X_train, y_train, **fit_params)\n",
            "  File \"/usr/local/lib/python3.8/dist-packages/sklearn/linear_model/_logistic.py\", line 1162, in fit\n",
            "    solver = _check_solver(self.solver, self.penalty, self.dual)\n",
            "  File \"/usr/local/lib/python3.8/dist-packages/sklearn/linear_model/_logistic.py\", line 64, in _check_solver\n",
            "    raise ValueError(\n",
            "ValueError: Only 'saga' solver supports elasticnet penalty, got solver=liblinear.\n",
            "\n",
            "--------------------------------------------------------------------------------\n",
            "25 fits failed with the following error:\n",
            "Traceback (most recent call last):\n",
            "  File \"/usr/local/lib/python3.8/dist-packages/sklearn/model_selection/_validation.py\", line 686, in _fit_and_score\n",
            "    estimator.fit(X_train, y_train, **fit_params)\n",
            "  File \"/usr/local/lib/python3.8/dist-packages/sklearn/linear_model/_logistic.py\", line 1162, in fit\n",
            "    solver = _check_solver(self.solver, self.penalty, self.dual)\n",
            "  File \"/usr/local/lib/python3.8/dist-packages/sklearn/linear_model/_logistic.py\", line 54, in _check_solver\n",
            "    raise ValueError(\n",
            "ValueError: Solver newton-cg supports only 'l2' or 'none' penalties, got elasticnet penalty.\n",
            "\n",
            "--------------------------------------------------------------------------------\n",
            "25 fits failed with the following error:\n",
            "Traceback (most recent call last):\n",
            "  File \"/usr/local/lib/python3.8/dist-packages/sklearn/model_selection/_validation.py\", line 686, in _fit_and_score\n",
            "    estimator.fit(X_train, y_train, **fit_params)\n",
            "  File \"/usr/local/lib/python3.8/dist-packages/sklearn/linear_model/_logistic.py\", line 1162, in fit\n",
            "    solver = _check_solver(self.solver, self.penalty, self.dual)\n",
            "  File \"/usr/local/lib/python3.8/dist-packages/sklearn/linear_model/_logistic.py\", line 54, in _check_solver\n",
            "    raise ValueError(\n",
            "ValueError: Solver sag supports only 'l2' or 'none' penalties, got elasticnet penalty.\n",
            "\n",
            "  warnings.warn(some_fits_failed_message, FitFailedWarning)\n",
            "/usr/local/lib/python3.8/dist-packages/sklearn/model_selection/_search.py:952: UserWarning: One or more of the test scores are non-finite: [0.86321039 0.84525416 0.86689197 0.84580905        nan        nan\n",
            "        nan        nan        nan        nan        nan        nan\n",
            " 0.88091407 0.85962889 0.86694244 0.87576955        nan        nan\n",
            "        nan        nan        nan        nan        nan        nan\n",
            " 0.89327171 0.8682539  0.86779987 0.89448214        nan        nan\n",
            "        nan        nan        nan        nan        nan        nan\n",
            " 0.8889339  0.85110441 0.85105397 0.88621009        nan        nan\n",
            "        nan        nan        nan        nan        nan        nan\n",
            " 0.87859386 0.82159788 0.82159788 0.82865914        nan        nan\n",
            "        nan        nan        nan        nan        nan        nan]\n",
            "  warnings.warn(\n",
            "/usr/local/lib/python3.8/dist-packages/sklearn/svm/_base.py:1244: ConvergenceWarning: Liblinear failed to converge, increase the number of iterations.\n",
            "  warnings.warn(\n"
          ]
        },
        {
          "output_type": "execute_result",
          "data": {
            "text/plain": [
              "GridSearchCV(cv=5,\n",
              "             estimator=LogisticRegression(class_weight='balanced',\n",
              "                                          random_state=42),\n",
              "             param_grid=[{'C': [100, 10, 1.0, 0.1, 0.01],\n",
              "                          'penalty': ['l2', 'l1', 'None', 'elasticnet'],\n",
              "                          'solver': ['liblinear', 'newton-cg', 'sag']}],\n",
              "             scoring='f1_micro', verbose=10)"
            ],
            "text/html": [
              "<style>#sk-container-id-2 {color: black;background-color: white;}#sk-container-id-2 pre{padding: 0;}#sk-container-id-2 div.sk-toggleable {background-color: white;}#sk-container-id-2 label.sk-toggleable__label {cursor: pointer;display: block;width: 100%;margin-bottom: 0;padding: 0.3em;box-sizing: border-box;text-align: center;}#sk-container-id-2 label.sk-toggleable__label-arrow:before {content: \"▸\";float: left;margin-right: 0.25em;color: #696969;}#sk-container-id-2 label.sk-toggleable__label-arrow:hover:before {color: black;}#sk-container-id-2 div.sk-estimator:hover label.sk-toggleable__label-arrow:before {color: black;}#sk-container-id-2 div.sk-toggleable__content {max-height: 0;max-width: 0;overflow: hidden;text-align: left;background-color: #f0f8ff;}#sk-container-id-2 div.sk-toggleable__content pre {margin: 0.2em;color: black;border-radius: 0.25em;background-color: #f0f8ff;}#sk-container-id-2 input.sk-toggleable__control:checked~div.sk-toggleable__content {max-height: 200px;max-width: 100%;overflow: auto;}#sk-container-id-2 input.sk-toggleable__control:checked~label.sk-toggleable__label-arrow:before {content: \"▾\";}#sk-container-id-2 div.sk-estimator input.sk-toggleable__control:checked~label.sk-toggleable__label {background-color: #d4ebff;}#sk-container-id-2 div.sk-label input.sk-toggleable__control:checked~label.sk-toggleable__label {background-color: #d4ebff;}#sk-container-id-2 input.sk-hidden--visually {border: 0;clip: rect(1px 1px 1px 1px);clip: rect(1px, 1px, 1px, 1px);height: 1px;margin: -1px;overflow: hidden;padding: 0;position: absolute;width: 1px;}#sk-container-id-2 div.sk-estimator {font-family: monospace;background-color: #f0f8ff;border: 1px dotted black;border-radius: 0.25em;box-sizing: border-box;margin-bottom: 0.5em;}#sk-container-id-2 div.sk-estimator:hover {background-color: #d4ebff;}#sk-container-id-2 div.sk-parallel-item::after {content: \"\";width: 100%;border-bottom: 1px solid gray;flex-grow: 1;}#sk-container-id-2 div.sk-label:hover label.sk-toggleable__label {background-color: #d4ebff;}#sk-container-id-2 div.sk-serial::before {content: \"\";position: absolute;border-left: 1px solid gray;box-sizing: border-box;top: 0;bottom: 0;left: 50%;z-index: 0;}#sk-container-id-2 div.sk-serial {display: flex;flex-direction: column;align-items: center;background-color: white;padding-right: 0.2em;padding-left: 0.2em;position: relative;}#sk-container-id-2 div.sk-item {position: relative;z-index: 1;}#sk-container-id-2 div.sk-parallel {display: flex;align-items: stretch;justify-content: center;background-color: white;position: relative;}#sk-container-id-2 div.sk-item::before, #sk-container-id-2 div.sk-parallel-item::before {content: \"\";position: absolute;border-left: 1px solid gray;box-sizing: border-box;top: 0;bottom: 0;left: 50%;z-index: -1;}#sk-container-id-2 div.sk-parallel-item {display: flex;flex-direction: column;z-index: 1;position: relative;background-color: white;}#sk-container-id-2 div.sk-parallel-item:first-child::after {align-self: flex-end;width: 50%;}#sk-container-id-2 div.sk-parallel-item:last-child::after {align-self: flex-start;width: 50%;}#sk-container-id-2 div.sk-parallel-item:only-child::after {width: 0;}#sk-container-id-2 div.sk-dashed-wrapped {border: 1px dashed gray;margin: 0 0.4em 0.5em 0.4em;box-sizing: border-box;padding-bottom: 0.4em;background-color: white;}#sk-container-id-2 div.sk-label label {font-family: monospace;font-weight: bold;display: inline-block;line-height: 1.2em;}#sk-container-id-2 div.sk-label-container {text-align: center;}#sk-container-id-2 div.sk-container {/* jupyter's `normalize.less` sets `[hidden] { display: none; }` but bootstrap.min.css set `[hidden] { display: none !important; }` so we also need the `!important` here to be able to override the default hidden behavior on the sphinx rendered scikit-learn.org. See: https://github.com/scikit-learn/scikit-learn/issues/21755 */display: inline-block !important;position: relative;}#sk-container-id-2 div.sk-text-repr-fallback {display: none;}</style><div id=\"sk-container-id-2\" class=\"sk-top-container\"><div class=\"sk-text-repr-fallback\"><pre>GridSearchCV(cv=5,\n",
              "             estimator=LogisticRegression(class_weight=&#x27;balanced&#x27;,\n",
              "                                          random_state=42),\n",
              "             param_grid=[{&#x27;C&#x27;: [100, 10, 1.0, 0.1, 0.01],\n",
              "                          &#x27;penalty&#x27;: [&#x27;l2&#x27;, &#x27;l1&#x27;, &#x27;None&#x27;, &#x27;elasticnet&#x27;],\n",
              "                          &#x27;solver&#x27;: [&#x27;liblinear&#x27;, &#x27;newton-cg&#x27;, &#x27;sag&#x27;]}],\n",
              "             scoring=&#x27;f1_micro&#x27;, verbose=10)</pre><b>In a Jupyter environment, please rerun this cell to show the HTML representation or trust the notebook. <br />On GitHub, the HTML representation is unable to render, please try loading this page with nbviewer.org.</b></div><div class=\"sk-container\" hidden><div class=\"sk-item sk-dashed-wrapped\"><div class=\"sk-label-container\"><div class=\"sk-label sk-toggleable\"><input class=\"sk-toggleable__control sk-hidden--visually\" id=\"sk-estimator-id-4\" type=\"checkbox\" ><label for=\"sk-estimator-id-4\" class=\"sk-toggleable__label sk-toggleable__label-arrow\">GridSearchCV</label><div class=\"sk-toggleable__content\"><pre>GridSearchCV(cv=5,\n",
              "             estimator=LogisticRegression(class_weight=&#x27;balanced&#x27;,\n",
              "                                          random_state=42),\n",
              "             param_grid=[{&#x27;C&#x27;: [100, 10, 1.0, 0.1, 0.01],\n",
              "                          &#x27;penalty&#x27;: [&#x27;l2&#x27;, &#x27;l1&#x27;, &#x27;None&#x27;, &#x27;elasticnet&#x27;],\n",
              "                          &#x27;solver&#x27;: [&#x27;liblinear&#x27;, &#x27;newton-cg&#x27;, &#x27;sag&#x27;]}],\n",
              "             scoring=&#x27;f1_micro&#x27;, verbose=10)</pre></div></div></div><div class=\"sk-parallel\"><div class=\"sk-parallel-item\"><div class=\"sk-item\"><div class=\"sk-label-container\"><div class=\"sk-label sk-toggleable\"><input class=\"sk-toggleable__control sk-hidden--visually\" id=\"sk-estimator-id-5\" type=\"checkbox\" ><label for=\"sk-estimator-id-5\" class=\"sk-toggleable__label sk-toggleable__label-arrow\">estimator: LogisticRegression</label><div class=\"sk-toggleable__content\"><pre>LogisticRegression(class_weight=&#x27;balanced&#x27;, random_state=42)</pre></div></div></div><div class=\"sk-serial\"><div class=\"sk-item\"><div class=\"sk-estimator sk-toggleable\"><input class=\"sk-toggleable__control sk-hidden--visually\" id=\"sk-estimator-id-6\" type=\"checkbox\" ><label for=\"sk-estimator-id-6\" class=\"sk-toggleable__label sk-toggleable__label-arrow\">LogisticRegression</label><div class=\"sk-toggleable__content\"><pre>LogisticRegression(class_weight=&#x27;balanced&#x27;, random_state=42)</pre></div></div></div></div></div></div></div></div></div></div>"
            ]
          },
          "metadata": {},
          "execution_count": 15
        }
      ]
    }
  ]
}